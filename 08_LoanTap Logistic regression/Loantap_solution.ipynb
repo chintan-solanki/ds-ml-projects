{
 "cells": [
  {
   "cell_type": "markdown",
   "id": "8b3b1ca1-51b2-4a78-b0f9-766dc256e55b",
   "metadata": {},
   "source": [
    "# Business Case: LoanTap Logistic Regression\n",
    "\n",
    "## Business Context:\n",
    "\n",
    "LoanTap is an online platform committed to delivering customized loan products to millennials. They innovate in an otherwise dull loan segment, to deliver instant, flexible loans on consumer friendly terms to salaried professionals and businessmen.\n",
    "\n",
    "The data science team at LoanTap is building an underwriting layer to determine the creditworthiness of MSMEs as well as individuals.\n",
    "\n",
    "LoanTap deploys formal credit to salaried individuals and businesses 4 main financial instruments:\n",
    "\n",
    "- Personal Loan\n",
    "- EMI Free Loan\n",
    "- Personal Overdraft\n",
    "- Advance Salary Loan\n",
    "This case study will focus on the underwriting process behind Personal Loan only\n",
    "\n",
    "## Problem Statement:\n",
    "\n",
    "Given a set of attributes for an Individual, determine if a credit line should be extended to them. If so, what should the repayment terms be in business recommendations?\n",
    " \n",
    "## Data dictionary:\n",
    "\n",
    "- loan_amnt : The listed amount of the loan applied for by the borrower. If at some point in time, the credit department reduces the loan amount, then it will be reflected in this value.\n",
    "\n",
    "- term : The number of payments on the loan. Values are in months and can be either 36 or 60.\n",
    "\n",
    "- int_rate : Interest Rate on the loan\n",
    "\n",
    "- installment : The monthly payment owed by the borrower if the loan originates.\n",
    "\n",
    "- grade : LoanTap assigned loan grade\n",
    "\n",
    "- sub_grade : LoanTap assigned loan subgrade\n",
    "\n",
    "- emp_title :The job title supplied by the Borrower when applying for the loan.*\n",
    "\n",
    "- emp_length : Employment length in years. Possible values are between 0 and 10 where 0 means less than one year and 10 means ten or more years.\n",
    "\n",
    "- home_ownership : The home ownership status provided by the borrower during registration or obtained from the credit report.\n",
    "\n",
    "- annual_inc : The self-reported annual income provided by the borrower during registration.\n",
    "\n",
    "- verification_status : Indicates if income was verified by LoanTap, not verified, or if the income source was verified\n",
    "\n",
    "- issue_d : The month which the loan was funded\n",
    "\n",
    "- loan_status : Current status of the loan - Target Variable\n",
    "\n",
    "- purpose : A category provided by the borrower for the loan request.\n",
    "\n",
    "- title : The loan title provided by the borrower\n",
    "\n",
    "- dti : A ratio calculated using the borrower’s total monthly debt payments on the total debt obligations, excluding mortgage and the requested LoanTap loan, divided by the borrower’s self-reported monthly income.\n",
    "\n",
    "- earliest_cr_line :The month the borrower's earliest reported credit line was opened\n",
    "\n",
    "- open_acc : The number of open credit lines in the borrower's credit file.\n",
    "\n",
    "- pub_rec : Number of derogatory public records\n",
    "\n",
    "- revol_bal : Total credit revolving balance\n",
    "\n",
    "- revol_util : Revolving line utilization rate, or the amount of credit the borrower is using relative to all available revolving credit.\n",
    "\n",
    "- total_acc : The total number of credit lines currently in the borrower's credit file\n",
    "\n",
    "- initial_list_status : The initial listing status of the loan. Possible values are – W, F\n",
    "\n",
    "- application_type : Indicates whether the loan is an individual application or a joint application with two co-borrowers\n",
    "\n",
    "- mort_acc : Number of mortgage accounts.\n",
    "\n",
    "- pub_rec_bankruptcies : Number of public record bankruptcies\n",
    "\n",
    "- Address: Address of the individual\n",
    " \n",
    "## Concept Used:\n",
    "\n",
    "- Exploratory Data Analysis\n",
    "- Feature Engineering\n",
    "- Logistic Regression\n",
    "- Precision Vs Recall Tradeoff\n"
   ]
  },
  {
   "cell_type": "code",
   "execution_count": null,
   "id": "781b5519-e704-489b-acf4-858ff85660e9",
   "metadata": {},
   "outputs": [],
   "source": []
  },
  {
   "cell_type": "markdown",
   "id": "413bf05b-52b8-4f70-a21b-0895b045a27c",
   "metadata": {},
   "source": [
    "# Solution:"
   ]
  },
  {
   "cell_type": "markdown",
   "id": "f05eafe0-828a-4569-8828-ccce4bf111b9",
   "metadata": {},
   "source": [
    "## Import common packages and read data"
   ]
  },
  {
   "cell_type": "code",
   "execution_count": 1,
   "id": "1acc91e9-6678-43dd-a0da-f6197213e1ab",
   "metadata": {},
   "outputs": [],
   "source": [
    "import numpy as np\n",
    "import pandas as pd\n",
    "import matplotlib.pyplot as plt\n",
    "import seaborn as sns\n",
    "from sklearn.preprocessing import StandardScaler\n",
    "\n",
    "#set seaborn theme\n",
    "sns.set_theme(style=\"whitegrid\", palette=\"pastel\")"
   ]
  },
  {
   "cell_type": "code",
   "execution_count": 2,
   "id": "57486f7e-11e9-45b6-9da8-eccb73eb384c",
   "metadata": {},
   "outputs": [],
   "source": [
    "df = pd.read_csv('loantap_logistic_regression.csv')"
   ]
  },
  {
   "cell_type": "code",
   "execution_count": 3,
   "id": "595c8f93-1560-4f45-b5e3-85f66ef0c01c",
   "metadata": {},
   "outputs": [
    {
     "data": {
      "text/html": [
       "<div>\n",
       "<style scoped>\n",
       "    .dataframe tbody tr th:only-of-type {\n",
       "        vertical-align: middle;\n",
       "    }\n",
       "\n",
       "    .dataframe tbody tr th {\n",
       "        vertical-align: top;\n",
       "    }\n",
       "\n",
       "    .dataframe thead th {\n",
       "        text-align: right;\n",
       "    }\n",
       "</style>\n",
       "<table border=\"1\" class=\"dataframe\">\n",
       "  <thead>\n",
       "    <tr style=\"text-align: right;\">\n",
       "      <th></th>\n",
       "      <th>loan_amnt</th>\n",
       "      <th>term</th>\n",
       "      <th>int_rate</th>\n",
       "      <th>installment</th>\n",
       "      <th>grade</th>\n",
       "      <th>sub_grade</th>\n",
       "      <th>emp_title</th>\n",
       "      <th>emp_length</th>\n",
       "      <th>home_ownership</th>\n",
       "      <th>annual_inc</th>\n",
       "      <th>...</th>\n",
       "      <th>open_acc</th>\n",
       "      <th>pub_rec</th>\n",
       "      <th>revol_bal</th>\n",
       "      <th>revol_util</th>\n",
       "      <th>total_acc</th>\n",
       "      <th>initial_list_status</th>\n",
       "      <th>application_type</th>\n",
       "      <th>mort_acc</th>\n",
       "      <th>pub_rec_bankruptcies</th>\n",
       "      <th>address</th>\n",
       "    </tr>\n",
       "  </thead>\n",
       "  <tbody>\n",
       "    <tr>\n",
       "      <th>0</th>\n",
       "      <td>10000.0</td>\n",
       "      <td>36 months</td>\n",
       "      <td>11.44</td>\n",
       "      <td>329.48</td>\n",
       "      <td>B</td>\n",
       "      <td>B4</td>\n",
       "      <td>Marketing</td>\n",
       "      <td>10+ years</td>\n",
       "      <td>RENT</td>\n",
       "      <td>117000.0</td>\n",
       "      <td>...</td>\n",
       "      <td>16.0</td>\n",
       "      <td>0.0</td>\n",
       "      <td>36369.0</td>\n",
       "      <td>41.8</td>\n",
       "      <td>25.0</td>\n",
       "      <td>w</td>\n",
       "      <td>INDIVIDUAL</td>\n",
       "      <td>0.0</td>\n",
       "      <td>0.0</td>\n",
       "      <td>0174 Michelle Gateway\\r\\nMendozaberg, OK 22690</td>\n",
       "    </tr>\n",
       "    <tr>\n",
       "      <th>1</th>\n",
       "      <td>8000.0</td>\n",
       "      <td>36 months</td>\n",
       "      <td>11.99</td>\n",
       "      <td>265.68</td>\n",
       "      <td>B</td>\n",
       "      <td>B5</td>\n",
       "      <td>Credit analyst</td>\n",
       "      <td>4 years</td>\n",
       "      <td>MORTGAGE</td>\n",
       "      <td>65000.0</td>\n",
       "      <td>...</td>\n",
       "      <td>17.0</td>\n",
       "      <td>0.0</td>\n",
       "      <td>20131.0</td>\n",
       "      <td>53.3</td>\n",
       "      <td>27.0</td>\n",
       "      <td>f</td>\n",
       "      <td>INDIVIDUAL</td>\n",
       "      <td>3.0</td>\n",
       "      <td>0.0</td>\n",
       "      <td>1076 Carney Fort Apt. 347\\r\\nLoganmouth, SD 05113</td>\n",
       "    </tr>\n",
       "    <tr>\n",
       "      <th>2</th>\n",
       "      <td>15600.0</td>\n",
       "      <td>36 months</td>\n",
       "      <td>10.49</td>\n",
       "      <td>506.97</td>\n",
       "      <td>B</td>\n",
       "      <td>B3</td>\n",
       "      <td>Statistician</td>\n",
       "      <td>&lt; 1 year</td>\n",
       "      <td>RENT</td>\n",
       "      <td>43057.0</td>\n",
       "      <td>...</td>\n",
       "      <td>13.0</td>\n",
       "      <td>0.0</td>\n",
       "      <td>11987.0</td>\n",
       "      <td>92.2</td>\n",
       "      <td>26.0</td>\n",
       "      <td>f</td>\n",
       "      <td>INDIVIDUAL</td>\n",
       "      <td>0.0</td>\n",
       "      <td>0.0</td>\n",
       "      <td>87025 Mark Dale Apt. 269\\r\\nNew Sabrina, WV 05113</td>\n",
       "    </tr>\n",
       "    <tr>\n",
       "      <th>3</th>\n",
       "      <td>7200.0</td>\n",
       "      <td>36 months</td>\n",
       "      <td>6.49</td>\n",
       "      <td>220.65</td>\n",
       "      <td>A</td>\n",
       "      <td>A2</td>\n",
       "      <td>Client Advocate</td>\n",
       "      <td>6 years</td>\n",
       "      <td>RENT</td>\n",
       "      <td>54000.0</td>\n",
       "      <td>...</td>\n",
       "      <td>6.0</td>\n",
       "      <td>0.0</td>\n",
       "      <td>5472.0</td>\n",
       "      <td>21.5</td>\n",
       "      <td>13.0</td>\n",
       "      <td>f</td>\n",
       "      <td>INDIVIDUAL</td>\n",
       "      <td>0.0</td>\n",
       "      <td>0.0</td>\n",
       "      <td>823 Reid Ford\\r\\nDelacruzside, MA 00813</td>\n",
       "    </tr>\n",
       "    <tr>\n",
       "      <th>4</th>\n",
       "      <td>24375.0</td>\n",
       "      <td>60 months</td>\n",
       "      <td>17.27</td>\n",
       "      <td>609.33</td>\n",
       "      <td>C</td>\n",
       "      <td>C5</td>\n",
       "      <td>Destiny Management Inc.</td>\n",
       "      <td>9 years</td>\n",
       "      <td>MORTGAGE</td>\n",
       "      <td>55000.0</td>\n",
       "      <td>...</td>\n",
       "      <td>13.0</td>\n",
       "      <td>0.0</td>\n",
       "      <td>24584.0</td>\n",
       "      <td>69.8</td>\n",
       "      <td>43.0</td>\n",
       "      <td>f</td>\n",
       "      <td>INDIVIDUAL</td>\n",
       "      <td>1.0</td>\n",
       "      <td>0.0</td>\n",
       "      <td>679 Luna Roads\\r\\nGreggshire, VA 11650</td>\n",
       "    </tr>\n",
       "  </tbody>\n",
       "</table>\n",
       "<p>5 rows × 27 columns</p>\n",
       "</div>"
      ],
      "text/plain": [
       "   loan_amnt        term  int_rate  installment grade sub_grade  \\\n",
       "0    10000.0   36 months     11.44       329.48     B        B4   \n",
       "1     8000.0   36 months     11.99       265.68     B        B5   \n",
       "2    15600.0   36 months     10.49       506.97     B        B3   \n",
       "3     7200.0   36 months      6.49       220.65     A        A2   \n",
       "4    24375.0   60 months     17.27       609.33     C        C5   \n",
       "\n",
       "                 emp_title emp_length home_ownership  annual_inc  ...  \\\n",
       "0                Marketing  10+ years           RENT    117000.0  ...   \n",
       "1          Credit analyst     4 years       MORTGAGE     65000.0  ...   \n",
       "2             Statistician   < 1 year           RENT     43057.0  ...   \n",
       "3          Client Advocate    6 years           RENT     54000.0  ...   \n",
       "4  Destiny Management Inc.    9 years       MORTGAGE     55000.0  ...   \n",
       "\n",
       "  open_acc pub_rec revol_bal revol_util total_acc  initial_list_status  \\\n",
       "0     16.0     0.0   36369.0       41.8      25.0                    w   \n",
       "1     17.0     0.0   20131.0       53.3      27.0                    f   \n",
       "2     13.0     0.0   11987.0       92.2      26.0                    f   \n",
       "3      6.0     0.0    5472.0       21.5      13.0                    f   \n",
       "4     13.0     0.0   24584.0       69.8      43.0                    f   \n",
       "\n",
       "  application_type  mort_acc  pub_rec_bankruptcies  \\\n",
       "0       INDIVIDUAL       0.0                   0.0   \n",
       "1       INDIVIDUAL       3.0                   0.0   \n",
       "2       INDIVIDUAL       0.0                   0.0   \n",
       "3       INDIVIDUAL       0.0                   0.0   \n",
       "4       INDIVIDUAL       1.0                   0.0   \n",
       "\n",
       "                                             address  \n",
       "0     0174 Michelle Gateway\\r\\nMendozaberg, OK 22690  \n",
       "1  1076 Carney Fort Apt. 347\\r\\nLoganmouth, SD 05113  \n",
       "2  87025 Mark Dale Apt. 269\\r\\nNew Sabrina, WV 05113  \n",
       "3            823 Reid Ford\\r\\nDelacruzside, MA 00813  \n",
       "4             679 Luna Roads\\r\\nGreggshire, VA 11650  \n",
       "\n",
       "[5 rows x 27 columns]"
      ]
     },
     "execution_count": 3,
     "metadata": {},
     "output_type": "execute_result"
    }
   ],
   "source": [
    "df.head()"
   ]
  },
  {
   "cell_type": "code",
   "execution_count": 4,
   "id": "b1893819-363d-45e8-b6ad-5535863a8c01",
   "metadata": {},
   "outputs": [
    {
     "data": {
      "text/plain": [
       "(396030, 27)"
      ]
     },
     "execution_count": 4,
     "metadata": {},
     "output_type": "execute_result"
    }
   ],
   "source": [
    "df.shape"
   ]
  },
  {
   "cell_type": "code",
   "execution_count": 5,
   "id": "f97ca405-0767-4db2-b597-38dd24dad55c",
   "metadata": {},
   "outputs": [
    {
     "name": "stdout",
     "output_type": "stream",
     "text": [
      "<class 'pandas.core.frame.DataFrame'>\n",
      "RangeIndex: 396030 entries, 0 to 396029\n",
      "Data columns (total 27 columns):\n",
      " #   Column                Non-Null Count   Dtype  \n",
      "---  ------                --------------   -----  \n",
      " 0   loan_amnt             396030 non-null  float64\n",
      " 1   term                  396030 non-null  object \n",
      " 2   int_rate              396030 non-null  float64\n",
      " 3   installment           396030 non-null  float64\n",
      " 4   grade                 396030 non-null  object \n",
      " 5   sub_grade             396030 non-null  object \n",
      " 6   emp_title             373103 non-null  object \n",
      " 7   emp_length            377729 non-null  object \n",
      " 8   home_ownership        396030 non-null  object \n",
      " 9   annual_inc            396030 non-null  float64\n",
      " 10  verification_status   396030 non-null  object \n",
      " 11  issue_d               396030 non-null  object \n",
      " 12  loan_status           396030 non-null  object \n",
      " 13  purpose               396030 non-null  object \n",
      " 14  title                 394275 non-null  object \n",
      " 15  dti                   396030 non-null  float64\n",
      " 16  earliest_cr_line      396030 non-null  object \n",
      " 17  open_acc              396030 non-null  float64\n",
      " 18  pub_rec               396030 non-null  float64\n",
      " 19  revol_bal             396030 non-null  float64\n",
      " 20  revol_util            395754 non-null  float64\n",
      " 21  total_acc             396030 non-null  float64\n",
      " 22  initial_list_status   396030 non-null  object \n",
      " 23  application_type      396030 non-null  object \n",
      " 24  mort_acc              358235 non-null  float64\n",
      " 25  pub_rec_bankruptcies  395495 non-null  float64\n",
      " 26  address               396030 non-null  object \n",
      "dtypes: float64(12), object(15)\n",
      "memory usage: 81.6+ MB\n"
     ]
    }
   ],
   "source": [
    "df.info()"
   ]
  },
  {
   "cell_type": "code",
   "execution_count": 6,
   "id": "15720d1d-f80b-450f-8b30-e3905af7d751",
   "metadata": {},
   "outputs": [
    {
     "data": {
      "text/html": [
       "<div>\n",
       "<style scoped>\n",
       "    .dataframe tbody tr th:only-of-type {\n",
       "        vertical-align: middle;\n",
       "    }\n",
       "\n",
       "    .dataframe tbody tr th {\n",
       "        vertical-align: top;\n",
       "    }\n",
       "\n",
       "    .dataframe thead th {\n",
       "        text-align: right;\n",
       "    }\n",
       "</style>\n",
       "<table border=\"1\" class=\"dataframe\">\n",
       "  <thead>\n",
       "    <tr style=\"text-align: right;\">\n",
       "      <th></th>\n",
       "      <th>count</th>\n",
       "      <th>mean</th>\n",
       "      <th>std</th>\n",
       "      <th>min</th>\n",
       "      <th>25%</th>\n",
       "      <th>50%</th>\n",
       "      <th>75%</th>\n",
       "      <th>max</th>\n",
       "    </tr>\n",
       "  </thead>\n",
       "  <tbody>\n",
       "    <tr>\n",
       "      <th>loan_amnt</th>\n",
       "      <td>396030.0</td>\n",
       "      <td>14113.888089</td>\n",
       "      <td>8357.441341</td>\n",
       "      <td>500.00</td>\n",
       "      <td>8000.00</td>\n",
       "      <td>12000.00</td>\n",
       "      <td>20000.00</td>\n",
       "      <td>40000.00</td>\n",
       "    </tr>\n",
       "    <tr>\n",
       "      <th>int_rate</th>\n",
       "      <td>396030.0</td>\n",
       "      <td>13.639400</td>\n",
       "      <td>4.472157</td>\n",
       "      <td>5.32</td>\n",
       "      <td>10.49</td>\n",
       "      <td>13.33</td>\n",
       "      <td>16.49</td>\n",
       "      <td>30.99</td>\n",
       "    </tr>\n",
       "    <tr>\n",
       "      <th>installment</th>\n",
       "      <td>396030.0</td>\n",
       "      <td>431.849698</td>\n",
       "      <td>250.727790</td>\n",
       "      <td>16.08</td>\n",
       "      <td>250.33</td>\n",
       "      <td>375.43</td>\n",
       "      <td>567.30</td>\n",
       "      <td>1533.81</td>\n",
       "    </tr>\n",
       "    <tr>\n",
       "      <th>annual_inc</th>\n",
       "      <td>396030.0</td>\n",
       "      <td>74203.175798</td>\n",
       "      <td>61637.621158</td>\n",
       "      <td>0.00</td>\n",
       "      <td>45000.00</td>\n",
       "      <td>64000.00</td>\n",
       "      <td>90000.00</td>\n",
       "      <td>8706582.00</td>\n",
       "    </tr>\n",
       "    <tr>\n",
       "      <th>dti</th>\n",
       "      <td>396030.0</td>\n",
       "      <td>17.379514</td>\n",
       "      <td>18.019092</td>\n",
       "      <td>0.00</td>\n",
       "      <td>11.28</td>\n",
       "      <td>16.91</td>\n",
       "      <td>22.98</td>\n",
       "      <td>9999.00</td>\n",
       "    </tr>\n",
       "    <tr>\n",
       "      <th>open_acc</th>\n",
       "      <td>396030.0</td>\n",
       "      <td>11.311153</td>\n",
       "      <td>5.137649</td>\n",
       "      <td>0.00</td>\n",
       "      <td>8.00</td>\n",
       "      <td>10.00</td>\n",
       "      <td>14.00</td>\n",
       "      <td>90.00</td>\n",
       "    </tr>\n",
       "    <tr>\n",
       "      <th>pub_rec</th>\n",
       "      <td>396030.0</td>\n",
       "      <td>0.178191</td>\n",
       "      <td>0.530671</td>\n",
       "      <td>0.00</td>\n",
       "      <td>0.00</td>\n",
       "      <td>0.00</td>\n",
       "      <td>0.00</td>\n",
       "      <td>86.00</td>\n",
       "    </tr>\n",
       "    <tr>\n",
       "      <th>revol_bal</th>\n",
       "      <td>396030.0</td>\n",
       "      <td>15844.539853</td>\n",
       "      <td>20591.836109</td>\n",
       "      <td>0.00</td>\n",
       "      <td>6025.00</td>\n",
       "      <td>11181.00</td>\n",
       "      <td>19620.00</td>\n",
       "      <td>1743266.00</td>\n",
       "    </tr>\n",
       "    <tr>\n",
       "      <th>revol_util</th>\n",
       "      <td>395754.0</td>\n",
       "      <td>53.791749</td>\n",
       "      <td>24.452193</td>\n",
       "      <td>0.00</td>\n",
       "      <td>35.80</td>\n",
       "      <td>54.80</td>\n",
       "      <td>72.90</td>\n",
       "      <td>892.30</td>\n",
       "    </tr>\n",
       "    <tr>\n",
       "      <th>total_acc</th>\n",
       "      <td>396030.0</td>\n",
       "      <td>25.414744</td>\n",
       "      <td>11.886991</td>\n",
       "      <td>2.00</td>\n",
       "      <td>17.00</td>\n",
       "      <td>24.00</td>\n",
       "      <td>32.00</td>\n",
       "      <td>151.00</td>\n",
       "    </tr>\n",
       "    <tr>\n",
       "      <th>mort_acc</th>\n",
       "      <td>358235.0</td>\n",
       "      <td>1.813991</td>\n",
       "      <td>2.147930</td>\n",
       "      <td>0.00</td>\n",
       "      <td>0.00</td>\n",
       "      <td>1.00</td>\n",
       "      <td>3.00</td>\n",
       "      <td>34.00</td>\n",
       "    </tr>\n",
       "    <tr>\n",
       "      <th>pub_rec_bankruptcies</th>\n",
       "      <td>395495.0</td>\n",
       "      <td>0.121648</td>\n",
       "      <td>0.356174</td>\n",
       "      <td>0.00</td>\n",
       "      <td>0.00</td>\n",
       "      <td>0.00</td>\n",
       "      <td>0.00</td>\n",
       "      <td>8.00</td>\n",
       "    </tr>\n",
       "  </tbody>\n",
       "</table>\n",
       "</div>"
      ],
      "text/plain": [
       "                         count          mean           std     min       25%  \\\n",
       "loan_amnt             396030.0  14113.888089   8357.441341  500.00   8000.00   \n",
       "int_rate              396030.0     13.639400      4.472157    5.32     10.49   \n",
       "installment           396030.0    431.849698    250.727790   16.08    250.33   \n",
       "annual_inc            396030.0  74203.175798  61637.621158    0.00  45000.00   \n",
       "dti                   396030.0     17.379514     18.019092    0.00     11.28   \n",
       "open_acc              396030.0     11.311153      5.137649    0.00      8.00   \n",
       "pub_rec               396030.0      0.178191      0.530671    0.00      0.00   \n",
       "revol_bal             396030.0  15844.539853  20591.836109    0.00   6025.00   \n",
       "revol_util            395754.0     53.791749     24.452193    0.00     35.80   \n",
       "total_acc             396030.0     25.414744     11.886991    2.00     17.00   \n",
       "mort_acc              358235.0      1.813991      2.147930    0.00      0.00   \n",
       "pub_rec_bankruptcies  395495.0      0.121648      0.356174    0.00      0.00   \n",
       "\n",
       "                           50%       75%         max  \n",
       "loan_amnt             12000.00  20000.00    40000.00  \n",
       "int_rate                 13.33     16.49       30.99  \n",
       "installment             375.43    567.30     1533.81  \n",
       "annual_inc            64000.00  90000.00  8706582.00  \n",
       "dti                      16.91     22.98     9999.00  \n",
       "open_acc                 10.00     14.00       90.00  \n",
       "pub_rec                   0.00      0.00       86.00  \n",
       "revol_bal             11181.00  19620.00  1743266.00  \n",
       "revol_util               54.80     72.90      892.30  \n",
       "total_acc                24.00     32.00      151.00  \n",
       "mort_acc                  1.00      3.00       34.00  \n",
       "pub_rec_bankruptcies      0.00      0.00        8.00  "
      ]
     },
     "execution_count": 6,
     "metadata": {},
     "output_type": "execute_result"
    }
   ],
   "source": [
    "# describe numerical features\n",
    "df.describe().T"
   ]
  },
  {
   "cell_type": "code",
   "execution_count": 7,
   "id": "824a58fc-0a1c-47c1-ac9d-50975d1f3d1d",
   "metadata": {},
   "outputs": [
    {
     "data": {
      "text/html": [
       "<div>\n",
       "<style scoped>\n",
       "    .dataframe tbody tr th:only-of-type {\n",
       "        vertical-align: middle;\n",
       "    }\n",
       "\n",
       "    .dataframe tbody tr th {\n",
       "        vertical-align: top;\n",
       "    }\n",
       "\n",
       "    .dataframe thead th {\n",
       "        text-align: right;\n",
       "    }\n",
       "</style>\n",
       "<table border=\"1\" class=\"dataframe\">\n",
       "  <thead>\n",
       "    <tr style=\"text-align: right;\">\n",
       "      <th></th>\n",
       "      <th>count</th>\n",
       "      <th>unique</th>\n",
       "      <th>top</th>\n",
       "      <th>freq</th>\n",
       "    </tr>\n",
       "  </thead>\n",
       "  <tbody>\n",
       "    <tr>\n",
       "      <th>term</th>\n",
       "      <td>396030</td>\n",
       "      <td>2</td>\n",
       "      <td>36 months</td>\n",
       "      <td>302005</td>\n",
       "    </tr>\n",
       "    <tr>\n",
       "      <th>grade</th>\n",
       "      <td>396030</td>\n",
       "      <td>7</td>\n",
       "      <td>B</td>\n",
       "      <td>116018</td>\n",
       "    </tr>\n",
       "    <tr>\n",
       "      <th>sub_grade</th>\n",
       "      <td>396030</td>\n",
       "      <td>35</td>\n",
       "      <td>B3</td>\n",
       "      <td>26655</td>\n",
       "    </tr>\n",
       "    <tr>\n",
       "      <th>emp_title</th>\n",
       "      <td>373103</td>\n",
       "      <td>173105</td>\n",
       "      <td>Teacher</td>\n",
       "      <td>4389</td>\n",
       "    </tr>\n",
       "    <tr>\n",
       "      <th>emp_length</th>\n",
       "      <td>377729</td>\n",
       "      <td>11</td>\n",
       "      <td>10+ years</td>\n",
       "      <td>126041</td>\n",
       "    </tr>\n",
       "    <tr>\n",
       "      <th>home_ownership</th>\n",
       "      <td>396030</td>\n",
       "      <td>6</td>\n",
       "      <td>MORTGAGE</td>\n",
       "      <td>198348</td>\n",
       "    </tr>\n",
       "    <tr>\n",
       "      <th>verification_status</th>\n",
       "      <td>396030</td>\n",
       "      <td>3</td>\n",
       "      <td>Verified</td>\n",
       "      <td>139563</td>\n",
       "    </tr>\n",
       "    <tr>\n",
       "      <th>issue_d</th>\n",
       "      <td>396030</td>\n",
       "      <td>115</td>\n",
       "      <td>Oct-2014</td>\n",
       "      <td>14846</td>\n",
       "    </tr>\n",
       "    <tr>\n",
       "      <th>loan_status</th>\n",
       "      <td>396030</td>\n",
       "      <td>2</td>\n",
       "      <td>Fully Paid</td>\n",
       "      <td>318357</td>\n",
       "    </tr>\n",
       "    <tr>\n",
       "      <th>purpose</th>\n",
       "      <td>396030</td>\n",
       "      <td>14</td>\n",
       "      <td>debt_consolidation</td>\n",
       "      <td>234507</td>\n",
       "    </tr>\n",
       "    <tr>\n",
       "      <th>title</th>\n",
       "      <td>394275</td>\n",
       "      <td>48817</td>\n",
       "      <td>Debt consolidation</td>\n",
       "      <td>152472</td>\n",
       "    </tr>\n",
       "    <tr>\n",
       "      <th>earliest_cr_line</th>\n",
       "      <td>396030</td>\n",
       "      <td>684</td>\n",
       "      <td>Oct-2000</td>\n",
       "      <td>3017</td>\n",
       "    </tr>\n",
       "    <tr>\n",
       "      <th>initial_list_status</th>\n",
       "      <td>396030</td>\n",
       "      <td>2</td>\n",
       "      <td>f</td>\n",
       "      <td>238066</td>\n",
       "    </tr>\n",
       "    <tr>\n",
       "      <th>application_type</th>\n",
       "      <td>396030</td>\n",
       "      <td>3</td>\n",
       "      <td>INDIVIDUAL</td>\n",
       "      <td>395319</td>\n",
       "    </tr>\n",
       "    <tr>\n",
       "      <th>address</th>\n",
       "      <td>396030</td>\n",
       "      <td>393700</td>\n",
       "      <td>USCGC Smith\\r\\nFPO AE 70466</td>\n",
       "      <td>8</td>\n",
       "    </tr>\n",
       "  </tbody>\n",
       "</table>\n",
       "</div>"
      ],
      "text/plain": [
       "                      count  unique                          top    freq\n",
       "term                 396030       2                    36 months  302005\n",
       "grade                396030       7                            B  116018\n",
       "sub_grade            396030      35                           B3   26655\n",
       "emp_title            373103  173105                      Teacher    4389\n",
       "emp_length           377729      11                    10+ years  126041\n",
       "home_ownership       396030       6                     MORTGAGE  198348\n",
       "verification_status  396030       3                     Verified  139563\n",
       "issue_d              396030     115                     Oct-2014   14846\n",
       "loan_status          396030       2                   Fully Paid  318357\n",
       "purpose              396030      14           debt_consolidation  234507\n",
       "title                394275   48817           Debt consolidation  152472\n",
       "earliest_cr_line     396030     684                     Oct-2000    3017\n",
       "initial_list_status  396030       2                            f  238066\n",
       "application_type     396030       3                   INDIVIDUAL  395319\n",
       "address              396030  393700  USCGC Smith\\r\\nFPO AE 70466       8"
      ]
     },
     "execution_count": 7,
     "metadata": {},
     "output_type": "execute_result"
    }
   ],
   "source": [
    "#describe non-numeric features\n",
    "df.describe(include='object').T"
   ]
  },
  {
   "cell_type": "markdown",
   "id": "8a50d2df-6e1d-43ef-8238-137f2a70e540",
   "metadata": {},
   "source": [
    "### Detecting missing values"
   ]
  },
  {
   "cell_type": "code",
   "execution_count": 8,
   "id": "2095460f-40ac-4de3-93e2-05753387966d",
   "metadata": {},
   "outputs": [
    {
     "data": {
      "text/html": [
       "<div>\n",
       "<style scoped>\n",
       "    .dataframe tbody tr th:only-of-type {\n",
       "        vertical-align: middle;\n",
       "    }\n",
       "\n",
       "    .dataframe tbody tr th {\n",
       "        vertical-align: top;\n",
       "    }\n",
       "\n",
       "    .dataframe thead th {\n",
       "        text-align: right;\n",
       "    }\n",
       "</style>\n",
       "<table border=\"1\" class=\"dataframe\">\n",
       "  <thead>\n",
       "    <tr style=\"text-align: right;\">\n",
       "      <th></th>\n",
       "      <th>missing_val_count</th>\n",
       "      <th>missing_val_percent</th>\n",
       "    </tr>\n",
       "  </thead>\n",
       "  <tbody>\n",
       "    <tr>\n",
       "      <th>mort_acc</th>\n",
       "      <td>37795.0</td>\n",
       "      <td>9.543469</td>\n",
       "    </tr>\n",
       "    <tr>\n",
       "      <th>emp_title</th>\n",
       "      <td>22927.0</td>\n",
       "      <td>5.789208</td>\n",
       "    </tr>\n",
       "    <tr>\n",
       "      <th>emp_length</th>\n",
       "      <td>18301.0</td>\n",
       "      <td>4.621115</td>\n",
       "    </tr>\n",
       "    <tr>\n",
       "      <th>title</th>\n",
       "      <td>1755.0</td>\n",
       "      <td>0.443148</td>\n",
       "    </tr>\n",
       "    <tr>\n",
       "      <th>pub_rec_bankruptcies</th>\n",
       "      <td>535.0</td>\n",
       "      <td>0.135091</td>\n",
       "    </tr>\n",
       "    <tr>\n",
       "      <th>revol_util</th>\n",
       "      <td>276.0</td>\n",
       "      <td>0.069692</td>\n",
       "    </tr>\n",
       "  </tbody>\n",
       "</table>\n",
       "</div>"
      ],
      "text/plain": [
       "                      missing_val_count  missing_val_percent\n",
       "mort_acc                        37795.0             9.543469\n",
       "emp_title                       22927.0             5.789208\n",
       "emp_length                      18301.0             4.621115\n",
       "title                            1755.0             0.443148\n",
       "pub_rec_bankruptcies              535.0             0.135091\n",
       "revol_util                        276.0             0.069692"
      ]
     },
     "execution_count": 8,
     "metadata": {},
     "output_type": "execute_result"
    }
   ],
   "source": [
    "#missing values per column\n",
    "missing_vals = df.isna().sum().where(lambda cnt : cnt > 0).dropna()\n",
    "missing_vals.to_frame(name='missing_val_count').assign(missing_val_percent=(missing_vals / df.shape[0])*100).sort_values(by='missing_val_count', ascending=False)"
   ]
  },
  {
   "cell_type": "code",
   "execution_count": 9,
   "id": "475809ef-4c85-460e-89ec-d546fd28ffa7",
   "metadata": {},
   "outputs": [
    {
     "name": "stdout",
     "output_type": "stream",
     "text": [
      "Rows with missing values- count:60162, percentage:15.191273388379667\n"
     ]
    }
   ],
   "source": [
    "# Rows with atleast one missing value.\n",
    "missing_rows_count = df[df.isnull().any(axis=1)].shape[0]\n",
    "missing_row_percent = (missing_rows_count / df.shape[0]) * 100\n",
    "print(f'Rows with missing values- count:{missing_rows_count}, percentage:{missing_row_percent}')"
   ]
  },
  {
   "cell_type": "markdown",
   "id": "29f9a62f-102d-4599-bf01-781e82e3ad85",
   "metadata": {},
   "source": [
    "**Observations**\n",
    "\n",
    "1. The dataset has 396030 rows and 27 columns. loan_status is the target variable with values 'Fully Paid' and 'Charged Off'. \n",
    "\n",
    "2. 'mort_acc' (9.5%), 'emp_title'(5.7%), 'emp_length'(4.62%), 'title'(0.44%), 'pub_rec_bankruptcies'(0.14%), and 'revol_util'(0.07%) columns have missing values. Other columns do not have missing values. \n",
    "\n",
    "3. Around 15% of total rows have some missing values. As we shall see later, we will not be using emp_title variable in our model. Therefore, we will ignore missing values in that column. Since our dataset size seems adequate, for the remaining columns, for this case study, we will remove rows with missing values."
   ]
  },
  {
   "cell_type": "markdown",
   "id": "00c6e22a-82a1-4c31-b429-6d5a413c69d9",
   "metadata": {},
   "source": [
    "### Removing rows with missing values"
   ]
  },
  {
   "cell_type": "code",
   "execution_count": 10,
   "id": "223f0ddd-a73f-4775-87aa-4b2e4dc6d50f",
   "metadata": {
    "tags": []
   },
   "outputs": [
    {
     "name": "stdout",
     "output_type": "stream",
     "text": [
      "Total reduction in rows afer removing missing values: 14.338812716208368%\n"
     ]
    }
   ],
   "source": [
    "cols = ['mort_acc', 'emp_length', 'title', 'pub_rec_bankruptcies', 'revol_util']\n",
    "\n",
    "n_before = df.shape[0]\n",
    "df.dropna(axis=0, subset=cols, inplace=True)\n",
    "df.reset_index(drop=True, inplace=True)\n",
    "n_after = df.shape[0]\n",
    "#df.info()\n",
    "print(f'Total reduction in rows afer removing missing values: {(n_before-n_after) * 100 /(n_before)}%')"
   ]
  },
  {
   "cell_type": "markdown",
   "id": "65ed0796-8f8c-44b0-bae2-20cd8c07d260",
   "metadata": {},
   "source": [
    "### Outliers Detection"
   ]
  },
  {
   "cell_type": "code",
   "execution_count": 11,
   "id": "8a1dabab-ff0d-4566-ad3c-602b37499f4d",
   "metadata": {},
   "outputs": [
    {
     "data": {
      "text/html": [
       "<div>\n",
       "<style scoped>\n",
       "    .dataframe tbody tr th:only-of-type {\n",
       "        vertical-align: middle;\n",
       "    }\n",
       "\n",
       "    .dataframe tbody tr th {\n",
       "        vertical-align: top;\n",
       "    }\n",
       "\n",
       "    .dataframe thead tr th {\n",
       "        text-align: left;\n",
       "    }\n",
       "\n",
       "    .dataframe thead tr:last-of-type th {\n",
       "        text-align: right;\n",
       "    }\n",
       "</style>\n",
       "<table border=\"1\" class=\"dataframe\">\n",
       "  <thead>\n",
       "    <tr>\n",
       "      <th></th>\n",
       "      <th colspan=\"4\" halign=\"left\">outlier count</th>\n",
       "      <th colspan=\"4\" halign=\"left\">outlier %</th>\n",
       "    </tr>\n",
       "    <tr>\n",
       "      <th>transform</th>\n",
       "      <th>cuberoot</th>\n",
       "      <th>sqrt</th>\n",
       "      <th>log</th>\n",
       "      <th>none</th>\n",
       "      <th>cuberoot</th>\n",
       "      <th>sqrt</th>\n",
       "      <th>log</th>\n",
       "      <th>none</th>\n",
       "    </tr>\n",
       "    <tr>\n",
       "      <th>feature</th>\n",
       "      <th></th>\n",
       "      <th></th>\n",
       "      <th></th>\n",
       "      <th></th>\n",
       "      <th></th>\n",
       "      <th></th>\n",
       "      <th></th>\n",
       "      <th></th>\n",
       "    </tr>\n",
       "  </thead>\n",
       "  <tbody>\n",
       "    <tr>\n",
       "      <th>annual_inc</th>\n",
       "      <td>8206</td>\n",
       "      <td>9358</td>\n",
       "      <td>5311</td>\n",
       "      <td>16026</td>\n",
       "      <td>2.419</td>\n",
       "      <td>2.758</td>\n",
       "      <td>1.566</td>\n",
       "      <td>4.724</td>\n",
       "    </tr>\n",
       "    <tr>\n",
       "      <th>dti</th>\n",
       "      <td>5310</td>\n",
       "      <td>2644</td>\n",
       "      <td>11417</td>\n",
       "      <td>198</td>\n",
       "      <td>1.565</td>\n",
       "      <td>0.779</td>\n",
       "      <td>3.365</td>\n",
       "      <td>0.058</td>\n",
       "    </tr>\n",
       "    <tr>\n",
       "      <th>installment</th>\n",
       "      <td>1476</td>\n",
       "      <td>428</td>\n",
       "      <td>6876</td>\n",
       "      <td>9520</td>\n",
       "      <td>0.435</td>\n",
       "      <td>0.126</td>\n",
       "      <td>2.027</td>\n",
       "      <td>2.806</td>\n",
       "    </tr>\n",
       "    <tr>\n",
       "      <th>int_rate</th>\n",
       "      <td>50</td>\n",
       "      <td>206</td>\n",
       "      <td>2249</td>\n",
       "      <td>1198</td>\n",
       "      <td>0.015</td>\n",
       "      <td>0.061</td>\n",
       "      <td>0.663</td>\n",
       "      <td>0.353</td>\n",
       "    </tr>\n",
       "    <tr>\n",
       "      <th>loan_amnt</th>\n",
       "      <td>0</td>\n",
       "      <td>0</td>\n",
       "      <td>5662</td>\n",
       "      <td>179</td>\n",
       "      <td>0.000</td>\n",
       "      <td>0.000</td>\n",
       "      <td>1.669</td>\n",
       "      <td>0.053</td>\n",
       "    </tr>\n",
       "    <tr>\n",
       "      <th>mort_acc</th>\n",
       "      <td>0</td>\n",
       "      <td>81</td>\n",
       "      <td>0</td>\n",
       "      <td>6457</td>\n",
       "      <td>0.000</td>\n",
       "      <td>0.024</td>\n",
       "      <td>0.000</td>\n",
       "      <td>1.903</td>\n",
       "    </tr>\n",
       "    <tr>\n",
       "      <th>open_acc</th>\n",
       "      <td>4463</td>\n",
       "      <td>5466</td>\n",
       "      <td>5093</td>\n",
       "      <td>9702</td>\n",
       "      <td>1.316</td>\n",
       "      <td>1.611</td>\n",
       "      <td>1.501</td>\n",
       "      <td>2.860</td>\n",
       "    </tr>\n",
       "    <tr>\n",
       "      <th>pub_rec</th>\n",
       "      <td>51191</td>\n",
       "      <td>51191</td>\n",
       "      <td>51191</td>\n",
       "      <td>51191</td>\n",
       "      <td>15.090</td>\n",
       "      <td>15.090</td>\n",
       "      <td>15.090</td>\n",
       "      <td>15.090</td>\n",
       "    </tr>\n",
       "    <tr>\n",
       "      <th>pub_rec_bankruptcies</th>\n",
       "      <td>39770</td>\n",
       "      <td>39770</td>\n",
       "      <td>39770</td>\n",
       "      <td>39770</td>\n",
       "      <td>11.723</td>\n",
       "      <td>11.723</td>\n",
       "      <td>11.723</td>\n",
       "      <td>11.723</td>\n",
       "    </tr>\n",
       "    <tr>\n",
       "      <th>revol_bal</th>\n",
       "      <td>8341</td>\n",
       "      <td>8280</td>\n",
       "      <td>10972</td>\n",
       "      <td>17902</td>\n",
       "      <td>2.459</td>\n",
       "      <td>2.441</td>\n",
       "      <td>3.234</td>\n",
       "      <td>5.277</td>\n",
       "    </tr>\n",
       "    <tr>\n",
       "      <th>revol_util</th>\n",
       "      <td>10737</td>\n",
       "      <td>7158</td>\n",
       "      <td>17628</td>\n",
       "      <td>14</td>\n",
       "      <td>3.165</td>\n",
       "      <td>2.110</td>\n",
       "      <td>5.196</td>\n",
       "      <td>0.004</td>\n",
       "    </tr>\n",
       "    <tr>\n",
       "      <th>total_acc</th>\n",
       "      <td>1597</td>\n",
       "      <td>1200</td>\n",
       "      <td>4647</td>\n",
       "      <td>5344</td>\n",
       "      <td>0.471</td>\n",
       "      <td>0.354</td>\n",
       "      <td>1.370</td>\n",
       "      <td>1.575</td>\n",
       "    </tr>\n",
       "  </tbody>\n",
       "</table>\n",
       "</div>"
      ],
      "text/plain": [
       "                     outlier count                         outlier %          \\\n",
       "transform                 cuberoot   sqrt    log   none     cuberoot    sqrt   \n",
       "feature                                                                        \n",
       "annual_inc                    8206   9358   5311  16026        2.419   2.758   \n",
       "dti                           5310   2644  11417    198        1.565   0.779   \n",
       "installment                   1476    428   6876   9520        0.435   0.126   \n",
       "int_rate                        50    206   2249   1198        0.015   0.061   \n",
       "loan_amnt                        0      0   5662    179        0.000   0.000   \n",
       "mort_acc                         0     81      0   6457        0.000   0.024   \n",
       "open_acc                      4463   5466   5093   9702        1.316   1.611   \n",
       "pub_rec                      51191  51191  51191  51191       15.090  15.090   \n",
       "pub_rec_bankruptcies         39770  39770  39770  39770       11.723  11.723   \n",
       "revol_bal                     8341   8280  10972  17902        2.459   2.441   \n",
       "revol_util                   10737   7158  17628     14        3.165   2.110   \n",
       "total_acc                     1597   1200   4647   5344        0.471   0.354   \n",
       "\n",
       "                                      \n",
       "transform                log    none  \n",
       "feature                               \n",
       "annual_inc             1.566   4.724  \n",
       "dti                    3.365   0.058  \n",
       "installment            2.027   2.806  \n",
       "int_rate               0.663   0.353  \n",
       "loan_amnt              1.669   0.053  \n",
       "mort_acc               0.000   1.903  \n",
       "open_acc               1.501   2.860  \n",
       "pub_rec               15.090  15.090  \n",
       "pub_rec_bankruptcies  11.723  11.723  \n",
       "revol_bal              3.234   5.277  \n",
       "revol_util             5.196   0.004  \n",
       "total_acc              1.370   1.575  "
      ]
     },
     "execution_count": 11,
     "metadata": {},
     "output_type": "execute_result"
    }
   ],
   "source": [
    "#iqr method to find outliers\n",
    "def findoutliers(arr):        \n",
    "    q3 = np.percentile(arr, 75)\n",
    "    q1 = np.percentile(arr, 25)    \n",
    "    iqr = q3-q1\n",
    "    ulim = q3 + 1.5*iqr\n",
    "    llim = q1 - 1.5*iqr\n",
    "    return pd.Series([True if((ele > ulim) or (ele < llim)) else False for ele in arr])\n",
    "\n",
    "def makepositive(s, pos_val=0.01):\n",
    "    return s.transform(lambda val: val if(val > 0) else pos_val)\n",
    "\n",
    "n = df.shape[0]\n",
    "outliers = []\n",
    "outlier_rows = pd.Series([False]*n) \n",
    "cols = set(df.select_dtypes('number').columns) - set(['loan_status'])\n",
    "\n",
    "transformations = [\n",
    "    (' none', lambda c:c),\n",
    "    ('  sqrt', lambda c: np.sqrt(makepositive(c))),\n",
    "    ('    cuberoot', lambda c: np.power(makepositive(c), 1/3)),\n",
    "    (' log', lambda c: np.log(makepositive(c)))]\n",
    "\n",
    "for col in cols:\n",
    "    for tr_name, tr_fn in transformations:\n",
    "        ret = findoutliers(tr_fn(df[col]))\n",
    "        outliers_n = ret.sum()\n",
    "        outliers.append([col, tr_name, outliers_n, np.round((outliers_n / n) * 100, 3)])\n",
    "    \n",
    "outliers_df = pd.DataFrame(outliers, columns=['feature', 'transform', 'outlier count', 'outlier %'])\n",
    "outliers_df = outliers_df.set_index(keys=['feature', 'transform'])\n",
    "outliers_df = outliers_df.unstack()\n",
    "outliers_df"
   ]
  },
  {
   "cell_type": "markdown",
   "id": "8623b368-70f5-4590-b90a-956a2aaf9dfa",
   "metadata": {},
   "source": [
    "**Observations**\n",
    "\n",
    "1. The table shown above shows outlier count and percent for all numerical variables. We show these information for the original variable (transform=none), as well as for transformed versions of these variables after taking log, sqrt, and cube root transformations. \n",
    "\n",
    "2. We notice that pub_rec (15.09%), pub_rec_bankruptcies (11.73%), revol_bal (5.28%), annual_inc (4.65%), open_acc(2.9%), and installment (2.7%) are features having high outlier values. The remaining features have outlier % < 2%. "
   ]
  },
  {
   "cell_type": "markdown",
   "id": "272a911b-ddca-413c-ab57-45f3fb944469",
   "metadata": {
    "tags": []
   },
   "source": [
    "### Outliers treatment\n",
    "\n",
    "1. We will convert pub_rec, mort_acc, and pub_rec_bankruptcies to binary flags. So we can ignore them from the outliers analysis. \n",
    "\n",
    "2. For annual_inc and open_acc, we will apply log transform before removing outliers. \n",
    "\n",
    "3. For installment, we will apply sqrt transformation before removing outliers. \n",
    "\n",
    "4. For the remaining features, we will just remove the outliers."
   ]
  },
  {
   "cell_type": "code",
   "execution_count": 12,
   "id": "872ebc9b-5433-4b0d-b6da-acdf0b160423",
   "metadata": {},
   "outputs": [
    {
     "name": "stdout",
     "output_type": "stream",
     "text": [
      "Reduction in rows after outliers removal: 10.43%\n"
     ]
    }
   ],
   "source": [
    "df.reset_index(drop=True, inplace=True)\n",
    "\n",
    "#prepare list of rows to be removed\n",
    "rem_list = [False] * len(df)\n",
    "rem_list = rem_list | findoutliers(np.log(makepositive(df['annual_inc'])))\n",
    "rem_list = rem_list | findoutliers(np.log(makepositive(df['open_acc'])))\n",
    "rem_list = rem_list | findoutliers(np.sqrt(makepositive(df['installment'])))\n",
    "\n",
    "cols = ['dti', 'int_rate', 'loan_amnt', 'revol_bal', 'revol_util', 'total_acc']\n",
    "\n",
    "for col in cols:    \n",
    "    rem_list = rem_list | findoutliers(df[col])\n",
    "\n",
    "#remove rows\n",
    "\n",
    "df = df[~rem_list]\n",
    "\n",
    "print(f'Reduction in rows after outliers removal: {np.round(np.sum(rem_list)/len(df) * 100,2)}%')"
   ]
  },
  {
   "cell_type": "markdown",
   "id": "e6763029-746b-4b6e-aa48-ef8b9c1db2e8",
   "metadata": {},
   "source": [
    "## Create train-test splits"
   ]
  },
  {
   "cell_type": "code",
   "execution_count": 13,
   "id": "69857155-8116-4c3f-ae49-6e77ea4b0cd5",
   "metadata": {},
   "outputs": [],
   "source": [
    "from sklearn.model_selection import train_test_split\n",
    "\n",
    "dfX = df[df.columns.drop('loan_status')]\n",
    "dfy = df['loan_status']\n",
    "\n",
    "X_train, X_test, y_train, y_test = train_test_split(dfX, dfy, train_size=0.8 ,random_state=100)\n",
    "\n",
    "X_train = X_train.reset_index(drop=True)\n",
    "X_test = X_test.reset_index(drop=True)\n",
    "y_train = y_train.reset_index(drop=True)\n",
    "y_test = y_test.reset_index(drop=True)\n",
    "\n",
    "df_train = pd.merge(X_train, y_train, left_index=True, right_index=True)"
   ]
  },
  {
   "cell_type": "markdown",
   "id": "8d9bd20a-7f13-4711-8f9e-a690e6475789",
   "metadata": {},
   "source": [
    "## Common helper functions"
   ]
  },
  {
   "cell_type": "code",
   "execution_count": 14,
   "id": "6cf49d39-6018-474a-90cc-01b1c1b1d8d1",
   "metadata": {
    "tags": []
   },
   "outputs": [],
   "source": [
    "# plots univariate plot(count or box) for feature x. \n",
    "# Optionally also plots bivariate plot (count or scatter) between x and y.\n",
    "def showplots(x, y=None, vartype=('cat', 'cat'), axs=None):\n",
    "    total = float(x.shape[0])\n",
    "    bivar=(y is not None)\n",
    "    \n",
    "    #initialize \n",
    "    if(axs is None):\n",
    "        size = None\n",
    "        if(bivar):\n",
    "            size = (12, 4) if (size is None) else size\n",
    "            gridrows = 1\n",
    "            gridcols = 2\n",
    "        else:\n",
    "            size = (6, 4) if (size is None) else size\n",
    "            gridrows = 1\n",
    "            gridcols = 1\n",
    "    \n",
    "        fig, ax = plt.subplots(gridrows, gridcols, figsize=size)        \n",
    "        axs = (ax[0], ax[1]) if (bivar) else (ax, None)\n",
    "    \n",
    "    #plot univariate\n",
    "    ax_curr = axs[0]\n",
    "    \n",
    "    if(vartype[0] == 'cat'):    \n",
    "        #plot count plot\n",
    "        sns.countplot(x=x, ax=ax_curr)\n",
    "        \n",
    "        #show percentage\n",
    "        showpercent(ax_curr, total)\n",
    "    \n",
    "    else: \n",
    "        #plot box plot\n",
    "        sns.boxplot(x=x, ax=ax_curr)\n",
    "        \n",
    "    #plot bivariate\n",
    "    if(bivar):\n",
    "        ax_curr = axs[1]\n",
    "        if(vartype[0] == 'cat'):\n",
    "            sns.countplot(x=x, hue=y, ax=ax_curr);\n",
    "            \n",
    "            #plot within hue percentages\n",
    "            showpercent_with_hue(ax_curr, hue_levels = len(y.unique()), x_levels=len(x.unique()))\n",
    "        else:\n",
    "            sns.boxplot(x=x, y=y.astype('category'), ax=ax_curr)\n",
    "            \n",
    "    plt.show()\n",
    "\n",
    "def showpercent(ax, total):\n",
    "    for p in ax.patches:\n",
    "            percent = '{:.1f}%'.format(100 * p.get_height()/total)\n",
    "            xpos = p.get_x() + p.get_width()/2\n",
    "            ypos = p.get_height()\n",
    "            ax.annotate(percent, (xpos, ypos),ha='center', va='bottom')\n",
    "            \n",
    "def showpercent_with_hue(ax, hue_levels, x_levels):\n",
    "            \n",
    "    heights = np.array([p.get_height() for p in ax.patches]).reshape((hue_levels, x_levels))\n",
    "    percents = np.round((heights * 100) / np.sum(heights, axis=0),1)\n",
    "    perclist = percents.flatten(order='C') #flatten in column-major (F-style) order\n",
    "            \n",
    "    for i in range(len(ax.patches)):                \n",
    "        p = ax.patches[i]\n",
    "        percent = f'{perclist[i]}%'\n",
    "        xpos = p.get_x() + p.get_width()/2\n",
    "        ypos = p.get_height()\n",
    "        ax.annotate(percent, (xpos, ypos),ha='center', va='bottom')\n",
    "\n",
    "from collections import namedtuple\n",
    "TfResult = namedtuple('TfResult', ['res', 'params'])\n",
    " \n",
    "#Helper class to manage feature transformations    \n",
    "class TransformationHelper:\n",
    "    \n",
    "    def __init__(self):\n",
    "        \n",
    "        # holds transformation model specific to each transform/encoding. \n",
    "        # In general, fit_transform creates and fits the transformation model. transform uses the model to return output\n",
    "        self._tfs = {}\n",
    "        \n",
    "    def fit_transform(self, tf_col, tf_fn, **kwargs):        \n",
    "        \n",
    "        if((tf_col is not None) and (tf_fn is not None)):\n",
    "            \n",
    "            #get feature name (to store in _tfs)\n",
    "            tf_col_name = tf_col.name\n",
    "            \n",
    "            # call transformation function with params\n",
    "            res, params = tf_fn(None, tf_col, **kwargs)\n",
    "            \n",
    "            #store tf_fn and params for later use in transform\n",
    "            self._tfs[tf_col_name] = (tf_fn, params)\n",
    "            \n",
    "            #return transformed data\n",
    "            return res\n",
    "        \n",
    "    def transform(self, tf_col, **kwargs):\n",
    "        tf_col_name = tf_col.name\n",
    "        if(tf_col_name in self._tfs.keys()):\n",
    "            tf_fn, params = self._tfs[tf_col_name]\n",
    "            res, params = tf_fn(params, tf_col, **kwargs)\n",
    "            return res\n",
    "        \n",
    "    def transform_all(self, df):        \n",
    "        \n",
    "        for col_name, details in self._tfs.items():\n",
    "            if(col_name in df.columns):                \n",
    "                fn = details[0]\n",
    "                params = details[1]\n",
    "                res, params = fn(params, df[col_name])\n",
    "                if(res is not None):\n",
    "                    df[col_name] = res\n",
    "                                \n",
    "\n",
    "\n",
    "\n",
    "\n",
    "#common standardization function \n",
    "def standardize_fn(params, x, **kwa):        \n",
    "    xval = x.values.reshape(-1,1) #convert series to 2d array\n",
    "    if(params is None):        \n",
    "        params = StandardScaler().fit(xval)\n",
    "    res = params.transform(xval)\n",
    "    return(res, params)   \n",
    "\n",
    "#common targetencoder factory method\n",
    "def get_targetenc_fn(smoothing=1.0, k=1, standardize=True):\n",
    "    def tfn(params, x, **kwa):       \n",
    "\n",
    "        if(params is None): #fit_transform case\n",
    "            y = kwa['y']\n",
    "            tenc = TargetEncoder(smoothing=smoothing, min_samples_leaf=k).fit(x, y)\n",
    "            tenc_res = tenc.transform(x)\n",
    "            fs = StandardScaler().fit(tenc_res)\n",
    "            res = fs.transform(tenc_res)            \n",
    "            params = (tenc, fs)\n",
    "\n",
    "        tenc = params[0]\n",
    "        fs = params[1]\n",
    "        \n",
    "        res = fs.transform(tenc.transform(x))\n",
    "        return(res, params)\n",
    "    \n",
    "    return tfn; #return target encoder function"
   ]
  },
  {
   "cell_type": "code",
   "execution_count": 15,
   "id": "e43e10ff-1292-4886-945a-d6c670c0a678",
   "metadata": {},
   "outputs": [],
   "source": [
    "transformation_helper = TransformationHelper()"
   ]
  },
  {
   "cell_type": "markdown",
   "id": "a20634e7-7652-4d9f-81e9-b630f5dd239e",
   "metadata": {},
   "source": [
    "## Understanding and preprocessing categorical features"
   ]
  },
  {
   "cell_type": "markdown",
   "id": "1626a516-fdb9-46c7-ab2e-7b51bf201671",
   "metadata": {},
   "source": [
    "### loan_status (target variable)\n",
    "\n",
    "Indicates the current status of the loan. "
   ]
  },
  {
   "cell_type": "code",
   "execution_count": 16,
   "id": "dde457c7-9c61-452a-8cd3-bb1f1a7de83f",
   "metadata": {},
   "outputs": [
    {
     "data": {
      "text/plain": [
       "Fully Paid     197138\n",
       "Charged Off     48626\n",
       "Name: loan_status, dtype: int64"
      ]
     },
     "execution_count": 16,
     "metadata": {},
     "output_type": "execute_result"
    }
   ],
   "source": [
    "y_train.value_counts()"
   ]
  },
  {
   "cell_type": "code",
   "execution_count": 17,
   "id": "cdc7f111-54e2-42ef-b060-586b004f6c73",
   "metadata": {},
   "outputs": [
    {
     "data": {
      "image/png": "[encoded data removed]",
      "text/plain": [
       "<Figure size 432x288 with 1 Axes>"
      ]
     },
     "metadata": {
      "needs_background": "light"
     },
     "output_type": "display_data"
    }
   ],
   "source": [
    "showplots(y_train)"
   ]
  },
  {
   "cell_type": "code",
   "execution_count": 18,
   "id": "6be580b1-739c-4b7f-b64c-8b11658f3f9b",
   "metadata": {},
   "outputs": [],
   "source": [
    "#map Fully Paid as 0 and Charged Off as 1\n",
    "def tfn(params, y, **kwa):        \n",
    "    return (y.map({'Fully Paid': 0, 'Charged Off': 1, 1:1, 0:0}), None)\n",
    "    \n",
    "y_train = transformation_helper.fit_transform(y_train, tfn)\n",
    "df_train['loan_status'] = y_train"
   ]
  },
  {
   "cell_type": "markdown",
   "id": "fb3069cd-f0af-4073-b879-dd80884e1379",
   "metadata": {},
   "source": [
    "**Observations:**"
   ]
  },
  {
   "cell_type": "markdown",
   "id": "826dd598-1091-4e38-a9a4-b0e10b8dca61",
   "metadata": {},
   "source": [
    "1. loan_status is our target variable with two values; Fully paid and Charged Off(borrower defaulted). We encode Fully paid as 0 and Charged Off as 1, so our final model will predict 0 for borrowers who it deems creditworthy and 1 for those who may potentially default. \n",
    "\n",
    "2. The data is moderately imbalanced. Around 80% of the records belong to class 0 and 20% belong to class 1. We will use class_weights parameter in sklearn LogisticRegression API to handle this.  "
   ]
  },
  {
   "cell_type": "markdown",
   "id": "2f39c7fd-3f18-4b3f-9c79-8b7452a00cc1",
   "metadata": {},
   "source": [
    "### term"
   ]
  },
  {
   "cell_type": "code",
   "execution_count": 19,
   "id": "a686d689-24da-4b8e-8cc1-b03418b0d2d5",
   "metadata": {},
   "outputs": [
    {
     "data": {
      "text/plain": [
       " 36 months    188091\n",
       " 60 months     57673\n",
       "Name: term, dtype: int64"
      ]
     },
     "execution_count": 19,
     "metadata": {},
     "output_type": "execute_result"
    }
   ],
   "source": [
    "X_train['term'].value_counts()"
   ]
  },
  {
   "cell_type": "code",
   "execution_count": 20,
   "id": "c146d440-a48d-4b47-9a44-592bc92c8726",
   "metadata": {},
   "outputs": [
    {
     "data": {
      "image/png": "[encoded data removed]",
      "text/plain": [
       "<Figure size 864x288 with 2 Axes>"
      ]
     },
     "metadata": {
      "needs_background": "light"
     },
     "output_type": "display_data"
    }
   ],
   "source": [
    "showplots(x=X_train['term'], y=y_train)"
   ]
  },
  {
   "cell_type": "code",
   "execution_count": 21,
   "id": "f5edd73a-225c-442f-a599-b9e373f99907",
   "metadata": {},
   "outputs": [],
   "source": [
    "# remove months suffix and convert to binary column\n",
    "def tfn(params, x, **kwa):        \n",
    "    return (x.map({' 36 months': 0, ' 60 months': 1, 1:1, 0:0}), None)\n",
    "    \n",
    "X_train['term'] = transformation_helper.fit_transform(X_train['term'], tfn)"
   ]
  },
  {
   "cell_type": "markdown",
   "id": "4743c503-9fce-41e3-8c2c-1e0d2db954d1",
   "metadata": {},
   "source": [
    "**Observations**\n",
    "\n",
    "1. Around 76% of the records are for 36 months term and 24% for 60 months term. \n",
    "\n",
    "2. For 36 months term, the percentage of defaulters is 15.7% which is less than the overall defaulter percentage of ~20%. On the other hand, for 60 months term, the percentage of defaulters increases to 32.6%. Thus term seems like an important factor in determining creditworthiness."
   ]
  },
  {
   "cell_type": "markdown",
   "id": "eb714434-df85-4e6d-bcb2-588cd53079f6",
   "metadata": {},
   "source": [
    "### grade"
   ]
  },
  {
   "cell_type": "code",
   "execution_count": 22,
   "id": "b2ad4ee9-b026-443f-858c-a8084f74aaf8",
   "metadata": {},
   "outputs": [
    {
     "data": {
      "text/plain": [
       "B    73035\n",
       "C    68012\n",
       "D    39955\n",
       "A    36905\n",
       "E    19494\n",
       "F     7160\n",
       "G     1203\n",
       "Name: grade, dtype: int64"
      ]
     },
     "execution_count": 22,
     "metadata": {},
     "output_type": "execute_result"
    }
   ],
   "source": [
    "X_train['grade'].value_counts()"
   ]
  },
  {
   "cell_type": "code",
   "execution_count": 23,
   "id": "0d999ddf-47cd-45bc-84df-d5c83b208d56",
   "metadata": {},
   "outputs": [
    {
     "data": {
      "image/png": "[encoded data removed]",
      "text/plain": [
       "<Figure size 720x720 with 2 Axes>"
      ]
     },
     "metadata": {
      "needs_background": "light"
     },
     "output_type": "display_data"
    }
   ],
   "source": [
    "fig, axs = plt.subplots(2, 1, figsize=(10,10))\n",
    "showplots(x=X_train['grade'], y=y_train, axs=axs)"
   ]
  },
  {
   "cell_type": "markdown",
   "id": "5f55bcfb-159f-477a-a41d-8e75e96b71f5",
   "metadata": {},
   "source": [
    "**Observations**\n",
    "\n",
    "1. There are total seven loan grades. A, B, C, D, E, F, and G.  Grade B is the most common grade(constituting 29.2% records), followed by Grade C (27.5%), Grade D (16.3%), and Grade A(15.2%). Grade E, Grade F, and Grade G constitute smaller percent of total records (8%, 3%, and <1% respectively).\n",
    "\n",
    "2. The defaulter rate for grade A loans(6%) and grade B loans(12.1%) are less than the overall defaulter rate. The defaulter rate for grade C loans (21%) is almost equal to the overall defaulter rate. The defaulter rate, on the other hand, for Grade D, E, F, and G are all higher than the overall defaulter rate. Thus, in general, as the grade of loan increase from A to G, the defaulter rate is increasing monotonically. Thus grade of loan appears to be an important factor in determining creditworthiness. "
   ]
  },
  {
   "cell_type": "markdown",
   "id": "a1d72e81-149e-4886-bd96-958113c5018a",
   "metadata": {},
   "source": [
    "### sub_grade"
   ]
  },
  {
   "cell_type": "code",
   "execution_count": null,
   "id": "43338c83-7638-4364-b57f-4f684242d321",
   "metadata": {},
   "outputs": [],
   "source": [
    "X_train['sub_grade'].value_counts()"
   ]
  },
  {
   "cell_type": "code",
   "execution_count": null,
   "id": "1489d5c8-e6c7-4f42-9e1b-4d8a828ce4cc",
   "metadata": {},
   "outputs": [],
   "source": [
    "#confirm if sub-grade '<G><SG>' belongs to grade '<G>'\n",
    "(X_train['sub_grade'].str.slice(0,1) == X_train['grade']).value_counts()"
   ]
  },
  {
   "cell_type": "code",
   "execution_count": null,
   "id": "a7949ee9-d311-4afa-8d64-2d761c0dce75",
   "metadata": {},
   "outputs": [],
   "source": [
    "#Since there are 35 subgrades, it's difficult to visualize all levels in one plot. We can draw several plots.\n",
    "\n",
    "grades = sorted(X_train['grade'].unique())\n",
    "fig, ax = plt.subplots(len(grades), 1, figsize=(10,24))\n",
    "\n",
    "x = 'sub_grade'\n",
    "y = 'loan_status'\n",
    "\n",
    "for i in range(len(grades)):\n",
    "    grade_mask = X_train['grade'] == grades[i]\n",
    "    xvar = X_train[grade_mask]['sub_grade']\n",
    "    yvar = y_train[grade_mask]\n",
    "    \n",
    "    sns.countplot(x=xvar, hue=yvar, ax=ax[i]);\n",
    "    \n",
    "    #plot within hue percentages\n",
    "    showpercent_with_hue(ax[i], hue_levels = len(yvar.unique()), x_levels=len(xvar.unique()))\n",
    "\n",
    "plt.show()\n"
   ]
  },
  {
   "cell_type": "code",
   "execution_count": null,
   "id": "56a7e531-c47a-433b-9fcb-906a1659214f",
   "metadata": {},
   "outputs": [],
   "source": [
    "# check defaulter ratio for each subgrade\n",
    "df['loan_status'] = df['loan_status'].map({'Fully Paid': 0, 'Charged Off': 1, 1:1, 0:0})\n",
    "df_plt = df.groupby('sub_grade')['loan_status'].mean().transform(lambda x: x*100).reset_index().rename(columns={'loan_status': 'defaulter %'}).sort_values(by='sub_grade')\n",
    "fig, ax = plt.subplots(1,1, figsize=(10,4))\n",
    "sns.lineplot(x='sub_grade', y='defaulter %', data=df_plt, ax=ax)\n",
    "plt.show()"
   ]
  },
  {
   "cell_type": "markdown",
   "id": "ce2b1b70-86c4-479c-9385-7cde5e43a291",
   "metadata": {},
   "source": [
    "**Observations**\n",
    "\n",
    "1. There are total 35 sub-grades, with each grade 'R' having sub-grades R1 to R5. Most common five sub-grades are B3, B4, C1, C2, and B2. \n",
    "\n",
    "2. As shown in the graph above, in general, for a given grade 'R', as we go from sub-grade 'R1' to 'R5', the defaulter rate increases. Also, in general, there is an ordering among sub-grades belonging to different grades. So 'Ri' has lower defaulter rate than 'Sj' if grade 'R' is lower than grade 'S'. Thus, sub-grade also appears to be an important factor in determining creditworthiness. \n",
    "\n",
    "3. We see that grades and sub-grades are closely related as sub-grades provides more granular categorization of grades. TODO: We may potentially need only one of them in our model. "
   ]
  },
  {
   "cell_type": "markdown",
   "id": "e08a6c45-de04-4ff6-a1ad-bdd51036c0a9",
   "metadata": {},
   "source": [
    "#### Converting grade and sub-grade to numerical variables \n",
    "\n",
    "We will use target encoding to convert grade and sub-grade to numerical values.  "
   ]
  },
  {
   "cell_type": "code",
   "execution_count": null,
   "id": "e32f8eed-f9c9-4eda-a37a-96ab21792152",
   "metadata": {},
   "outputs": [],
   "source": [
    "#!pip install category_encoders\n",
    "from category_encoders.target_encoder import TargetEncoder\n",
    "\n",
    "# target encode grade and sub_grade features\n",
    "X_train['grade'] = transformation_helper.fit_transform(X_train['grade'], get_targetenc_fn(), y=y_train)\n",
    "X_train['sub_grade'] = transformation_helper.fit_transform(X_train['sub_grade'], get_targetenc_fn(), y=y_train)\n",
    "df_train['grade'] = X_train['grade']\n",
    "df_train['sub_grade'] = X_train['sub_grade']"
   ]
  },
  {
   "cell_type": "markdown",
   "id": "3aff5323-b2d0-43db-8ba3-084da29d3ca9",
   "metadata": {},
   "source": [
    "### emp_title"
   ]
  },
  {
   "cell_type": "code",
   "execution_count": null,
   "id": "66472c92-3a3d-4faa-a510-6cefd924f499",
   "metadata": {},
   "outputs": [],
   "source": [
    "df_train['emp_title'].nunique()"
   ]
  },
  {
   "cell_type": "code",
   "execution_count": null,
   "id": "41c2fa36-ac08-4ea4-afd1-71d2f927d8c4",
   "metadata": {},
   "outputs": [],
   "source": [
    "df_train['emp_title'] = df_train['emp_title'].str.lower().str.strip()\n",
    "df_train['emp_title'].nunique()"
   ]
  },
  {
   "cell_type": "code",
   "execution_count": null,
   "id": "f97735ed-aab0-441d-805e-09cea887acb0",
   "metadata": {},
   "outputs": [],
   "source": [
    "df_train['emp_title'].value_counts().sort_values(ascending=False)[0:30]"
   ]
  },
  {
   "cell_type": "markdown",
   "id": "725fca86-c009-4535-b5d1-c525ed3bd233",
   "metadata": {},
   "source": [
    "**Observations:**\n",
    "\n",
    "1. After accounting for case differences and whitespaces, we see 107429 unique employee titles.\n",
    "\n",
    "2. Manager, teacher and supervisor are three most common titles. We also see 'rn' as well as 'registered nurse'. We are not sure if they essentially the same title. \n",
    "\n",
    "3. Since the number of titles are huge, in this case-study, we will not be using it as input feature. "
   ]
  },
  {
   "cell_type": "markdown",
   "id": "ab001fbc-4f50-48fd-b31f-b90d83e3671c",
   "metadata": {},
   "source": [
    "### emp_length"
   ]
  },
  {
   "cell_type": "code",
   "execution_count": null,
   "id": "f3cc7f5c-591c-43b6-9ac2-d4cbfc6d6717",
   "metadata": {},
   "outputs": [],
   "source": [
    "X_train['emp_length'].value_counts()"
   ]
  },
  {
   "cell_type": "code",
   "execution_count": null,
   "id": "6ddb6be1-ce98-4042-b5a5-92ffbb8eb731",
   "metadata": {},
   "outputs": [],
   "source": [
    "fig, axs = plt.subplots(2, 1, figsize=(12,10))\n",
    "showplots(x=X_train['emp_length'], y=y_train, axs=axs)"
   ]
  },
  {
   "cell_type": "code",
   "execution_count": null,
   "id": "874367e9-0276-46e3-bd01-4f5fb7badf6a",
   "metadata": {},
   "outputs": [],
   "source": [
    "#target encoding emp_length. \n",
    "X_train['emp_length'] = transformation_helper.fit_transform(X_train['emp_length'], get_targetenc_fn(), y=y_train)\n",
    "df_train['emp_length'] = X_train['emp_length']\n",
    "\n",
    "X_train['emp_length'].describe()"
   ]
  },
  {
   "cell_type": "markdown",
   "id": "63ca0cd6-d0a6-4e2a-8998-adbe77e046a6",
   "metadata": {},
   "source": [
    "**Observation**\n",
    "\n",
    "1. Around 34% of the training records are for 10+ years of experience. The percent of records for other employment length range from 4.1% to 9.4%\n",
    "\n",
    "2. For 10+ year experience, the defaulter rate is around 18.6%, which is slightly less than the overall defaulter rate (of ~20%). For <1 year, on the other hand, the defaulter rate is around 21.6%, which is slightly more than the overall default rate. For the other employment length values, the defaulter rate hovers around the overall defaulter rate of 20%. Thus, based on this data, it appears that emp_length may not be that significant in predicting creditworthiness of an employee."
   ]
  },
  {
   "cell_type": "markdown",
   "id": "c72cf5f9-efa6-4b27-a73b-2ef55664a755",
   "metadata": {},
   "source": [
    "### home_ownership"
   ]
  },
  {
   "cell_type": "code",
   "execution_count": null,
   "id": "364bb3a5-6da6-4a29-8f31-fd0d4dfd6127",
   "metadata": {},
   "outputs": [],
   "source": [
    "X_train['home_ownership'].value_counts()"
   ]
  },
  {
   "cell_type": "code",
   "execution_count": null,
   "id": "aaceba75-361d-4025-a6ee-a4d35e5483ae",
   "metadata": {},
   "outputs": [],
   "source": [
    "fig, axs = plt.subplots(2, 1, figsize=(8,10))\n",
    "showplots(x=X_train['home_ownership'], y=y_train, axs=axs)"
   ]
  },
  {
   "cell_type": "markdown",
   "id": "ff87795f-272b-4e84-83e4-907ae9b0f722",
   "metadata": {},
   "source": [
    "**Observations**\n",
    "\n",
    "- Rent  home_ownership has above average defaulter rate."
   ]
  },
  {
   "cell_type": "markdown",
   "id": "3bce4f4e-a4f1-44f5-9944-cf945c65fefb",
   "metadata": {},
   "source": [
    "#### Encoding home_ownership:\n",
    "\n",
    "We observe that number of records for Other and None home ownership type are very low (around 20). We will use target encoding along with smoothing=10 and min_leaf_nodes=20, so that the resultant alpha is close to 0.5 for Other and None sample sizes, thus giving equal weight to global and class mean. For other larger classes, the alpha is very close to 1, and hence, giving weight only to class mean. The graph shown below shows apha values as n increase from 0 to 100. "
   ]
  },
  {
   "cell_type": "code",
   "execution_count": null,
   "id": "ebd4d348-5639-41c8-aeab-807204cc64e0",
   "metadata": {},
   "outputs": [],
   "source": [
    "def alpha(n, k, f):\n",
    "    return 1 / (1 + np.exp(-(n-k)/f))\n",
    "\n",
    "x_vals = []\n",
    "y_vals = []\n",
    "\n",
    "f = 10\n",
    "k = 20\n",
    "\n",
    "x_vals = list(range(0, 100, 10))\n",
    "y_vals = [alpha(n, k, f) for n in x_vals]\n",
    "\n",
    "fig, ax = plt.subplots(1,1, figsize=(18, 4))\n",
    "sns.lineplot(x=x_vals, y=y_vals)    "
   ]
  },
  {
   "cell_type": "code",
   "execution_count": null,
   "id": "e5594340-e3ca-4e1a-a9b1-c7b68db6e45d",
   "metadata": {},
   "outputs": [],
   "source": [
    "# target encode home_ownership\n",
    "\n",
    "X_train['home_ownership'] = transformation_helper.fit_transform(X_train['home_ownership'], get_targetenc_fn(10, 20), y=y_train)\n",
    "df_train['home_ownership'] = X_train['home_ownership']"
   ]
  },
  {
   "cell_type": "markdown",
   "id": "8aad7383-1a50-4840-87c2-a0c5bf465132",
   "metadata": {},
   "source": [
    "### verification_status"
   ]
  },
  {
   "cell_type": "code",
   "execution_count": null,
   "id": "d8a06b92-df4b-459f-8691-62d76a13cffe",
   "metadata": {},
   "outputs": [],
   "source": [
    "X_train['verification_status'].value_counts()"
   ]
  },
  {
   "cell_type": "code",
   "execution_count": null,
   "id": "428740fe-7e18-4954-8b90-71d37db7d492",
   "metadata": {},
   "outputs": [],
   "source": [
    "fig, axs = plt.subplots(2, 1, figsize=(8,10))\n",
    "showplots(x=X_train['verification_status'], y=y_train, axs=axs)"
   ]
  },
  {
   "cell_type": "markdown",
   "id": "9977447c-efb4-4c8e-a0f5-02b99921c737",
   "metadata": {},
   "source": [
    "**Observations**\n",
    "\n",
    "1. There are roughly equal number of records for 'verified', 'source verified', and 'Not verified' verification status. \n",
    "\n",
    "2. We notice that defaulter proportion for 'verify' or 'source verified' are almost equal at around 22% which is higher than the average defaulter proportion of 20%. On the other hand, the defaulter proportion for 'Not verified' profiles is much lesser at around 14.8% than the overall defaulter proportion. This seems counter-intuitive at first. One potential explanation could be that only those profiles are verified which are less creditworthy to begin with.\n",
    "\n",
    "3. Since the defaulter prop for source verified and verified is almost identical, we can combine them together and create a dichotomous variable with values 1 (verified) and 0 (not verified)"
   ]
  },
  {
   "cell_type": "markdown",
   "id": "6bd61509-839a-4069-b633-91ffc623b1fd",
   "metadata": {},
   "source": [
    "#### encoding verification_status"
   ]
  },
  {
   "cell_type": "code",
   "execution_count": null,
   "id": "d6fa91f9-4a34-4a21-afc3-b36f440f1997",
   "metadata": {},
   "outputs": [],
   "source": [
    "def tfn(params, x, **kwa):        \n",
    "    res = x.map({'Verified': 1, 'Source Verified': 1, 'Not Verified': 0, 1:1, 0:0})\n",
    "    return(res, None)\n",
    "    \n",
    "X_train['verification_status'] = transformation_helper.fit_transform(X_train['verification_status'], tfn, y=y_train)\n",
    "df_train['verification_status'] = X_train['verification_status']"
   ]
  },
  {
   "cell_type": "markdown",
   "id": "6284dda2-1357-4b3b-9b39-56395ab33151",
   "metadata": {},
   "source": [
    "### issue_d"
   ]
  },
  {
   "cell_type": "code",
   "execution_count": null,
   "id": "a2542126-9cf8-4260-a651-233f8724cd0e",
   "metadata": {},
   "outputs": [],
   "source": [
    "#Extract months\n",
    "X_train['issue_d_mon'] = X_train['issue_d'].str.lower().str.strip().str.slice(0,3)\n",
    "\n",
    "#Extract quarter\n",
    "def mon_to_quarter(val):\n",
    "    if(val in ['jan', 'feb', 'mar']):\n",
    "        return 'q1'\n",
    "    elif (val in ['apr', 'may', 'jun']):\n",
    "        return 'q2'\n",
    "    elif (val in ['jul', 'aug', 'sep']):\n",
    "        return 'q3'\n",
    "    else: \n",
    "        return 'q4'\n",
    "    \n",
    "X_train['issue_d_qt'] = X_train['issue_d_mon'].transform(mon_to_quarter)"
   ]
  },
  {
   "cell_type": "code",
   "execution_count": null,
   "id": "cb8cd6b5-6f59-48d9-a8b9-643bd0a667ad",
   "metadata": {},
   "outputs": [],
   "source": [
    "fig, axs = plt.subplots(2, 1, figsize=(10,10))\n",
    "showplots(x=X_train['issue_d_mon'], y=y_train, axs=axs)"
   ]
  },
  {
   "cell_type": "code",
   "execution_count": null,
   "id": "53170d14-c712-4f01-bab1-d8e3077948c5",
   "metadata": {},
   "outputs": [],
   "source": [
    "fig, axs = plt.subplots(2, 1, figsize=(8,8))\n",
    "showplots(x=X_train['issue_d_qt'], y=y_train, axs=axs)"
   ]
  },
  {
   "cell_type": "markdown",
   "id": "6a4ca2ad-dae9-4c9d-8099-5f5144d9f139",
   "metadata": {},
   "source": [
    "**Observations**\n",
    "\n",
    "1. At monthly level, the defaulter proportion is lowest for December (16.9%), November(18.6%), and Sep(18.8%). For the remaining months it ranges from 19% to 21%. \n",
    "\n",
    "2. At quarterly level, the defaulter proportion is lowest for q4 (18.6%) and highest for q2(20.7%).\n",
    "\n",
    "3. We do not see significant difference in defaulter proportion at quarterly level or at monthly level (barring the month of December). In the absence of any further business context, issue_d does not seem like an important factor in predicting creditworthiness. We will likely ignore this variable."
   ]
  },
  {
   "cell_type": "markdown",
   "id": "cc6e9aad-333e-4618-aca5-8645e4f5f56a",
   "metadata": {},
   "source": [
    "### purpose"
   ]
  },
  {
   "cell_type": "code",
   "execution_count": null,
   "id": "6aa5ce5e-eee3-4dfd-a50e-4c7dab29d696",
   "metadata": {},
   "outputs": [],
   "source": [
    "X_train['purpose'].value_counts()"
   ]
  },
  {
   "cell_type": "code",
   "execution_count": null,
   "id": "b92519ad-3288-455b-aa02-0e002cb3ea88",
   "metadata": {},
   "outputs": [],
   "source": [
    "df_train.groupby('purpose')['loan_status'].mean().transform(lambda x: x*100).reset_index().rename(columns={'loan_status': 'defaulter %'}).sort_values(by='defaulter %', ascending=False)"
   ]
  },
  {
   "cell_type": "markdown",
   "id": "80a66358-0852-452f-9e8f-e53a50770338",
   "metadata": {},
   "source": [
    "**Observations**\n",
    "\n",
    "1. The defaulter proportion seems to be varying for different load purpose values with small_business having highest value (31.4%), followed by 'renewable_energy' (25.2%), and 'moving' (23.9%). Car (14.54%) and 'wedding' (14.49%), on the other hand, seems least risky. \n",
    "\n",
    "2. We will use target encoding with smoothing and min_leaf_sample parameters as some of the classes have very few samples. "
   ]
  },
  {
   "cell_type": "markdown",
   "id": "7392befb-ecce-4a10-ac42-f2141168bbef",
   "metadata": {},
   "source": [
    "#### encoding purpose"
   ]
  },
  {
   "cell_type": "code",
   "execution_count": null,
   "id": "7619f775-acc4-4dad-9811-d213aebe2de7",
   "metadata": {},
   "outputs": [],
   "source": [
    "X_train['purpose'] = transformation_helper.fit_transform(X_train['purpose'], get_targetenc_fn(10, 200), y=y_train)\n",
    "df_train['purpose'] = X_train['purpose']"
   ]
  },
  {
   "cell_type": "markdown",
   "id": "100a673e-180d-4f49-af7a-2526f5db06fb",
   "metadata": {},
   "source": [
    "### title"
   ]
  },
  {
   "cell_type": "code",
   "execution_count": null,
   "id": "e25deda6-83cd-4fc3-aac6-592f7cd93442",
   "metadata": {},
   "outputs": [],
   "source": [
    "X_train['title'].str.lower().str.strip().nunique()"
   ]
  },
  {
   "cell_type": "code",
   "execution_count": 49,
   "id": "61d44f35-de8b-4ea5-9f60-074af1d5affe",
   "metadata": {},
   "outputs": [
    {
     "data": {
      "text/plain": [
       "debt consolidation           114394\n",
       "credit card refinancing       34525\n",
       "home improvement              11022\n",
       "other                          8663\n",
       "consolidation                  3646\n",
       "major purchase                 3364\n",
       "business                       1983\n",
       "medical expenses               1811\n",
       "credit card consolidation      1582\n",
       "car financing                  1495\n",
       "debt consolidation loan        1298\n",
       "vacation                       1243\n",
       "credit card payoff             1227\n",
       "credit card refinance          1190\n",
       "personal loan                  1149\n",
       "consolidation loan             1128\n",
       "moving and relocation          1126\n",
       "consolidate                     971\n",
       "home buying                     783\n",
       "personal                        758\n",
       "Name: title, dtype: int64"
      ]
     },
     "execution_count": 49,
     "metadata": {},
     "output_type": "execute_result"
    }
   ],
   "source": [
    "X_train['title'].str.lower().str.strip().value_counts()[0:20]"
   ]
  },
  {
   "cell_type": "markdown",
   "id": "c1599bbb-2a8c-4c2c-93db-a23dc4a2c8a7",
   "metadata": {},
   "source": [
    "**Observations:**\n",
    "\n",
    "1. After accounting for case differences and whitespaces, we see 20356 unique titles.\n",
    "\n",
    "2. 'debt consolidation', 'credit card refinancing', and 'home improvement' are three most common titles. \n",
    "\n",
    "3. Since the number of titles are huge, in this case-study, we will not be using it as input feature. "
   ]
  },
  {
   "cell_type": "markdown",
   "id": "8c78a8b4-1ffe-473a-bace-9fae1f8f4ab8",
   "metadata": {},
   "source": [
    "### earliest_cr_line\n",
    "\n",
    "The month the borrower's earliest reported credit line was opened"
   ]
  },
  {
   "cell_type": "code",
   "execution_count": 50,
   "id": "52b28074-a83d-4514-b0e8-bea0f8b2eea5",
   "metadata": {},
   "outputs": [
    {
     "data": {
      "text/plain": [
       "oct-2001    1919\n",
       "aug-2000    1886\n",
       "aug-2001    1885\n",
       "oct-2000    1869\n",
       "aug-2002    1770\n",
       "            ... \n",
       "jul-1951       1\n",
       "nov-1966       1\n",
       "jun-1959       1\n",
       "apr-1965       1\n",
       "sep-1960       1\n",
       "Name: earliest_cr_line, Length: 639, dtype: int64"
      ]
     },
     "execution_count": 50,
     "metadata": {},
     "output_type": "execute_result"
    }
   ],
   "source": [
    "X_train['earliest_cr_line'].str.lower().str.strip().value_counts()"
   ]
  },
  {
   "cell_type": "markdown",
   "id": "8c7a96aa-962d-420d-bc95-cbf488e2dce5",
   "metadata": {},
   "source": [
    "**Observation**\n",
    "\n",
    "Since it represents month/year of the earliest credit line, it doesn't look like an important factor in predicting creditworthiness of future customers. We will not use this feature."
   ]
  },
  {
   "cell_type": "code",
   "execution_count": null,
   "id": "06d14579-d34f-43dc-92e1-2e6db47b371f",
   "metadata": {},
   "outputs": [],
   "source": []
  },
  {
   "cell_type": "markdown",
   "id": "2e0fd151-5c66-4a01-ad53-57c1584b088d",
   "metadata": {},
   "source": [
    "### initial_list_status"
   ]
  },
  {
   "cell_type": "code",
   "execution_count": 51,
   "id": "50220c00-188a-4590-a2c4-3ad8865eb3ec",
   "metadata": {},
   "outputs": [
    {
     "data": {
      "image/png": "[encoded data removed]",
      "text/plain": [
       "<Figure size 864x288 with 2 Axes>"
      ]
     },
     "metadata": {
      "needs_background": "light"
     },
     "output_type": "display_data"
    }
   ],
   "source": [
    "showplots(x=X_train['initial_list_status'], y=y_train)"
   ]
  },
  {
   "cell_type": "markdown",
   "id": "fb977428-97d2-47b3-ba20-3e8bfba21d7e",
   "metadata": {},
   "source": [
    "**Observations**\n",
    "\n",
    "1. Around 43% of overall records has initial list status as 'w'. Remaining 53% has initial list status as 'f'.\n",
    "\n",
    "2. The defaulter proportion for records having 'w' and 'f' as the initial list status is same. So initial list status does not look like an important feature in predicting creditworthiness."
   ]
  },
  {
   "cell_type": "markdown",
   "id": "14fdb17d-65c5-4c6e-adb9-c9b7924eb831",
   "metadata": {},
   "source": [
    "### application_type"
   ]
  },
  {
   "cell_type": "code",
   "execution_count": 52,
   "id": "62baef37-4f4c-4d30-b931-dff86c1cd0e6",
   "metadata": {},
   "outputs": [
    {
     "data": {
      "image/png": "[encoded data removed]",
      "text/plain": [
       "<Figure size 864x288 with 2 Axes>"
      ]
     },
     "metadata": {
      "needs_background": "light"
     },
     "output_type": "display_data"
    }
   ],
   "source": [
    "showplots(x=X_train['application_type'], y=y_train)"
   ]
  },
  {
   "cell_type": "markdown",
   "id": "a7bee0be-cf3b-4112-85cc-047ce3f23678",
   "metadata": {},
   "source": [
    "**Observations**\n",
    "\n",
    "1. There are very few records (~0.1) for Joint application_type of Direct pay. 99.9% of the records are for individual application type. Since we do not have sufficient data for joint and direct_pay levels, we will ignore this feature in the further analysis."
   ]
  },
  {
   "cell_type": "markdown",
   "id": "d0d2eb56-fc27-4137-a7b7-e81e34c2b5be",
   "metadata": {},
   "source": [
    "### address"
   ]
  },
  {
   "cell_type": "code",
   "execution_count": 53,
   "id": "b6f1ea7a-485e-4ab4-9104-d025b2bdc83a",
   "metadata": {},
   "outputs": [
    {
     "data": {
      "text/plain": [
       "244780"
      ]
     },
     "execution_count": 53,
     "metadata": {},
     "output_type": "execute_result"
    }
   ],
   "source": [
    "X_train['address'] = X_train['address'].str.lower().str.strip()\n",
    "X_train['address'].nunique()"
   ]
  },
  {
   "cell_type": "code",
   "execution_count": 54,
   "id": "6e0f5488-0407-4f82-a1d1-70b610296a14",
   "metadata": {},
   "outputs": [
    {
     "data": {
      "text/plain": [
       "uss johnson\\r\\nfpo ae 48052                                   6\n",
       "uscgc miller\\r\\nfpo aa 22690                                  6\n",
       "uss smith\\r\\nfpo ap 70466                                     5\n",
       "uss williams\\r\\nfpo ae 00813                                  5\n",
       "usnv smith\\r\\nfpo ae 30723                                    5\n",
       "                                                             ..\n",
       "63544 jessica groves apt. 426\\r\\nlake tinaside, il 22690      1\n",
       "2140 jeffrey dale\\r\\nsherristad, in 48052                     1\n",
       "2529 patrick terrace\\r\\njenniferton, ar 00813                 1\n",
       "054 williams view suite 404\\r\\nlake pattychester, nm 70466    1\n",
       "804 amanda fort suite 126\\r\\neast markville, wi 22690         1\n",
       "Name: address, Length: 244780, dtype: int64"
      ]
     },
     "execution_count": 54,
     "metadata": {},
     "output_type": "execute_result"
    }
   ],
   "source": [
    "X_train['address'].value_counts()"
   ]
  },
  {
   "cell_type": "code",
   "execution_count": 55,
   "id": "9fa9b6bf-3c57-4051-baa2-22a9bbfb61cf",
   "metadata": {},
   "outputs": [
    {
     "data": {
      "text/plain": [
       "ap 70466    1374\n",
       "ae 22690    1323\n",
       "ap 22690    1305\n",
       "aa 22690    1283\n",
       "aa 30723    1273\n",
       "            ... \n",
       "dc 93700     102\n",
       "id 11650     102\n",
       "id 86630     101\n",
       "de 93700      99\n",
       "md 86630      97\n",
       "Name: address, Length: 540, dtype: int64"
      ]
     },
     "execution_count": 55,
     "metadata": {},
     "output_type": "execute_result"
    }
   ],
   "source": [
    "## try extracting last 8 chars\n",
    "addr_state_pin = X_train['address'].str.slice(-1, -9, -1).str.slice(start=-1, step=-1)\n",
    "addr_state_pin.value_counts()"
   ]
  },
  {
   "cell_type": "code",
   "execution_count": 56,
   "id": "5229efdc-e12e-4652-a634-97bc875faeab",
   "metadata": {
    "tags": []
   },
   "outputs": [
    {
     "data": {
      "text/plain": [
       "addr_state\n",
       "aa    0.80\n",
       "ae    0.81\n",
       "ak    0.80\n",
       "al    0.80\n",
       "ap    0.80\n",
       "ar    0.80\n",
       "az    0.80\n",
       "ca    0.81\n",
       "co    0.81\n",
       "ct    0.81\n",
       "dc    0.81\n",
       "de    0.80\n",
       "fl    0.81\n",
       "ga    0.81\n",
       "hi    0.81\n",
       "ia    0.81\n",
       "id    0.80\n",
       "il    0.80\n",
       "in    0.81\n",
       "ks    0.80\n",
       "ky    0.79\n",
       "la    0.81\n",
       "ma    0.80\n",
       "md    0.80\n",
       "me    0.80\n",
       "mi    0.81\n",
       "mn    0.82\n",
       "mo    0.80\n",
       "ms    0.80\n",
       "mt    0.80\n",
       "nc    0.79\n",
       "nd    0.80\n",
       "ne    0.79\n",
       "nh    0.80\n",
       "nj    0.80\n",
       "nm    0.80\n",
       "nv    0.79\n",
       "ny    0.81\n",
       "oh    0.81\n",
       "ok    0.80\n",
       "or    0.81\n",
       "pa    0.80\n",
       "ri    0.81\n",
       "sc    0.80\n",
       "sd    0.80\n",
       "tn    0.80\n",
       "tx    0.80\n",
       "ut    0.80\n",
       "va    0.80\n",
       "vt    0.81\n",
       "wa    0.80\n",
       "wi    0.79\n",
       "wv    0.79\n",
       "wy    0.79\n",
       "Name: loan_status, dtype: float64"
      ]
     },
     "execution_count": 56,
     "metadata": {},
     "output_type": "execute_result"
    }
   ],
   "source": [
    "## try extracting last state chars\n",
    "addr_state = addr_state_pin.str.slice(0,2)\n",
    "df_train['addr_state'] = addr_state\n",
    "\n",
    "#check defaulter proportion per state\n",
    "np.round(1 - df_train.groupby('addr_state')['loan_status'].mean(),2)"
   ]
  },
  {
   "cell_type": "markdown",
   "id": "7cee3ed8-111f-4ccc-b956-7a1a3a99cb0f",
   "metadata": {},
   "source": [
    "**Observations**\n",
    "\n",
    "1. There 540 unique combinations of {state, zip} in the addresses. The number of records for these combinations range from 97 to 1374. We think the combination of {state, zip} becomes too specific. We can instead check at state level.\n",
    "\n",
    "2. There are 54 unique states. The defaulter proportion across all the states hover around 20% mark which is also the overall defaulter proportion. Thus state does not seem like an significant factor in predicting creditworthiness. We will not use this feature in further analysis."
   ]
  },
  {
   "cell_type": "markdown",
   "id": "84335a98-f228-4b7d-8450-cccfdc9565e3",
   "metadata": {},
   "source": [
    "## Understanding and preprocessing numerical features"
   ]
  },
  {
   "cell_type": "markdown",
   "id": "11fa52a7-8f21-489b-812a-5130996311cf",
   "metadata": {
    "tags": []
   },
   "source": [
    "### loan_amnt"
   ]
  },
  {
   "cell_type": "code",
   "execution_count": 57,
   "id": "9f774522-e898-4531-be52-615d0d25c119",
   "metadata": {},
   "outputs": [
    {
     "data": {
      "image/png": "[encoded data removed]",
      "text/plain": [
       "<Figure size 864x288 with 2 Axes>"
      ]
     },
     "metadata": {
      "needs_background": "light"
     },
     "output_type": "display_data"
    }
   ],
   "source": [
    "showplots(x=X_train['loan_amnt'], y=y_train, vartype=('num', 'cat'))"
   ]
  },
  {
   "cell_type": "code",
   "execution_count": 58,
   "id": "539695fa-3b71-4a7a-9fac-dde3619ce4b0",
   "metadata": {},
   "outputs": [],
   "source": [
    "# print('overall')\n",
    "# print(df_train['loan_amnt'].agg(['mean', 'median']))\n",
    "\n",
    "# print('\\ngrouped by loan_status')\n",
    "# print(df_train.groupby('loan_status').agg(['mean', 'median'])['loan_amnt'])"
   ]
  },
  {
   "cell_type": "markdown",
   "id": "cfbd7fc5-bdca-424e-a7f4-2a7dce8beb3c",
   "metadata": {},
   "source": [
    "**Observations**\n",
    "\n",
    "1. The overall mean and median loan_amnt values are 14K and 12K respectively. For defaulters, the mean loan_amount increases to 15K and median amount increases to 14K. For non-defaulters, mean loan amount is somewhat lower at 13.7K and median is at 12K. "
   ]
  },
  {
   "cell_type": "code",
   "execution_count": 59,
   "id": "a26cfcef-ed9b-4400-bc65-8bc1f13f5d7b",
   "metadata": {},
   "outputs": [],
   "source": [
    "#standardizing loan_amnt\n",
    "X_train['loan_amnt'] = transformation_helper.fit_transform(X_train['loan_amnt'], standardize_fn)"
   ]
  },
  {
   "cell_type": "markdown",
   "id": "62a08062-9b8b-4d0c-9bd7-050c759fd6ac",
   "metadata": {},
   "source": [
    "### int_rate"
   ]
  },
  {
   "cell_type": "code",
   "execution_count": 60,
   "id": "a057e859-5a21-4266-9277-1283bd8ab87b",
   "metadata": {},
   "outputs": [
    {
     "data": {
      "image/png": "[encoded data removed]",
      "text/plain": [
       "<Figure size 864x288 with 2 Axes>"
      ]
     },
     "metadata": {
      "needs_background": "light"
     },
     "output_type": "display_data"
    }
   ],
   "source": [
    "showplots(x=X_train['int_rate'], y=y_train, vartype=('num', 'cat'))"
   ]
  },
  {
   "cell_type": "code",
   "execution_count": 61,
   "id": "62a57b55-c6f8-4672-963a-f06ed7ed2691",
   "metadata": {},
   "outputs": [],
   "source": [
    "#standardizing int_rate\n",
    "X_train['int_rate'] = transformation_helper.fit_transform(X_train['int_rate'], standardize_fn)"
   ]
  },
  {
   "cell_type": "code",
   "execution_count": null,
   "id": "ac3a160a-c56e-4462-ae7e-bfcfdeda6d67",
   "metadata": {},
   "outputs": [],
   "source": []
  },
  {
   "cell_type": "markdown",
   "id": "cfd70fb1-51c5-40a8-a125-50cfc7bfd810",
   "metadata": {},
   "source": [
    "### installment"
   ]
  },
  {
   "cell_type": "code",
   "execution_count": 62,
   "id": "a0e71bcf-e7fc-4223-9c41-ab3bc0dd7262",
   "metadata": {},
   "outputs": [
    {
     "data": {
      "image/png": "[encoded data removed]",
      "text/plain": [
       "<Figure size 864x288 with 2 Axes>"
      ]
     },
     "metadata": {
      "needs_background": "light"
     },
     "output_type": "display_data"
    }
   ],
   "source": [
    "showplots(x=X_train['installment'], y=y_train, vartype=('num', 'cat'))"
   ]
  },
  {
   "cell_type": "code",
   "execution_count": 63,
   "id": "9d0fd220-c0dc-44d7-8810-807a65c8ffc0",
   "metadata": {},
   "outputs": [],
   "source": [
    "# we use sqrt to transform and then standardize\n",
    "def tfs(params, x, **kwa): \n",
    "    return standardize_fn(params, np.sqrt(makepositive(x)), **kwa)\n",
    "    \n",
    "X_train['installment'] = transformation_helper.fit_transform(X_train['installment'], tfs)"
   ]
  },
  {
   "cell_type": "code",
   "execution_count": null,
   "id": "7991458e-4e51-4f28-bc5d-0b595d6405e4",
   "metadata": {},
   "outputs": [],
   "source": []
  },
  {
   "cell_type": "markdown",
   "id": "2c760bdb-2a4d-4551-b5b0-127c006b17d9",
   "metadata": {},
   "source": [
    "### annual_inc"
   ]
  },
  {
   "cell_type": "code",
   "execution_count": 64,
   "id": "5f8121f5-1f4f-4eb7-a347-03bd7ad529b8",
   "metadata": {},
   "outputs": [
    {
     "data": {
      "image/png": "[encoded data removed]",
      "text/plain": [
       "<Figure size 864x288 with 2 Axes>"
      ]
     },
     "metadata": {
      "needs_background": "light"
     },
     "output_type": "display_data"
    }
   ],
   "source": [
    "showplots(x=X_train['annual_inc'], y=y_train, vartype=('num', 'cat'))"
   ]
  },
  {
   "cell_type": "code",
   "execution_count": 65,
   "id": "600f4c8e-456d-47de-a996-8a20277f3ad9",
   "metadata": {},
   "outputs": [],
   "source": [
    "# print('overall')\n",
    "# print(df_train['annual_inc'].agg(['mean', 'median']))\n",
    "\n",
    "# print('\\ngrouped by loan_status')\n",
    "# print(df_train.groupby('loan_status').agg(['mean', 'median'])['annual_inc'])"
   ]
  },
  {
   "cell_type": "markdown",
   "id": "f88560cc-b8b5-4043-833c-a6e35db63cb9",
   "metadata": {},
   "source": [
    "**Observartions**\n",
    "\n",
    "1. annual_inc is a positively skewed distribution with high percentage of outliers (as seen in the outliers treatment section).\n",
    "\n",
    "2. The overall mean and median values are 70K and 63K. For defaulters, the mean and median values reduces to 64K and 58K respectively. On the other hand, for non-defaulters, mean and median values are 71K and 65K respectively. Thus, defaulters in general have lower annual_inc than non-defaulters. This may be an imp factor in determining creditworthiness. \n",
    "\n",
    "3. To reduce the number of outliers, we first take log of the annual_inc before standardizing it."
   ]
  },
  {
   "cell_type": "code",
   "execution_count": 66,
   "id": "7334116d-18b9-45d1-a6bc-4f82c821203b",
   "metadata": {},
   "outputs": [],
   "source": [
    "# we use log to transform and then standardize\n",
    "def tfs(params, x, **kwa): \n",
    "    return standardize_fn(params, np.log(makepositive(x)), **kwa)\n",
    "    \n",
    "X_train['annual_inc'] = transformation_helper.fit_transform(X_train['annual_inc'], tfs)"
   ]
  },
  {
   "cell_type": "markdown",
   "id": "f094be53-cc22-49d8-9341-dd3966d283b8",
   "metadata": {},
   "source": [
    "### dti"
   ]
  },
  {
   "cell_type": "code",
   "execution_count": 67,
   "id": "dcd11b7a-ed26-4646-931d-b2359525463b",
   "metadata": {
    "tags": []
   },
   "outputs": [
    {
     "data": {
      "image/png": "[encoded data removed]",
      "text/plain": [
       "<Figure size 864x288 with 2 Axes>"
      ]
     },
     "metadata": {
      "needs_background": "light"
     },
     "output_type": "display_data"
    }
   ],
   "source": [
    "showplots(x=X_train['dti'], y=y_train, vartype=('num', 'cat'))"
   ]
  },
  {
   "cell_type": "code",
   "execution_count": 68,
   "id": "4c14b158-b794-4377-bda0-9b5e3c01cda0",
   "metadata": {},
   "outputs": [],
   "source": [
    "# print('overall')\n",
    "# print(df_train['dti'].agg(['mean', 'median']))\n",
    "\n",
    "# print('\\ngrouped by loan_status')\n",
    "# print(df_train.groupby('loan_status').agg(['mean', 'median'])['dti'])"
   ]
  },
  {
   "cell_type": "markdown",
   "id": "a727afac-013a-4fc8-8a0c-c746e1ab754b",
   "metadata": {},
   "source": [
    "**Observations**\n",
    "\n",
    "1. The overall mean and median values for dti is 17. However for defaulters, mean and median value increases to 19%. For non-defaulters, mean is almost equal to overall mean of 17%, however, median value reduces slightly to 16.58. In general, higher dti reduces creditworthiness. "
   ]
  },
  {
   "cell_type": "code",
   "execution_count": 69,
   "id": "1bcce859-fe15-495a-b472-351ec557683c",
   "metadata": {},
   "outputs": [],
   "source": [
    "# standardize\n",
    "X_train['dti'] = transformation_helper.fit_transform(X_train['dti'], standardize_fn)"
   ]
  },
  {
   "cell_type": "markdown",
   "id": "e3cce98f-0a00-4741-8dd4-2426c29a3d03",
   "metadata": {
    "tags": []
   },
   "source": [
    "### open_acc"
   ]
  },
  {
   "cell_type": "code",
   "execution_count": 70,
   "id": "43945bf1-3907-422a-97c1-5863562af1ee",
   "metadata": {},
   "outputs": [
    {
     "data": {
      "image/png": "[encoded data removed]",
      "text/plain": [
       "<Figure size 864x288 with 2 Axes>"
      ]
     },
     "metadata": {
      "needs_background": "light"
     },
     "output_type": "display_data"
    }
   ],
   "source": [
    "showplots(x=X_train['open_acc'], y=y_train, vartype=('num', 'cat'))"
   ]
  },
  {
   "cell_type": "code",
   "execution_count": 71,
   "id": "f5bf704a-b60c-433b-8ad1-66f7d263cd1a",
   "metadata": {},
   "outputs": [],
   "source": [
    "# print('overall')\n",
    "# print(df_train['open_acc'].agg(['mean', 'median']))\n",
    "\n",
    "# print('\\ngrouped by loan_status')\n",
    "# print(df_train.groupby('loan_status').agg(['mean', 'median'])['open_acc'])"
   ]
  },
  {
   "cell_type": "markdown",
   "id": "bf5bd87d-2b6f-4561-9c06-358fc4ba86f9",
   "metadata": {},
   "source": [
    "**Observation**\n",
    "\n",
    "1. The mean and median value for 'open_acc' variable is 11.\n",
    "\n",
    "2. The distributions of open_acc for loan_Status 0 and 1 looks somewhat similar, however, median for loan defaulters is 11 while for non-defaulters is 10.\n",
    "\n",
    "3. We will take log and then standardize this feature"
   ]
  },
  {
   "cell_type": "code",
   "execution_count": 72,
   "id": "2cdcb272-3c93-4d15-97d2-56a26e7f1e5d",
   "metadata": {},
   "outputs": [],
   "source": [
    "# we use log to transform and then standardize\n",
    "def tfs(params, x, **kwa): \n",
    "    return standardize_fn(params, np.log(makepositive(x)), **kwa)\n",
    "    \n",
    "X_train['open_acc'] = transformation_helper.fit_transform(X_train['open_acc'], tfs)"
   ]
  },
  {
   "cell_type": "markdown",
   "id": "9f31d444-28dc-4b19-a2e1-9e7b65f4c5ff",
   "metadata": {},
   "source": [
    "### pub_rec"
   ]
  },
  {
   "cell_type": "code",
   "execution_count": 73,
   "id": "3c280fdd-d629-430e-9a21-008f39492cba",
   "metadata": {},
   "outputs": [
    {
     "data": {
      "image/png": "[encoded data removed]",
      "text/plain": [
       "<Figure size 864x288 with 2 Axes>"
      ]
     },
     "metadata": {
      "needs_background": "light"
     },
     "output_type": "display_data"
    }
   ],
   "source": [
    "showplots(x=X_train['pub_rec'], y=y_train, vartype=('num', 'cat'))"
   ]
  },
  {
   "cell_type": "markdown",
   "id": "db973b4b-5bad-4f5e-9ae0-07b15ed6bae6",
   "metadata": {
    "tags": []
   },
   "source": [
    "#### Encoding pub_rec\n",
    "\n",
    "As we observe, pub_rec is a highly skewed variable with average being very close to zero. For simplicity, we will convert this to a binary variable."
   ]
  },
  {
   "cell_type": "code",
   "execution_count": 74,
   "id": "d0ab36e5-5629-4500-9fdc-a7e502d07243",
   "metadata": {},
   "outputs": [],
   "source": [
    "def tfn(params, x, **kwa):        \n",
    "    res = x.transform(lambda x: 1 if (x > 0) else 0)\n",
    "    return(res, None)\n",
    "    \n",
    "X_train['pub_rec'] = transformation_helper.fit_transform(X_train['pub_rec'], tfn, y=y_train)"
   ]
  },
  {
   "cell_type": "markdown",
   "id": "90b82fec-9108-4a07-9f98-9aa281d5c8a1",
   "metadata": {
    "tags": []
   },
   "source": [
    "### pub_rec_bankruptcies"
   ]
  },
  {
   "cell_type": "code",
   "execution_count": 75,
   "id": "8580e4c6-eadf-4582-b2ff-ec511baeafdb",
   "metadata": {},
   "outputs": [
    {
     "data": {
      "image/png": "[encoded data removed]",
      "text/plain": [
       "<Figure size 864x288 with 2 Axes>"
      ]
     },
     "metadata": {
      "needs_background": "light"
     },
     "output_type": "display_data"
    }
   ],
   "source": [
    "showplots(x=X_train['pub_rec_bankruptcies'], y=y_train, vartype=('num', 'cat'))"
   ]
  },
  {
   "cell_type": "markdown",
   "id": "e0ab45f1-cd24-4a17-ad61-c4239d563fe7",
   "metadata": {},
   "source": [
    "#### Encoding pub_rec_bankruptcies\n",
    "\n",
    "As we observe, pub_rec_bankruptcies is a highly skewed variable with average being very close to zero. For simplicity, we will convert this to a binary variable."
   ]
  },
  {
   "cell_type": "code",
   "execution_count": 76,
   "id": "a9d04851-e25e-435f-a841-384f55c7602b",
   "metadata": {},
   "outputs": [],
   "source": [
    "def tfn(params, x, **kwa):        \n",
    "    res = x.transform(lambda x: 1 if (x > 0) else 0)\n",
    "    return(res, None)\n",
    "    \n",
    "X_train['pub_rec_bankruptcies'] = transformation_helper.fit_transform(X_train['pub_rec_bankruptcies'], tfn, y=y_train)"
   ]
  },
  {
   "cell_type": "markdown",
   "id": "4e7c16db-3956-4b61-b074-a4d03ff44b8f",
   "metadata": {},
   "source": [
    "### mort_acc"
   ]
  },
  {
   "cell_type": "code",
   "execution_count": 77,
   "id": "0a43ffa9-626f-4f71-8ffc-6a469ebf2890",
   "metadata": {},
   "outputs": [
    {
     "data": {
      "image/png": "[encoded data removed]",
      "text/plain": [
       "<Figure size 864x288 with 2 Axes>"
      ]
     },
     "metadata": {
      "needs_background": "light"
     },
     "output_type": "display_data"
    }
   ],
   "source": [
    "showplots(x=X_train['mort_acc'], y=y_train, vartype=('num', 'cat'))"
   ]
  },
  {
   "cell_type": "markdown",
   "id": "38809beb-c171-4cc7-94fc-c795f3a379ac",
   "metadata": {},
   "source": [
    "#### Encoding mort_acc\n",
    "\n",
    "As we observe, mort_acc is a highly skewed variable with average being close to zero. For simplicity, we will convert this to a binary variable."
   ]
  },
  {
   "cell_type": "code",
   "execution_count": 78,
   "id": "351ed963-bb04-4ad8-96f7-f310c26dc460",
   "metadata": {},
   "outputs": [],
   "source": [
    "def tfn(params, x, **kwa):        \n",
    "    res = x.transform(lambda x: 1 if (x > 0) else 0)\n",
    "    return(res, None)\n",
    "    \n",
    "X_train['mort_acc'] = transformation_helper.fit_transform(X_train['mort_acc'], tfn, y=y_train)"
   ]
  },
  {
   "cell_type": "markdown",
   "id": "8b44d7c9-bd85-48fe-8d8f-adb3902a9904",
   "metadata": {},
   "source": [
    "### revol_bal"
   ]
  },
  {
   "cell_type": "code",
   "execution_count": 79,
   "id": "4684aa02-8d87-4d9d-960e-1d562325e6aa",
   "metadata": {},
   "outputs": [
    {
     "data": {
      "image/png": "[encoded data removed]",
      "text/plain": [
       "<Figure size 864x288 with 2 Axes>"
      ]
     },
     "metadata": {
      "needs_background": "light"
     },
     "output_type": "display_data"
    }
   ],
   "source": [
    "showplots(x=X_train['revol_bal'], y=y_train, vartype=('num', 'cat'))"
   ]
  },
  {
   "cell_type": "code",
   "execution_count": 80,
   "id": "b884ead6-0d2d-42f5-a8e7-d3526ce1b7a7",
   "metadata": {},
   "outputs": [],
   "source": [
    "# print('overall')\n",
    "# print(df_train['revol_bal'].agg(['mean', 'median']))\n",
    "\n",
    "# print('grouped by loan_status')\n",
    "# print(df_train.groupby('loan_status').agg(['mean', 'median'])['revol_bal'])"
   ]
  },
  {
   "cell_type": "markdown",
   "id": "85139bfe-f5a8-4ba3-8593-f29213983544",
   "metadata": {},
   "source": [
    "**Observation**\n",
    "\n",
    "1. The mean value for 'revol_bal' variable is around 13000 and median is around 10913 (somewhat positively skewed).\n",
    "\n",
    "2. The distributions of revol_bal for loan_Status 0 and 1 looks very identical (their median and mean values are quite close). Thus revol_bal doesn't seem like a significant factor in predicting creditworthiness of a customer.\n",
    "\n",
    "3. revol_bal is a positively skewed distribution with a high percent of outliers on the positive side. To reduce the number of outliers, we take sqrt of values before standardizing this feature."
   ]
  },
  {
   "cell_type": "code",
   "execution_count": 81,
   "id": "af7575b3-5972-4a28-8769-f5c59dcf6993",
   "metadata": {},
   "outputs": [],
   "source": [
    "# we use sqrt to transform and then standardize\n",
    "def tfs(params, x, **kwa): \n",
    "    return standardize_fn(params, np.sqrt(makepositive(x)), **kwa)\n",
    "    \n",
    "X_train['revol_bal'] = transformation_helper.fit_transform(X_train['revol_bal'], tfs)"
   ]
  },
  {
   "cell_type": "markdown",
   "id": "5a7be59b-82cd-4a80-ae26-cb865614ef1b",
   "metadata": {},
   "source": [
    "### revol_util"
   ]
  },
  {
   "cell_type": "code",
   "execution_count": 82,
   "id": "8e25ba78-c512-4785-8245-1163ad35d5a2",
   "metadata": {},
   "outputs": [
    {
     "data": {
      "image/png": "[encoded data removed]",
      "text/plain": [
       "<Figure size 864x288 with 2 Axes>"
      ]
     },
     "metadata": {
      "needs_background": "light"
     },
     "output_type": "display_data"
    }
   ],
   "source": [
    "showplots(x=X_train['revol_util'], y=y_train, vartype=('num', 'cat'))"
   ]
  },
  {
   "cell_type": "code",
   "execution_count": 83,
   "id": "6b8c3ab0-ccd2-4813-899a-485203e5f38a",
   "metadata": {},
   "outputs": [],
   "source": [
    "# print('overall')\n",
    "# print(df_train['revol_util'].agg(['mean', 'median']))\n",
    "\n",
    "# print('grouped by loan_status')\n",
    "# print(df_train.groupby('loan_status').agg(['mean', 'median'])['revol_util'])"
   ]
  },
  {
   "cell_type": "markdown",
   "id": "f37e54c5-e77c-470b-a0c1-97399453f7ea",
   "metadata": {},
   "source": [
    "**Observations**\n",
    "\n",
    "1. Overall mean and median revol_util values are around 54.\n",
    "\n",
    "2. For defaulters, mean and median increases to 57.7 and 59. For non-defaulters, on the other hand, mean and median values are around 53%. Thus, in general, higher revol_util seems to reduce creditworthiness of a customer."
   ]
  },
  {
   "cell_type": "code",
   "execution_count": 84,
   "id": "8f4eb10c-f6e2-4aec-b83e-9e21008088c2",
   "metadata": {},
   "outputs": [],
   "source": [
    "# standardize\n",
    "X_train['revol_util'] = transformation_helper.fit_transform(X_train['revol_util'], standardize_fn)"
   ]
  },
  {
   "cell_type": "markdown",
   "id": "5c4c7316-56c5-467c-9a6a-0d64043af5f9",
   "metadata": {
    "tags": []
   },
   "source": [
    "### total_acc"
   ]
  },
  {
   "cell_type": "code",
   "execution_count": 85,
   "id": "4bcd7f4a-d82d-4891-9b0b-23f58375ba29",
   "metadata": {},
   "outputs": [
    {
     "data": {
      "image/png": "[encoded data removed]",
      "text/plain": [
       "<Figure size 864x288 with 2 Axes>"
      ]
     },
     "metadata": {
      "needs_background": "light"
     },
     "output_type": "display_data"
    }
   ],
   "source": [
    "showplots(x=X_train['total_acc'], y=y_train, vartype=('num', 'cat'))"
   ]
  },
  {
   "cell_type": "code",
   "execution_count": 86,
   "id": "deb75caf-1cd9-4ff9-ad85-88a12b7e9384",
   "metadata": {},
   "outputs": [],
   "source": [
    "# print('overall')\n",
    "# print(df_train['total_acc'].agg(['mean', 'median']))\n",
    "\n",
    "# print('\\ngrouped by loan_status')\n",
    "# print(df_train.groupby('loan_status').agg(['mean', 'median'])['total_acc'])"
   ]
  },
  {
   "cell_type": "markdown",
   "id": "1a0304b0-41dc-46b6-b1df-28f8463dc074",
   "metadata": {},
   "source": [
    "**Observation**\n",
    "\n",
    "1. The mean value for 'total_acc' variable is around 25 and median is around 24.\n",
    "\n",
    "2. The distributions of total_acc for loan_Status 0 and 1 looks similar (their median and mean values are close). Thus total_acc potentially may not be a significant factor in predicting creditworthiness of a customer."
   ]
  },
  {
   "cell_type": "markdown",
   "id": "bab643d7-9409-4a9a-91bf-127f0bf3e385",
   "metadata": {},
   "source": [
    "#### Standardizing total_acc"
   ]
  },
  {
   "cell_type": "code",
   "execution_count": 87,
   "id": "1a0bb45c-42c8-4d32-bb57-0170e87899c5",
   "metadata": {},
   "outputs": [],
   "source": [
    "X_train['total_acc'] = transformation_helper.fit_transform(X_train['total_acc'], standardize_fn)"
   ]
  },
  {
   "cell_type": "markdown",
   "id": "0d7f3dfa-e1b6-4dd0-8af3-4281df1f0fd2",
   "metadata": {},
   "source": [
    "## Removing unneeded features"
   ]
  },
  {
   "cell_type": "code",
   "execution_count": 88,
   "id": "db3ba511-2c8e-4a54-ba1b-a77e1beec837",
   "metadata": {},
   "outputs": [],
   "source": [
    "#drop col helper\n",
    "def dropcols(df, cols):\n",
    "    for col in cols:\n",
    "        if(col in df.columns):\n",
    "            df.drop(labels=[col], axis=1, inplace=True)\n",
    "            \n",
    "colstodrop = ['emp_title', 'title', 'earliest_cr_line', 'address', 'application_type', 'initial_list_status', 'issue_d', 'issue_d_mon', 'issue_d_qt']\n",
    "\n",
    "dropcols(X_train, colstodrop)\n",
    "dropcols(df_train, colstodrop)"
   ]
  },
  {
   "cell_type": "code",
   "execution_count": 89,
   "id": "391915a3-3202-4830-9582-acd7b12012b6",
   "metadata": {
    "tags": []
   },
   "outputs": [
    {
     "data": {
      "text/html": [
       "<div>\n",
       "<style scoped>\n",
       "    .dataframe tbody tr th:only-of-type {\n",
       "        vertical-align: middle;\n",
       "    }\n",
       "\n",
       "    .dataframe tbody tr th {\n",
       "        vertical-align: top;\n",
       "    }\n",
       "\n",
       "    .dataframe thead th {\n",
       "        text-align: right;\n",
       "    }\n",
       "</style>\n",
       "<table border=\"1\" class=\"dataframe\">\n",
       "  <thead>\n",
       "    <tr style=\"text-align: right;\">\n",
       "      <th></th>\n",
       "      <th>count</th>\n",
       "      <th>mean</th>\n",
       "      <th>std</th>\n",
       "      <th>min</th>\n",
       "      <th>25%</th>\n",
       "      <th>50%</th>\n",
       "      <th>75%</th>\n",
       "      <th>max</th>\n",
       "    </tr>\n",
       "  </thead>\n",
       "  <tbody>\n",
       "    <tr>\n",
       "      <th>loan_amnt</th>\n",
       "      <td>245764.0</td>\n",
       "      <td>-6.191823e-17</td>\n",
       "      <td>1.000002</td>\n",
       "      <td>-1.637378</td>\n",
       "      <td>-0.756814</td>\n",
       "      <td>-0.253635</td>\n",
       "      <td>0.652089</td>\n",
       "      <td>3.017032</td>\n",
       "    </tr>\n",
       "    <tr>\n",
       "      <th>term</th>\n",
       "      <td>245764.0</td>\n",
       "      <td>2.346682e-01</td>\n",
       "      <td>0.423792</td>\n",
       "      <td>0.000000</td>\n",
       "      <td>0.000000</td>\n",
       "      <td>0.000000</td>\n",
       "      <td>0.000000</td>\n",
       "      <td>1.000000</td>\n",
       "    </tr>\n",
       "    <tr>\n",
       "      <th>int_rate</th>\n",
       "      <td>245764.0</td>\n",
       "      <td>-9.902155e-16</td>\n",
       "      <td>1.000002</td>\n",
       "      <td>-1.913010</td>\n",
       "      <td>-0.681400</td>\n",
       "      <td>-0.091679</td>\n",
       "      <td>0.643204</td>\n",
       "      <td>2.775272</td>\n",
       "    </tr>\n",
       "    <tr>\n",
       "      <th>installment</th>\n",
       "      <td>245764.0</td>\n",
       "      <td>-4.332343e-16</td>\n",
       "      <td>1.000002</td>\n",
       "      <td>-2.708741</td>\n",
       "      <td>-0.673112</td>\n",
       "      <td>-0.085176</td>\n",
       "      <td>0.653547</td>\n",
       "      <td>2.859892</td>\n",
       "    </tr>\n",
       "    <tr>\n",
       "      <th>grade</th>\n",
       "      <td>245764.0</td>\n",
       "      <td>-3.209909e-17</td>\n",
       "      <td>1.000002</td>\n",
       "      <td>-1.310454</td>\n",
       "      <td>-0.714885</td>\n",
       "      <td>0.140380</td>\n",
       "      <td>0.898981</td>\n",
       "      <td>2.817452</td>\n",
       "    </tr>\n",
       "    <tr>\n",
       "      <th>sub_grade</th>\n",
       "      <td>245764.0</td>\n",
       "      <td>-7.779955e-16</td>\n",
       "      <td>1.000002</td>\n",
       "      <td>-1.604075</td>\n",
       "      <td>-0.847743</td>\n",
       "      <td>-0.236135</td>\n",
       "      <td>0.610905</td>\n",
       "      <td>3.210289</td>\n",
       "    </tr>\n",
       "    <tr>\n",
       "      <th>emp_length</th>\n",
       "      <td>245764.0</td>\n",
       "      <td>-5.928149e-16</td>\n",
       "      <td>1.000002</td>\n",
       "      <td>-1.196170</td>\n",
       "      <td>-1.196170</td>\n",
       "      <td>0.305106</td>\n",
       "      <td>0.521019</td>\n",
       "      <td>2.024845</td>\n",
       "    </tr>\n",
       "    <tr>\n",
       "      <th>home_ownership</th>\n",
       "      <td>245764.0</td>\n",
       "      <td>-2.603906e-15</td>\n",
       "      <td>1.000002</td>\n",
       "      <td>-1.005741</td>\n",
       "      <td>-0.977952</td>\n",
       "      <td>0.270133</td>\n",
       "      <td>1.121119</td>\n",
       "      <td>1.121119</td>\n",
       "    </tr>\n",
       "    <tr>\n",
       "      <th>annual_inc</th>\n",
       "      <td>245764.0</td>\n",
       "      <td>3.119892e-15</td>\n",
       "      <td>1.000002</td>\n",
       "      <td>-2.783229</td>\n",
       "      <td>-0.700909</td>\n",
       "      <td>-0.013606</td>\n",
       "      <td>0.666527</td>\n",
       "      <td>2.891127</td>\n",
       "    </tr>\n",
       "    <tr>\n",
       "      <th>verification_status</th>\n",
       "      <td>245764.0</td>\n",
       "      <td>6.696017e-01</td>\n",
       "      <td>0.470357</td>\n",
       "      <td>0.000000</td>\n",
       "      <td>0.000000</td>\n",
       "      <td>1.000000</td>\n",
       "      <td>1.000000</td>\n",
       "      <td>1.000000</td>\n",
       "    </tr>\n",
       "    <tr>\n",
       "      <th>purpose</th>\n",
       "      <td>245764.0</td>\n",
       "      <td>-1.039070e-15</td>\n",
       "      <td>1.000002</td>\n",
       "      <td>-2.537977</td>\n",
       "      <td>-1.167369</td>\n",
       "      <td>0.466346</td>\n",
       "      <td>0.466346</td>\n",
       "      <td>4.679268</td>\n",
       "    </tr>\n",
       "    <tr>\n",
       "      <th>dti</th>\n",
       "      <td>245764.0</td>\n",
       "      <td>-1.978795e-17</td>\n",
       "      <td>1.000002</td>\n",
       "      <td>-2.205999</td>\n",
       "      <td>-0.752569</td>\n",
       "      <td>-0.059625</td>\n",
       "      <td>0.703363</td>\n",
       "      <td>2.928537</td>\n",
       "    </tr>\n",
       "    <tr>\n",
       "      <th>open_acc</th>\n",
       "      <td>245764.0</td>\n",
       "      <td>-8.257493e-16</td>\n",
       "      <td>1.000002</td>\n",
       "      <td>-2.331353</td>\n",
       "      <td>-0.644118</td>\n",
       "      <td>0.131051</td>\n",
       "      <td>0.718079</td>\n",
       "      <td>2.730351</td>\n",
       "    </tr>\n",
       "    <tr>\n",
       "      <th>pub_rec</th>\n",
       "      <td>245764.0</td>\n",
       "      <td>1.574885e-01</td>\n",
       "      <td>0.364261</td>\n",
       "      <td>0.000000</td>\n",
       "      <td>0.000000</td>\n",
       "      <td>0.000000</td>\n",
       "      <td>0.000000</td>\n",
       "      <td>1.000000</td>\n",
       "    </tr>\n",
       "    <tr>\n",
       "      <th>revol_bal</th>\n",
       "      <td>245764.0</td>\n",
       "      <td>8.578971e-16</td>\n",
       "      <td>1.000002</td>\n",
       "      <td>-2.671586</td>\n",
       "      <td>-0.716798</td>\n",
       "      <td>-0.064503</td>\n",
       "      <td>0.689195</td>\n",
       "      <td>2.353613</td>\n",
       "    </tr>\n",
       "    <tr>\n",
       "      <th>revol_util</th>\n",
       "      <td>245764.0</td>\n",
       "      <td>-4.978844e-16</td>\n",
       "      <td>1.000002</td>\n",
       "      <td>-2.275018</td>\n",
       "      <td>-0.729952</td>\n",
       "      <td>0.034137</td>\n",
       "      <td>0.772898</td>\n",
       "      <td>2.930080</td>\n",
       "    </tr>\n",
       "    <tr>\n",
       "      <th>total_acc</th>\n",
       "      <td>245764.0</td>\n",
       "      <td>6.770371e-17</td>\n",
       "      <td>1.000002</td>\n",
       "      <td>-1.969422</td>\n",
       "      <td>-0.753098</td>\n",
       "      <td>-0.098154</td>\n",
       "      <td>0.650353</td>\n",
       "      <td>2.989439</td>\n",
       "    </tr>\n",
       "    <tr>\n",
       "      <th>mort_acc</th>\n",
       "      <td>245764.0</td>\n",
       "      <td>5.935654e-01</td>\n",
       "      <td>0.491169</td>\n",
       "      <td>0.000000</td>\n",
       "      <td>0.000000</td>\n",
       "      <td>1.000000</td>\n",
       "      <td>1.000000</td>\n",
       "      <td>1.000000</td>\n",
       "    </tr>\n",
       "    <tr>\n",
       "      <th>pub_rec_bankruptcies</th>\n",
       "      <td>245764.0</td>\n",
       "      <td>1.237936e-01</td>\n",
       "      <td>0.329347</td>\n",
       "      <td>0.000000</td>\n",
       "      <td>0.000000</td>\n",
       "      <td>0.000000</td>\n",
       "      <td>0.000000</td>\n",
       "      <td>1.000000</td>\n",
       "    </tr>\n",
       "  </tbody>\n",
       "</table>\n",
       "</div>"
      ],
      "text/plain": [
       "                         count          mean       std       min       25%  \\\n",
       "loan_amnt             245764.0 -6.191823e-17  1.000002 -1.637378 -0.756814   \n",
       "term                  245764.0  2.346682e-01  0.423792  0.000000  0.000000   \n",
       "int_rate              245764.0 -9.902155e-16  1.000002 -1.913010 -0.681400   \n",
       "installment           245764.0 -4.332343e-16  1.000002 -2.708741 -0.673112   \n",
       "grade                 245764.0 -3.209909e-17  1.000002 -1.310454 -0.714885   \n",
       "sub_grade             245764.0 -7.779955e-16  1.000002 -1.604075 -0.847743   \n",
       "emp_length            245764.0 -5.928149e-16  1.000002 -1.196170 -1.196170   \n",
       "home_ownership        245764.0 -2.603906e-15  1.000002 -1.005741 -0.977952   \n",
       "annual_inc            245764.0  3.119892e-15  1.000002 -2.783229 -0.700909   \n",
       "verification_status   245764.0  6.696017e-01  0.470357  0.000000  0.000000   \n",
       "purpose               245764.0 -1.039070e-15  1.000002 -2.537977 -1.167369   \n",
       "dti                   245764.0 -1.978795e-17  1.000002 -2.205999 -0.752569   \n",
       "open_acc              245764.0 -8.257493e-16  1.000002 -2.331353 -0.644118   \n",
       "pub_rec               245764.0  1.574885e-01  0.364261  0.000000  0.000000   \n",
       "revol_bal             245764.0  8.578971e-16  1.000002 -2.671586 -0.716798   \n",
       "revol_util            245764.0 -4.978844e-16  1.000002 -2.275018 -0.729952   \n",
       "total_acc             245764.0  6.770371e-17  1.000002 -1.969422 -0.753098   \n",
       "mort_acc              245764.0  5.935654e-01  0.491169  0.000000  0.000000   \n",
       "pub_rec_bankruptcies  245764.0  1.237936e-01  0.329347  0.000000  0.000000   \n",
       "\n",
       "                           50%       75%       max  \n",
       "loan_amnt            -0.253635  0.652089  3.017032  \n",
       "term                  0.000000  0.000000  1.000000  \n",
       "int_rate             -0.091679  0.643204  2.775272  \n",
       "installment          -0.085176  0.653547  2.859892  \n",
       "grade                 0.140380  0.898981  2.817452  \n",
       "sub_grade            -0.236135  0.610905  3.210289  \n",
       "emp_length            0.305106  0.521019  2.024845  \n",
       "home_ownership        0.270133  1.121119  1.121119  \n",
       "annual_inc           -0.013606  0.666527  2.891127  \n",
       "verification_status   1.000000  1.000000  1.000000  \n",
       "purpose               0.466346  0.466346  4.679268  \n",
       "dti                  -0.059625  0.703363  2.928537  \n",
       "open_acc              0.131051  0.718079  2.730351  \n",
       "pub_rec               0.000000  0.000000  1.000000  \n",
       "revol_bal            -0.064503  0.689195  2.353613  \n",
       "revol_util            0.034137  0.772898  2.930080  \n",
       "total_acc            -0.098154  0.650353  2.989439  \n",
       "mort_acc              1.000000  1.000000  1.000000  \n",
       "pub_rec_bankruptcies  0.000000  0.000000  1.000000  "
      ]
     },
     "execution_count": 89,
     "metadata": {},
     "output_type": "execute_result"
    }
   ],
   "source": [
    "X_train.describe().T"
   ]
  },
  {
   "cell_type": "markdown",
   "id": "0341cfe2-7f35-4ef6-8d07-c1fe2ef5b75d",
   "metadata": {},
   "source": [
    "## Model building"
   ]
  },
  {
   "cell_type": "markdown",
   "id": "dacb6b08-f795-4c05-a85e-d780ca6ac124",
   "metadata": {},
   "source": [
    "### Helper functions"
   ]
  },
  {
   "cell_type": "code",
   "execution_count": 90,
   "id": "6f168f00-fe71-4130-b935-780b526dc1dc",
   "metadata": {},
   "outputs": [],
   "source": [
    "from statsmodels.stats.outliers_influence import variance_inflation_factor\n",
    "\n",
    "#helper function to show VIF for all columns\n",
    "def showVif(X_df):\n",
    "    vif = pd.DataFrame()\n",
    "    vif['Features'] = X_df.columns\n",
    "    vif['VIF'] = [variance_inflation_factor(X_df.values, i) for i in range(X_df.shape[1])]\n",
    "    vif['VIF'] = round(vif['VIF'], 2)\n",
    "    vif = vif.sort_values(by = \"VIF\", ascending = False)\n",
    "    return vif"
   ]
  },
  {
   "cell_type": "markdown",
   "id": "fe32ddf0-516f-4512-8b7a-8b3562837301",
   "metadata": {},
   "source": [
    "### Correlation matrix and pair plot"
   ]
  },
  {
   "cell_type": "code",
   "execution_count": 91,
   "id": "5cdad70d-614b-49d4-a58e-a95b9023e268",
   "metadata": {},
   "outputs": [
    {
     "data": {
      "image/png": "[encoded data removed]",
      "text/plain": [
       "<Figure size 1440x720 with 2 Axes>"
      ]
     },
     "metadata": {
      "needs_background": "light"
     },
     "output_type": "display_data"
    }
   ],
   "source": [
    "plt.figure(figsize = (20,10))\n",
    "sns.heatmap(X_train.corr(), cmap=\"YlGnBu\", annot=True)\n",
    "plt.show()"
   ]
  },
  {
   "cell_type": "markdown",
   "id": "089479c3-d377-41f4-83eb-8c82b05ff612",
   "metadata": {},
   "source": [
    "**Observations**\n",
    "\n",
    "1. Very high positive correlation between {installement, loan_amnt}, {grade, subgrade}, and {pub_rec, pub_rec_bankruptcies}\n",
    "\n",
    "2. Very high negative correlation between {grade, int_rate}, {sub_grade, int_rate}.\n",
    "\n",
    "3. Multicollinearity is not desirable. We may remove some of these features during the model building process."
   ]
  },
  {
   "cell_type": "markdown",
   "id": "a0f48be0-0f77-4fe9-a72e-eb6a0c24dd2e",
   "metadata": {},
   "source": [
    "#### Build model with all the features"
   ]
  },
  {
   "cell_type": "code",
   "execution_count": 92,
   "id": "45d83717-3530-47d1-8711-7f54e0cde7bb",
   "metadata": {},
   "outputs": [],
   "source": [
    "#create a copy of X_train\n",
    "X_train2 = X_train.copy(deep=True)"
   ]
  },
  {
   "cell_type": "code",
   "execution_count": 93,
   "id": "988c4ce0-2dee-421a-b8ee-5ec1bf5b2b55",
   "metadata": {},
   "outputs": [
    {
     "data": {
      "text/html": [
       "<table class=\"simpletable\">\n",
       "<caption>Generalized Linear Model Regression Results</caption>\n",
       "<tr>\n",
       "  <th>Dep. Variable:</th>      <td>loan_status</td>   <th>  No. Observations:  </th>   <td>245764</td>   \n",
       "</tr>\n",
       "<tr>\n",
       "  <th>Model:</th>                  <td>GLM</td>       <th>  Df Residuals:      </th>   <td>245744</td>   \n",
       "</tr>\n",
       "<tr>\n",
       "  <th>Model Family:</th>        <td>Binomial</td>     <th>  Df Model:          </th>   <td>    19</td>   \n",
       "</tr>\n",
       "<tr>\n",
       "  <th>Link Function:</th>         <td>Logit</td>      <th>  Scale:             </th>  <td>  1.0000</td>  \n",
       "</tr>\n",
       "<tr>\n",
       "  <th>Method:</th>                <td>IRLS</td>       <th>  Log-Likelihood:    </th> <td>-1.1052e+05</td>\n",
       "</tr>\n",
       "<tr>\n",
       "  <th>Date:</th>            <td>Thu, 24 Nov 2022</td> <th>  Deviance:          </th> <td>2.2103e+05</td> \n",
       "</tr>\n",
       "<tr>\n",
       "  <th>Time:</th>                <td>12:12:23</td>     <th>  Pearson chi2:      </th>  <td>2.42e+05</td>  \n",
       "</tr>\n",
       "<tr>\n",
       "  <th>No. Iterations:</th>          <td>5</td>        <th>  Pseudo R-squ. (CS):</th>   <td>0.09106</td>  \n",
       "</tr>\n",
       "<tr>\n",
       "  <th>Covariance Type:</th>     <td>nonrobust</td>    <th>                     </th>      <td> </td>     \n",
       "</tr>\n",
       "</table>\n",
       "<table class=\"simpletable\">\n",
       "<tr>\n",
       "            <td></td>              <th>coef</th>     <th>std err</th>      <th>z</th>      <th>P>|z|</th>  <th>[0.025</th>    <th>0.975]</th>  \n",
       "</tr>\n",
       "<tr>\n",
       "  <th>const</th>                <td>   -1.7628</td> <td>    0.014</td> <td> -122.342</td> <td> 0.000</td> <td>   -1.791</td> <td>   -1.735</td>\n",
       "</tr>\n",
       "<tr>\n",
       "  <th>loan_amnt</th>            <td>   -0.1569</td> <td>    0.026</td> <td>   -6.033</td> <td> 0.000</td> <td>   -0.208</td> <td>   -0.106</td>\n",
       "</tr>\n",
       "<tr>\n",
       "  <th>term</th>                 <td>    0.5829</td> <td>    0.021</td> <td>   28.185</td> <td> 0.000</td> <td>    0.542</td> <td>    0.623</td>\n",
       "</tr>\n",
       "<tr>\n",
       "  <th>int_rate</th>             <td>   -0.4348</td> <td>    0.023</td> <td>  -19.053</td> <td> 0.000</td> <td>   -0.480</td> <td>   -0.390</td>\n",
       "</tr>\n",
       "<tr>\n",
       "  <th>installment</th>          <td>    0.2808</td> <td>    0.024</td> <td>   11.563</td> <td> 0.000</td> <td>    0.233</td> <td>    0.328</td>\n",
       "</tr>\n",
       "<tr>\n",
       "  <th>grade</th>                <td>    0.0094</td> <td>    0.024</td> <td>    0.399</td> <td> 0.690</td> <td>   -0.037</td> <td>    0.056</td>\n",
       "</tr>\n",
       "<tr>\n",
       "  <th>sub_grade</th>            <td>    0.8386</td> <td>    0.031</td> <td>   27.138</td> <td> 0.000</td> <td>    0.778</td> <td>    0.899</td>\n",
       "</tr>\n",
       "<tr>\n",
       "  <th>emp_length</th>           <td>    0.0239</td> <td>    0.005</td> <td>    4.359</td> <td> 0.000</td> <td>    0.013</td> <td>    0.035</td>\n",
       "</tr>\n",
       "<tr>\n",
       "  <th>home_ownership</th>       <td>    0.1142</td> <td>    0.007</td> <td>   15.858</td> <td> 0.000</td> <td>    0.100</td> <td>    0.128</td>\n",
       "</tr>\n",
       "<tr>\n",
       "  <th>annual_inc</th>           <td>   -0.1897</td> <td>    0.007</td> <td>  -25.922</td> <td> 0.000</td> <td>   -0.204</td> <td>   -0.175</td>\n",
       "</tr>\n",
       "<tr>\n",
       "  <th>verification_status</th>  <td>    0.1138</td> <td>    0.013</td> <td>    8.823</td> <td> 0.000</td> <td>    0.088</td> <td>    0.139</td>\n",
       "</tr>\n",
       "<tr>\n",
       "  <th>purpose</th>              <td>    0.0331</td> <td>    0.006</td> <td>    5.982</td> <td> 0.000</td> <td>    0.022</td> <td>    0.044</td>\n",
       "</tr>\n",
       "<tr>\n",
       "  <th>dti</th>                  <td>    0.1743</td> <td>    0.006</td> <td>   28.098</td> <td> 0.000</td> <td>    0.162</td> <td>    0.186</td>\n",
       "</tr>\n",
       "<tr>\n",
       "  <th>open_acc</th>             <td>    0.1610</td> <td>    0.008</td> <td>   20.620</td> <td> 0.000</td> <td>    0.146</td> <td>    0.176</td>\n",
       "</tr>\n",
       "<tr>\n",
       "  <th>pub_rec</th>              <td>    0.1549</td> <td>    0.028</td> <td>    5.457</td> <td> 0.000</td> <td>    0.099</td> <td>    0.211</td>\n",
       "</tr>\n",
       "<tr>\n",
       "  <th>revol_bal</th>            <td>   -0.1177</td> <td>    0.008</td> <td>  -14.916</td> <td> 0.000</td> <td>   -0.133</td> <td>   -0.102</td>\n",
       "</tr>\n",
       "<tr>\n",
       "  <th>revol_util</th>           <td>    0.1448</td> <td>    0.007</td> <td>   20.628</td> <td> 0.000</td> <td>    0.131</td> <td>    0.159</td>\n",
       "</tr>\n",
       "<tr>\n",
       "  <th>total_acc</th>            <td>   -0.1178</td> <td>    0.008</td> <td>  -15.559</td> <td> 0.000</td> <td>   -0.133</td> <td>   -0.103</td>\n",
       "</tr>\n",
       "<tr>\n",
       "  <th>mort_acc</th>             <td>   -0.0464</td> <td>    0.015</td> <td>   -3.066</td> <td> 0.002</td> <td>   -0.076</td> <td>   -0.017</td>\n",
       "</tr>\n",
       "<tr>\n",
       "  <th>pub_rec_bankruptcies</th> <td>   -0.1744</td> <td>    0.032</td> <td>   -5.524</td> <td> 0.000</td> <td>   -0.236</td> <td>   -0.113</td>\n",
       "</tr>\n",
       "</table>"
      ],
      "text/plain": [
       "<class 'statsmodels.iolib.summary.Summary'>\n",
       "\"\"\"\n",
       "                 Generalized Linear Model Regression Results                  \n",
       "==============================================================================\n",
       "Dep. Variable:            loan_status   No. Observations:               245764\n",
       "Model:                            GLM   Df Residuals:                   245744\n",
       "Model Family:                Binomial   Df Model:                           19\n",
       "Link Function:                  Logit   Scale:                          1.0000\n",
       "Method:                          IRLS   Log-Likelihood:            -1.1052e+05\n",
       "Date:                Thu, 24 Nov 2022   Deviance:                   2.2103e+05\n",
       "Time:                        12:12:23   Pearson chi2:                 2.42e+05\n",
       "No. Iterations:                     5   Pseudo R-squ. (CS):            0.09106\n",
       "Covariance Type:            nonrobust                                         \n",
       "========================================================================================\n",
       "                           coef    std err          z      P>|z|      [0.025      0.975]\n",
       "----------------------------------------------------------------------------------------\n",
       "const                   -1.7628      0.014   -122.342      0.000      -1.791      -1.735\n",
       "loan_amnt               -0.1569      0.026     -6.033      0.000      -0.208      -0.106\n",
       "term                     0.5829      0.021     28.185      0.000       0.542       0.623\n",
       "int_rate                -0.4348      0.023    -19.053      0.000      -0.480      -0.390\n",
       "installment              0.2808      0.024     11.563      0.000       0.233       0.328\n",
       "grade                    0.0094      0.024      0.399      0.690      -0.037       0.056\n",
       "sub_grade                0.8386      0.031     27.138      0.000       0.778       0.899\n",
       "emp_length               0.0239      0.005      4.359      0.000       0.013       0.035\n",
       "home_ownership           0.1142      0.007     15.858      0.000       0.100       0.128\n",
       "annual_inc              -0.1897      0.007    -25.922      0.000      -0.204      -0.175\n",
       "verification_status      0.1138      0.013      8.823      0.000       0.088       0.139\n",
       "purpose                  0.0331      0.006      5.982      0.000       0.022       0.044\n",
       "dti                      0.1743      0.006     28.098      0.000       0.162       0.186\n",
       "open_acc                 0.1610      0.008     20.620      0.000       0.146       0.176\n",
       "pub_rec                  0.1549      0.028      5.457      0.000       0.099       0.211\n",
       "revol_bal               -0.1177      0.008    -14.916      0.000      -0.133      -0.102\n",
       "revol_util               0.1448      0.007     20.628      0.000       0.131       0.159\n",
       "total_acc               -0.1178      0.008    -15.559      0.000      -0.133      -0.103\n",
       "mort_acc                -0.0464      0.015     -3.066      0.002      -0.076      -0.017\n",
       "pub_rec_bankruptcies    -0.1744      0.032     -5.524      0.000      -0.236      -0.113\n",
       "========================================================================================\n",
       "\"\"\""
      ]
     },
     "execution_count": 93,
     "metadata": {},
     "output_type": "execute_result"
    }
   ],
   "source": [
    "import statsmodels.api as sm\n",
    "\n",
    "# Logistic regression model\n",
    "logm1 = sm.GLM(y_train,(sm.add_constant(X_train2)), family = sm.families.Binomial())\n",
    "logm1.fit().summary()"
   ]
  },
  {
   "cell_type": "code",
   "execution_count": 94,
   "id": "21724be3-ecdc-4b00-a572-785e1e9e0eca",
   "metadata": {},
   "outputs": [
    {
     "data": {
      "text/html": [
       "<div>\n",
       "<style scoped>\n",
       "    .dataframe tbody tr th:only-of-type {\n",
       "        vertical-align: middle;\n",
       "    }\n",
       "\n",
       "    .dataframe tbody tr th {\n",
       "        vertical-align: top;\n",
       "    }\n",
       "\n",
       "    .dataframe thead th {\n",
       "        text-align: right;\n",
       "    }\n",
       "</style>\n",
       "<table border=\"1\" class=\"dataframe\">\n",
       "  <thead>\n",
       "    <tr style=\"text-align: right;\">\n",
       "      <th></th>\n",
       "      <th>Features</th>\n",
       "      <th>VIF</th>\n",
       "    </tr>\n",
       "  </thead>\n",
       "  <tbody>\n",
       "    <tr>\n",
       "      <th>5</th>\n",
       "      <td>sub_grade</td>\n",
       "      <td>36.96</td>\n",
       "    </tr>\n",
       "    <tr>\n",
       "      <th>0</th>\n",
       "      <td>loan_amnt</td>\n",
       "      <td>23.31</td>\n",
       "    </tr>\n",
       "    <tr>\n",
       "      <th>4</th>\n",
       "      <td>grade</td>\n",
       "      <td>20.71</td>\n",
       "    </tr>\n",
       "    <tr>\n",
       "      <th>3</th>\n",
       "      <td>installment</td>\n",
       "      <td>19.97</td>\n",
       "    </tr>\n",
       "    <tr>\n",
       "      <th>2</th>\n",
       "      <td>int_rate</td>\n",
       "      <td>18.75</td>\n",
       "    </tr>\n",
       "    <tr>\n",
       "      <th>13</th>\n",
       "      <td>pub_rec</td>\n",
       "      <td>4.94</td>\n",
       "    </tr>\n",
       "    <tr>\n",
       "      <th>18</th>\n",
       "      <td>pub_rec_bankruptcies</td>\n",
       "      <td>4.73</td>\n",
       "    </tr>\n",
       "    <tr>\n",
       "      <th>1</th>\n",
       "      <td>term</td>\n",
       "      <td>3.66</td>\n",
       "    </tr>\n",
       "    <tr>\n",
       "      <th>17</th>\n",
       "      <td>mort_acc</td>\n",
       "      <td>3.04</td>\n",
       "    </tr>\n",
       "    <tr>\n",
       "      <th>9</th>\n",
       "      <td>verification_status</td>\n",
       "      <td>2.49</td>\n",
       "    </tr>\n",
       "    <tr>\n",
       "      <th>14</th>\n",
       "      <td>revol_bal</td>\n",
       "      <td>2.12</td>\n",
       "    </tr>\n",
       "    <tr>\n",
       "      <th>12</th>\n",
       "      <td>open_acc</td>\n",
       "      <td>2.09</td>\n",
       "    </tr>\n",
       "    <tr>\n",
       "      <th>16</th>\n",
       "      <td>total_acc</td>\n",
       "      <td>1.89</td>\n",
       "    </tr>\n",
       "    <tr>\n",
       "      <th>15</th>\n",
       "      <td>revol_util</td>\n",
       "      <td>1.76</td>\n",
       "    </tr>\n",
       "    <tr>\n",
       "      <th>8</th>\n",
       "      <td>annual_inc</td>\n",
       "      <td>1.73</td>\n",
       "    </tr>\n",
       "    <tr>\n",
       "      <th>7</th>\n",
       "      <td>home_ownership</td>\n",
       "      <td>1.54</td>\n",
       "    </tr>\n",
       "    <tr>\n",
       "      <th>11</th>\n",
       "      <td>dti</td>\n",
       "      <td>1.43</td>\n",
       "    </tr>\n",
       "    <tr>\n",
       "      <th>10</th>\n",
       "      <td>purpose</td>\n",
       "      <td>1.06</td>\n",
       "    </tr>\n",
       "    <tr>\n",
       "      <th>6</th>\n",
       "      <td>emp_length</td>\n",
       "      <td>1.05</td>\n",
       "    </tr>\n",
       "  </tbody>\n",
       "</table>\n",
       "</div>"
      ],
      "text/plain": [
       "                Features    VIF\n",
       "5              sub_grade  36.96\n",
       "0              loan_amnt  23.31\n",
       "4                  grade  20.71\n",
       "3            installment  19.97\n",
       "2               int_rate  18.75\n",
       "13               pub_rec   4.94\n",
       "18  pub_rec_bankruptcies   4.73\n",
       "1                   term   3.66\n",
       "17              mort_acc   3.04\n",
       "9    verification_status   2.49\n",
       "14             revol_bal   2.12\n",
       "12              open_acc   2.09\n",
       "16             total_acc   1.89\n",
       "15            revol_util   1.76\n",
       "8             annual_inc   1.73\n",
       "7         home_ownership   1.54\n",
       "11                   dti   1.43\n",
       "10               purpose   1.06\n",
       "6             emp_length   1.05"
      ]
     },
     "execution_count": 94,
     "metadata": {},
     "output_type": "execute_result"
    }
   ],
   "source": [
    "showVif(X_train2)"
   ]
  },
  {
   "cell_type": "code",
   "execution_count": 95,
   "id": "f676f4fc-f069-411f-ae84-be740d30c241",
   "metadata": {},
   "outputs": [
    {
     "data": {
      "text/html": [
       "<div>\n",
       "<style scoped>\n",
       "    .dataframe tbody tr th:only-of-type {\n",
       "        vertical-align: middle;\n",
       "    }\n",
       "\n",
       "    .dataframe tbody tr th {\n",
       "        vertical-align: top;\n",
       "    }\n",
       "\n",
       "    .dataframe thead th {\n",
       "        text-align: right;\n",
       "    }\n",
       "</style>\n",
       "<table border=\"1\" class=\"dataframe\">\n",
       "  <thead>\n",
       "    <tr style=\"text-align: right;\">\n",
       "      <th></th>\n",
       "      <th>Features</th>\n",
       "      <th>VIF</th>\n",
       "    </tr>\n",
       "  </thead>\n",
       "  <tbody>\n",
       "    <tr>\n",
       "      <th>2</th>\n",
       "      <td>pub_rec</td>\n",
       "      <td>4.93</td>\n",
       "    </tr>\n",
       "    <tr>\n",
       "      <th>0</th>\n",
       "      <td>pub_rec_bankruptcies</td>\n",
       "      <td>4.72</td>\n",
       "    </tr>\n",
       "    <tr>\n",
       "      <th>8</th>\n",
       "      <td>mort_acc</td>\n",
       "      <td>2.14</td>\n",
       "    </tr>\n",
       "    <tr>\n",
       "      <th>4</th>\n",
       "      <td>verification_status</td>\n",
       "      <td>2.12</td>\n",
       "    </tr>\n",
       "    <tr>\n",
       "      <th>6</th>\n",
       "      <td>revol_bal</td>\n",
       "      <td>2.11</td>\n",
       "    </tr>\n",
       "    <tr>\n",
       "      <th>10</th>\n",
       "      <td>open_acc</td>\n",
       "      <td>2.06</td>\n",
       "    </tr>\n",
       "    <tr>\n",
       "      <th>12</th>\n",
       "      <td>term</td>\n",
       "      <td>1.88</td>\n",
       "    </tr>\n",
       "    <tr>\n",
       "      <th>7</th>\n",
       "      <td>total_acc</td>\n",
       "      <td>1.87</td>\n",
       "    </tr>\n",
       "    <tr>\n",
       "      <th>3</th>\n",
       "      <td>loan_amnt</td>\n",
       "      <td>1.76</td>\n",
       "    </tr>\n",
       "    <tr>\n",
       "      <th>1</th>\n",
       "      <td>revol_util</td>\n",
       "      <td>1.74</td>\n",
       "    </tr>\n",
       "    <tr>\n",
       "      <th>9</th>\n",
       "      <td>annual_inc</td>\n",
       "      <td>1.70</td>\n",
       "    </tr>\n",
       "    <tr>\n",
       "      <th>5</th>\n",
       "      <td>int_rate</td>\n",
       "      <td>1.52</td>\n",
       "    </tr>\n",
       "    <tr>\n",
       "      <th>11</th>\n",
       "      <td>dti</td>\n",
       "      <td>1.41</td>\n",
       "    </tr>\n",
       "  </tbody>\n",
       "</table>\n",
       "</div>"
      ],
      "text/plain": [
       "                Features   VIF\n",
       "2                pub_rec  4.93\n",
       "0   pub_rec_bankruptcies  4.72\n",
       "8               mort_acc  2.14\n",
       "4    verification_status  2.12\n",
       "6              revol_bal  2.11\n",
       "10              open_acc  2.06\n",
       "12                  term  1.88\n",
       "7              total_acc  1.87\n",
       "3              loan_amnt  1.76\n",
       "1             revol_util  1.74\n",
       "9             annual_inc  1.70\n",
       "5               int_rate  1.52\n",
       "11                   dti  1.41"
      ]
     },
     "execution_count": 95,
     "metadata": {},
     "output_type": "execute_result"
    }
   ],
   "source": [
    "colstodrop = set(['emp_length', 'sub_grade', 'installment', 'purpose', 'grade', 'home_ownership'])\n",
    "showVif(X_train2[set(X_train2.columns) - colstodrop])"
   ]
  },
  {
   "cell_type": "code",
   "execution_count": 96,
   "id": "b43f1404-6744-4bd3-8b52-72f9ea879500",
   "metadata": {},
   "outputs": [
    {
     "data": {
      "text/html": [
       "<table class=\"simpletable\">\n",
       "<caption>Generalized Linear Model Regression Results</caption>\n",
       "<tr>\n",
       "  <th>Dep. Variable:</th>      <td>loan_status</td>   <th>  No. Observations:  </th>   <td>245764</td>   \n",
       "</tr>\n",
       "<tr>\n",
       "  <th>Model:</th>                  <td>GLM</td>       <th>  Df Residuals:      </th>   <td>245750</td>   \n",
       "</tr>\n",
       "<tr>\n",
       "  <th>Model Family:</th>        <td>Binomial</td>     <th>  Df Model:          </th>   <td>    13</td>   \n",
       "</tr>\n",
       "<tr>\n",
       "  <th>Link Function:</th>         <td>Logit</td>      <th>  Scale:             </th>  <td>  1.0000</td>  \n",
       "</tr>\n",
       "<tr>\n",
       "  <th>Method:</th>                <td>IRLS</td>       <th>  Log-Likelihood:    </th> <td>-1.1149e+05</td>\n",
       "</tr>\n",
       "<tr>\n",
       "  <th>Date:</th>            <td>Thu, 24 Nov 2022</td> <th>  Deviance:          </th> <td>2.2297e+05</td> \n",
       "</tr>\n",
       "<tr>\n",
       "  <th>Time:</th>                <td>12:12:42</td>     <th>  Pearson chi2:      </th>  <td>2.43e+05</td>  \n",
       "</tr>\n",
       "<tr>\n",
       "  <th>No. Iterations:</th>          <td>5</td>        <th>  Pseudo R-squ. (CS):</th>   <td>0.08385</td>  \n",
       "</tr>\n",
       "<tr>\n",
       "  <th>Covariance Type:</th>     <td>nonrobust</td>    <th>                     </th>      <td> </td>     \n",
       "</tr>\n",
       "</table>\n",
       "<table class=\"simpletable\">\n",
       "<tr>\n",
       "            <td></td>              <th>coef</th>     <th>std err</th>      <th>z</th>      <th>P>|z|</th>  <th>[0.025</th>    <th>0.975]</th>  \n",
       "</tr>\n",
       "<tr>\n",
       "  <th>const</th>                <td>   -1.6668</td> <td>    0.013</td> <td> -131.408</td> <td> 0.000</td> <td>   -1.692</td> <td>   -1.642</td>\n",
       "</tr>\n",
       "<tr>\n",
       "  <th>loan_amnt</th>            <td>    0.1347</td> <td>    0.007</td> <td>   18.413</td> <td> 0.000</td> <td>    0.120</td> <td>    0.149</td>\n",
       "</tr>\n",
       "<tr>\n",
       "  <th>term</th>                 <td>    0.4991</td> <td>    0.014</td> <td>   35.463</td> <td> 0.000</td> <td>    0.472</td> <td>    0.527</td>\n",
       "</tr>\n",
       "<tr>\n",
       "  <th>int_rate</th>             <td>    0.4232</td> <td>    0.006</td> <td>   65.477</td> <td> 0.000</td> <td>    0.411</td> <td>    0.436</td>\n",
       "</tr>\n",
       "<tr>\n",
       "  <th>annual_inc</th>           <td>   -0.1820</td> <td>    0.007</td> <td>  -25.089</td> <td> 0.000</td> <td>   -0.196</td> <td>   -0.168</td>\n",
       "</tr>\n",
       "<tr>\n",
       "  <th>verification_status</th>  <td>    0.1420</td> <td>    0.013</td> <td>   11.056</td> <td> 0.000</td> <td>    0.117</td> <td>    0.167</td>\n",
       "</tr>\n",
       "<tr>\n",
       "  <th>dti</th>                  <td>    0.1994</td> <td>    0.006</td> <td>   32.464</td> <td> 0.000</td> <td>    0.187</td> <td>    0.211</td>\n",
       "</tr>\n",
       "<tr>\n",
       "  <th>open_acc</th>             <td>    0.1596</td> <td>    0.008</td> <td>   20.609</td> <td> 0.000</td> <td>    0.144</td> <td>    0.175</td>\n",
       "</tr>\n",
       "<tr>\n",
       "  <th>pub_rec</th>              <td>    0.2131</td> <td>    0.028</td> <td>    7.552</td> <td> 0.000</td> <td>    0.158</td> <td>    0.268</td>\n",
       "</tr>\n",
       "<tr>\n",
       "  <th>revol_bal</th>            <td>   -0.1436</td> <td>    0.008</td> <td>  -18.381</td> <td> 0.000</td> <td>   -0.159</td> <td>   -0.128</td>\n",
       "</tr>\n",
       "<tr>\n",
       "  <th>revol_util</th>           <td>    0.1292</td> <td>    0.007</td> <td>   18.585</td> <td> 0.000</td> <td>    0.116</td> <td>    0.143</td>\n",
       "</tr>\n",
       "<tr>\n",
       "  <th>total_acc</th>            <td>   -0.1185</td> <td>    0.008</td> <td>  -15.759</td> <td> 0.000</td> <td>   -0.133</td> <td>   -0.104</td>\n",
       "</tr>\n",
       "<tr>\n",
       "  <th>mort_acc</th>             <td>   -0.2067</td> <td>    0.012</td> <td>  -17.523</td> <td> 0.000</td> <td>   -0.230</td> <td>   -0.184</td>\n",
       "</tr>\n",
       "<tr>\n",
       "  <th>pub_rec_bankruptcies</th> <td>   -0.1995</td> <td>    0.031</td> <td>   -6.356</td> <td> 0.000</td> <td>   -0.261</td> <td>   -0.138</td>\n",
       "</tr>\n",
       "</table>"
      ],
      "text/plain": [
       "<class 'statsmodels.iolib.summary.Summary'>\n",
       "\"\"\"\n",
       "                 Generalized Linear Model Regression Results                  \n",
       "==============================================================================\n",
       "Dep. Variable:            loan_status   No. Observations:               245764\n",
       "Model:                            GLM   Df Residuals:                   245750\n",
       "Model Family:                Binomial   Df Model:                           13\n",
       "Link Function:                  Logit   Scale:                          1.0000\n",
       "Method:                          IRLS   Log-Likelihood:            -1.1149e+05\n",
       "Date:                Thu, 24 Nov 2022   Deviance:                   2.2297e+05\n",
       "Time:                        12:12:42   Pearson chi2:                 2.43e+05\n",
       "No. Iterations:                     5   Pseudo R-squ. (CS):            0.08385\n",
       "Covariance Type:            nonrobust                                         \n",
       "========================================================================================\n",
       "                           coef    std err          z      P>|z|      [0.025      0.975]\n",
       "----------------------------------------------------------------------------------------\n",
       "const                   -1.6668      0.013   -131.408      0.000      -1.692      -1.642\n",
       "loan_amnt                0.1347      0.007     18.413      0.000       0.120       0.149\n",
       "term                     0.4991      0.014     35.463      0.000       0.472       0.527\n",
       "int_rate                 0.4232      0.006     65.477      0.000       0.411       0.436\n",
       "annual_inc              -0.1820      0.007    -25.089      0.000      -0.196      -0.168\n",
       "verification_status      0.1420      0.013     11.056      0.000       0.117       0.167\n",
       "dti                      0.1994      0.006     32.464      0.000       0.187       0.211\n",
       "open_acc                 0.1596      0.008     20.609      0.000       0.144       0.175\n",
       "pub_rec                  0.2131      0.028      7.552      0.000       0.158       0.268\n",
       "revol_bal               -0.1436      0.008    -18.381      0.000      -0.159      -0.128\n",
       "revol_util               0.1292      0.007     18.585      0.000       0.116       0.143\n",
       "total_acc               -0.1185      0.008    -15.759      0.000      -0.133      -0.104\n",
       "mort_acc                -0.2067      0.012    -17.523      0.000      -0.230      -0.184\n",
       "pub_rec_bankruptcies    -0.1995      0.031     -6.356      0.000      -0.261      -0.138\n",
       "========================================================================================\n",
       "\"\"\""
      ]
     },
     "execution_count": 96,
     "metadata": {},
     "output_type": "execute_result"
    }
   ],
   "source": [
    "dropcols(X_train2, ['emp_length', 'sub_grade', 'installment', 'purpose', 'grade', 'home_ownership'])\n",
    "\n",
    "# Logistic regression model\n",
    "logm2 = sm.GLM(y_train,(sm.add_constant(X_train2)), family = sm.families.Binomial())\n",
    "logm2.fit().summary()"
   ]
  },
  {
   "cell_type": "code",
   "execution_count": 97,
   "id": "ae8173c7-9d7f-4056-b15a-9cfd3770d437",
   "metadata": {},
   "outputs": [
    {
     "data": {
      "text/html": [
       "<div>\n",
       "<style scoped>\n",
       "    .dataframe tbody tr th:only-of-type {\n",
       "        vertical-align: middle;\n",
       "    }\n",
       "\n",
       "    .dataframe tbody tr th {\n",
       "        vertical-align: top;\n",
       "    }\n",
       "\n",
       "    .dataframe thead th {\n",
       "        text-align: right;\n",
       "    }\n",
       "</style>\n",
       "<table border=\"1\" class=\"dataframe\">\n",
       "  <thead>\n",
       "    <tr style=\"text-align: right;\">\n",
       "      <th></th>\n",
       "      <th>Features</th>\n",
       "      <th>VIF</th>\n",
       "    </tr>\n",
       "  </thead>\n",
       "  <tbody>\n",
       "    <tr>\n",
       "      <th>7</th>\n",
       "      <td>pub_rec</td>\n",
       "      <td>4.93</td>\n",
       "    </tr>\n",
       "    <tr>\n",
       "      <th>12</th>\n",
       "      <td>pub_rec_bankruptcies</td>\n",
       "      <td>4.72</td>\n",
       "    </tr>\n",
       "    <tr>\n",
       "      <th>11</th>\n",
       "      <td>mort_acc</td>\n",
       "      <td>2.14</td>\n",
       "    </tr>\n",
       "    <tr>\n",
       "      <th>4</th>\n",
       "      <td>verification_status</td>\n",
       "      <td>2.12</td>\n",
       "    </tr>\n",
       "    <tr>\n",
       "      <th>8</th>\n",
       "      <td>revol_bal</td>\n",
       "      <td>2.11</td>\n",
       "    </tr>\n",
       "    <tr>\n",
       "      <th>6</th>\n",
       "      <td>open_acc</td>\n",
       "      <td>2.06</td>\n",
       "    </tr>\n",
       "    <tr>\n",
       "      <th>1</th>\n",
       "      <td>term</td>\n",
       "      <td>1.88</td>\n",
       "    </tr>\n",
       "    <tr>\n",
       "      <th>10</th>\n",
       "      <td>total_acc</td>\n",
       "      <td>1.87</td>\n",
       "    </tr>\n",
       "    <tr>\n",
       "      <th>0</th>\n",
       "      <td>loan_amnt</td>\n",
       "      <td>1.76</td>\n",
       "    </tr>\n",
       "    <tr>\n",
       "      <th>9</th>\n",
       "      <td>revol_util</td>\n",
       "      <td>1.74</td>\n",
       "    </tr>\n",
       "    <tr>\n",
       "      <th>3</th>\n",
       "      <td>annual_inc</td>\n",
       "      <td>1.70</td>\n",
       "    </tr>\n",
       "    <tr>\n",
       "      <th>2</th>\n",
       "      <td>int_rate</td>\n",
       "      <td>1.52</td>\n",
       "    </tr>\n",
       "    <tr>\n",
       "      <th>5</th>\n",
       "      <td>dti</td>\n",
       "      <td>1.41</td>\n",
       "    </tr>\n",
       "  </tbody>\n",
       "</table>\n",
       "</div>"
      ],
      "text/plain": [
       "                Features   VIF\n",
       "7                pub_rec  4.93\n",
       "12  pub_rec_bankruptcies  4.72\n",
       "11              mort_acc  2.14\n",
       "4    verification_status  2.12\n",
       "8              revol_bal  2.11\n",
       "6               open_acc  2.06\n",
       "1                   term  1.88\n",
       "10             total_acc  1.87\n",
       "0              loan_amnt  1.76\n",
       "9             revol_util  1.74\n",
       "3             annual_inc  1.70\n",
       "2               int_rate  1.52\n",
       "5                    dti  1.41"
      ]
     },
     "execution_count": 97,
     "metadata": {},
     "output_type": "execute_result"
    }
   ],
   "source": [
    "showVif(X_train2)"
   ]
  },
  {
   "cell_type": "markdown",
   "id": "7c4d3aed-3db9-47fd-a08e-bf9a5de76248",
   "metadata": {},
   "source": [
    "**Observations**\n",
    "\n",
    "1. The initial model included all the predictor variables and exhibited very high multi-collinearity (VIF > 5 for several features). We incremently removed features with high VIF values and build several versions of models. \n",
    "\n",
    "2. After excluding 'emp_length', 'sub_grade', 'installment', 'purpose', 'grade', 'home_ownership', we are able to bring VIF values for all remaining features < 5."
   ]
  },
  {
   "cell_type": "markdown",
   "id": "c8094d01-72f9-4c13-93cb-742386a77ac5",
   "metadata": {},
   "source": [
    "## Model evaluation"
   ]
  },
  {
   "cell_type": "markdown",
   "id": "8dcd78d2-140c-42a0-96b3-374458d761df",
   "metadata": {},
   "source": [
    "### Building final model using sklearn"
   ]
  },
  {
   "cell_type": "code",
   "execution_count": 98,
   "id": "f95ff317-1e5b-4723-a450-38231700545c",
   "metadata": {},
   "outputs": [
    {
     "data": {
      "text/html": [
       "<style>#sk-container-id-1 {color: black;background-color: white;}#sk-container-id-1 pre{padding: 0;}#sk-container-id-1 div.sk-toggleable {background-color: white;}#sk-container-id-1 label.sk-toggleable__label {cursor: pointer;display: block;width: 100%;margin-bottom: 0;padding: 0.3em;box-sizing: border-box;text-align: center;}#sk-container-id-1 label.sk-toggleable__label-arrow:before {content: \"▸\";float: left;margin-right: 0.25em;color: #696969;}#sk-container-id-1 label.sk-toggleable__label-arrow:hover:before {color: black;}#sk-container-id-1 div.sk-estimator:hover label.sk-toggleable__label-arrow:before {color: black;}#sk-container-id-1 div.sk-toggleable__content {max-height: 0;max-width: 0;overflow: hidden;text-align: left;background-color: #f0f8ff;}#sk-container-id-1 div.sk-toggleable__content pre {margin: 0.2em;color: black;border-radius: 0.25em;background-color: #f0f8ff;}#sk-container-id-1 input.sk-toggleable__control:checked~div.sk-toggleable__content {max-height: 200px;max-width: 100%;overflow: auto;}#sk-container-id-1 input.sk-toggleable__control:checked~label.sk-toggleable__label-arrow:before {content: \"▾\";}#sk-container-id-1 div.sk-estimator input.sk-toggleable__control:checked~label.sk-toggleable__label {background-color: #d4ebff;}#sk-container-id-1 div.sk-label input.sk-toggleable__control:checked~label.sk-toggleable__label {background-color: #d4ebff;}#sk-container-id-1 input.sk-hidden--visually {border: 0;clip: rect(1px 1px 1px 1px);clip: rect(1px, 1px, 1px, 1px);height: 1px;margin: -1px;overflow: hidden;padding: 0;position: absolute;width: 1px;}#sk-container-id-1 div.sk-estimator {font-family: monospace;background-color: #f0f8ff;border: 1px dotted black;border-radius: 0.25em;box-sizing: border-box;margin-bottom: 0.5em;}#sk-container-id-1 div.sk-estimator:hover {background-color: #d4ebff;}#sk-container-id-1 div.sk-parallel-item::after {content: \"\";width: 100%;border-bottom: 1px solid gray;flex-grow: 1;}#sk-container-id-1 div.sk-label:hover label.sk-toggleable__label {background-color: #d4ebff;}#sk-container-id-1 div.sk-serial::before {content: \"\";position: absolute;border-left: 1px solid gray;box-sizing: border-box;top: 0;bottom: 0;left: 50%;z-index: 0;}#sk-container-id-1 div.sk-serial {display: flex;flex-direction: column;align-items: center;background-color: white;padding-right: 0.2em;padding-left: 0.2em;position: relative;}#sk-container-id-1 div.sk-item {position: relative;z-index: 1;}#sk-container-id-1 div.sk-parallel {display: flex;align-items: stretch;justify-content: center;background-color: white;position: relative;}#sk-container-id-1 div.sk-item::before, #sk-container-id-1 div.sk-parallel-item::before {content: \"\";position: absolute;border-left: 1px solid gray;box-sizing: border-box;top: 0;bottom: 0;left: 50%;z-index: -1;}#sk-container-id-1 div.sk-parallel-item {display: flex;flex-direction: column;z-index: 1;position: relative;background-color: white;}#sk-container-id-1 div.sk-parallel-item:first-child::after {align-self: flex-end;width: 50%;}#sk-container-id-1 div.sk-parallel-item:last-child::after {align-self: flex-start;width: 50%;}#sk-container-id-1 div.sk-parallel-item:only-child::after {width: 0;}#sk-container-id-1 div.sk-dashed-wrapped {border: 1px dashed gray;margin: 0 0.4em 0.5em 0.4em;box-sizing: border-box;padding-bottom: 0.4em;background-color: white;}#sk-container-id-1 div.sk-label label {font-family: monospace;font-weight: bold;display: inline-block;line-height: 1.2em;}#sk-container-id-1 div.sk-label-container {text-align: center;}#sk-container-id-1 div.sk-container {/* jupyter's `normalize.less` sets `[hidden] { display: none; }` but bootstrap.min.css set `[hidden] { display: none !important; }` so we also need the `!important` here to be able to override the default hidden behavior on the sphinx rendered scikit-learn.org. See: https://github.com/scikit-learn/scikit-learn/issues/21755 */display: inline-block !important;position: relative;}#sk-container-id-1 div.sk-text-repr-fallback {display: none;}</style><div id=\"sk-container-id-1\" class=\"sk-top-container\"><div class=\"sk-text-repr-fallback\"><pre>LogisticRegression(class_weight=&#x27;balanced&#x27;)</pre><b>In a Jupyter environment, please rerun this cell to show the HTML representation or trust the notebook. <br />On GitHub, the HTML representation is unable to render, please try loading this page with nbviewer.org.</b></div><div class=\"sk-container\" hidden><div class=\"sk-item\"><div class=\"sk-estimator sk-toggleable\"><input class=\"sk-toggleable__control sk-hidden--visually\" id=\"sk-estimator-id-1\" type=\"checkbox\" checked><label for=\"sk-estimator-id-1\" class=\"sk-toggleable__label sk-toggleable__label-arrow\">LogisticRegression</label><div class=\"sk-toggleable__content\"><pre>LogisticRegression(class_weight=&#x27;balanced&#x27;)</pre></div></div></div></div></div>"
      ],
      "text/plain": [
       "LogisticRegression(class_weight='balanced')"
      ]
     },
     "execution_count": 98,
     "metadata": {},
     "output_type": "execute_result"
    }
   ],
   "source": [
    "from sklearn.linear_model import LogisticRegression\n",
    "from sklearn import metrics\n",
    "logsk = LogisticRegression(class_weight=\"balanced\")\n",
    "logsk.fit(X_train2, y_train)"
   ]
  },
  {
   "cell_type": "markdown",
   "id": "ae455fb8-a9cb-4055-a5fa-24d0fd97dcc7",
   "metadata": {},
   "source": [
    "### Preparing test data"
   ]
  },
  {
   "cell_type": "code",
   "execution_count": 99,
   "id": "5374f4d4-6383-4f1b-88b6-60f6af1ac407",
   "metadata": {},
   "outputs": [],
   "source": [
    "# Drop unnecessary columns from x_test\n",
    "colstodrop = ['emp_title', 'title', 'earliest_cr_line', 'address', 'application_type', 'initial_list_status', 'issue_d', 'issue_d_mon', 'issue_d_qt'] + ['emp_length', 'sub_grade', 'installment', 'purpose', 'grade', 'home_ownership']\n",
    "dropcols(X_test, colstodrop)\n",
    "\n",
    "# transform all features (using params fit during training)\n",
    "transformation_helper.transform_all(X_test)\n",
    "y_test = transformation_helper.transform(y_test)"
   ]
  },
  {
   "cell_type": "code",
   "execution_count": 100,
   "id": "12724927-de54-4900-886d-6106044dad2d",
   "metadata": {},
   "outputs": [
    {
     "data": {
      "text/html": [
       "<div>\n",
       "<style scoped>\n",
       "    .dataframe tbody tr th:only-of-type {\n",
       "        vertical-align: middle;\n",
       "    }\n",
       "\n",
       "    .dataframe tbody tr th {\n",
       "        vertical-align: top;\n",
       "    }\n",
       "\n",
       "    .dataframe thead th {\n",
       "        text-align: right;\n",
       "    }\n",
       "</style>\n",
       "<table border=\"1\" class=\"dataframe\">\n",
       "  <thead>\n",
       "    <tr style=\"text-align: right;\">\n",
       "      <th></th>\n",
       "      <th>count</th>\n",
       "      <th>mean</th>\n",
       "      <th>std</th>\n",
       "      <th>min</th>\n",
       "      <th>25%</th>\n",
       "      <th>50%</th>\n",
       "      <th>75%</th>\n",
       "      <th>max</th>\n",
       "    </tr>\n",
       "  </thead>\n",
       "  <tbody>\n",
       "    <tr>\n",
       "      <th>loan_amnt</th>\n",
       "      <td>61441.0</td>\n",
       "      <td>-0.007584</td>\n",
       "      <td>1.000052</td>\n",
       "      <td>-1.637378</td>\n",
       "      <td>-0.756814</td>\n",
       "      <td>-0.253635</td>\n",
       "      <td>0.636364</td>\n",
       "      <td>2.765442</td>\n",
       "    </tr>\n",
       "    <tr>\n",
       "      <th>term</th>\n",
       "      <td>61441.0</td>\n",
       "      <td>0.230432</td>\n",
       "      <td>0.421113</td>\n",
       "      <td>0.000000</td>\n",
       "      <td>0.000000</td>\n",
       "      <td>0.000000</td>\n",
       "      <td>0.000000</td>\n",
       "      <td>1.000000</td>\n",
       "    </tr>\n",
       "    <tr>\n",
       "      <th>int_rate</th>\n",
       "      <td>61441.0</td>\n",
       "      <td>-0.003236</td>\n",
       "      <td>0.996886</td>\n",
       "      <td>-1.913010</td>\n",
       "      <td>-0.683668</td>\n",
       "      <td>-0.091679</td>\n",
       "      <td>0.643204</td>\n",
       "      <td>2.775272</td>\n",
       "    </tr>\n",
       "    <tr>\n",
       "      <th>annual_inc</th>\n",
       "      <td>61441.0</td>\n",
       "      <td>-0.009212</td>\n",
       "      <td>0.996778</td>\n",
       "      <td>-2.780766</td>\n",
       "      <td>-0.724794</td>\n",
       "      <td>-0.013606</td>\n",
       "      <td>0.640966</td>\n",
       "      <td>2.891127</td>\n",
       "    </tr>\n",
       "    <tr>\n",
       "      <th>verification_status</th>\n",
       "      <td>61441.0</td>\n",
       "      <td>0.668300</td>\n",
       "      <td>0.470828</td>\n",
       "      <td>0.000000</td>\n",
       "      <td>0.000000</td>\n",
       "      <td>1.000000</td>\n",
       "      <td>1.000000</td>\n",
       "      <td>1.000000</td>\n",
       "    </tr>\n",
       "    <tr>\n",
       "      <th>dti</th>\n",
       "      <td>61441.0</td>\n",
       "      <td>-0.006333</td>\n",
       "      <td>0.997355</td>\n",
       "      <td>-2.205999</td>\n",
       "      <td>-0.753820</td>\n",
       "      <td>-0.072133</td>\n",
       "      <td>0.690855</td>\n",
       "      <td>2.923534</td>\n",
       "    </tr>\n",
       "    <tr>\n",
       "      <th>open_acc</th>\n",
       "      <td>61441.0</td>\n",
       "      <td>-0.004110</td>\n",
       "      <td>1.003795</td>\n",
       "      <td>-2.331353</td>\n",
       "      <td>-0.644118</td>\n",
       "      <td>0.131051</td>\n",
       "      <td>0.718079</td>\n",
       "      <td>2.730351</td>\n",
       "    </tr>\n",
       "    <tr>\n",
       "      <th>pub_rec</th>\n",
       "      <td>61441.0</td>\n",
       "      <td>0.157940</td>\n",
       "      <td>0.364688</td>\n",
       "      <td>0.000000</td>\n",
       "      <td>0.000000</td>\n",
       "      <td>0.000000</td>\n",
       "      <td>0.000000</td>\n",
       "      <td>1.000000</td>\n",
       "    </tr>\n",
       "    <tr>\n",
       "      <th>revol_bal</th>\n",
       "      <td>61441.0</td>\n",
       "      <td>-0.005894</td>\n",
       "      <td>0.999149</td>\n",
       "      <td>-2.671586</td>\n",
       "      <td>-0.722535</td>\n",
       "      <td>-0.075985</td>\n",
       "      <td>0.681780</td>\n",
       "      <td>2.353118</td>\n",
       "    </tr>\n",
       "    <tr>\n",
       "      <th>revol_util</th>\n",
       "      <td>61441.0</td>\n",
       "      <td>-0.005982</td>\n",
       "      <td>0.996568</td>\n",
       "      <td>-2.275018</td>\n",
       "      <td>-0.734174</td>\n",
       "      <td>0.025694</td>\n",
       "      <td>0.764455</td>\n",
       "      <td>2.925859</td>\n",
       "    </tr>\n",
       "    <tr>\n",
       "      <th>total_acc</th>\n",
       "      <td>61441.0</td>\n",
       "      <td>-0.009413</td>\n",
       "      <td>0.999464</td>\n",
       "      <td>-1.969422</td>\n",
       "      <td>-0.753098</td>\n",
       "      <td>-0.098154</td>\n",
       "      <td>0.650353</td>\n",
       "      <td>2.989439</td>\n",
       "    </tr>\n",
       "    <tr>\n",
       "      <th>mort_acc</th>\n",
       "      <td>61441.0</td>\n",
       "      <td>0.592259</td>\n",
       "      <td>0.491419</td>\n",
       "      <td>0.000000</td>\n",
       "      <td>0.000000</td>\n",
       "      <td>1.000000</td>\n",
       "      <td>1.000000</td>\n",
       "      <td>1.000000</td>\n",
       "    </tr>\n",
       "    <tr>\n",
       "      <th>pub_rec_bankruptcies</th>\n",
       "      <td>61441.0</td>\n",
       "      <td>0.123240</td>\n",
       "      <td>0.328715</td>\n",
       "      <td>0.000000</td>\n",
       "      <td>0.000000</td>\n",
       "      <td>0.000000</td>\n",
       "      <td>0.000000</td>\n",
       "      <td>1.000000</td>\n",
       "    </tr>\n",
       "  </tbody>\n",
       "</table>\n",
       "</div>"
      ],
      "text/plain": [
       "                        count      mean       std       min       25%  \\\n",
       "loan_amnt             61441.0 -0.007584  1.000052 -1.637378 -0.756814   \n",
       "term                  61441.0  0.230432  0.421113  0.000000  0.000000   \n",
       "int_rate              61441.0 -0.003236  0.996886 -1.913010 -0.683668   \n",
       "annual_inc            61441.0 -0.009212  0.996778 -2.780766 -0.724794   \n",
       "verification_status   61441.0  0.668300  0.470828  0.000000  0.000000   \n",
       "dti                   61441.0 -0.006333  0.997355 -2.205999 -0.753820   \n",
       "open_acc              61441.0 -0.004110  1.003795 -2.331353 -0.644118   \n",
       "pub_rec               61441.0  0.157940  0.364688  0.000000  0.000000   \n",
       "revol_bal             61441.0 -0.005894  0.999149 -2.671586 -0.722535   \n",
       "revol_util            61441.0 -0.005982  0.996568 -2.275018 -0.734174   \n",
       "total_acc             61441.0 -0.009413  0.999464 -1.969422 -0.753098   \n",
       "mort_acc              61441.0  0.592259  0.491419  0.000000  0.000000   \n",
       "pub_rec_bankruptcies  61441.0  0.123240  0.328715  0.000000  0.000000   \n",
       "\n",
       "                           50%       75%       max  \n",
       "loan_amnt            -0.253635  0.636364  2.765442  \n",
       "term                  0.000000  0.000000  1.000000  \n",
       "int_rate             -0.091679  0.643204  2.775272  \n",
       "annual_inc           -0.013606  0.640966  2.891127  \n",
       "verification_status   1.000000  1.000000  1.000000  \n",
       "dti                  -0.072133  0.690855  2.923534  \n",
       "open_acc              0.131051  0.718079  2.730351  \n",
       "pub_rec               0.000000  0.000000  1.000000  \n",
       "revol_bal            -0.075985  0.681780  2.353118  \n",
       "revol_util            0.025694  0.764455  2.925859  \n",
       "total_acc            -0.098154  0.650353  2.989439  \n",
       "mort_acc              1.000000  1.000000  1.000000  \n",
       "pub_rec_bankruptcies  0.000000  0.000000  1.000000  "
      ]
     },
     "execution_count": 100,
     "metadata": {},
     "output_type": "execute_result"
    }
   ],
   "source": [
    "X_test.describe().T"
   ]
  },
  {
   "cell_type": "markdown",
   "id": "2371b60a-6288-4906-9d81-dd3caf9acf46",
   "metadata": {},
   "source": [
    "### Prediction on test data"
   ]
  },
  {
   "cell_type": "code",
   "execution_count": 101,
   "id": "93b7b6e5-14a2-4dab-a89f-50a5ae9b9452",
   "metadata": {},
   "outputs": [],
   "source": [
    "y_pred_arr = logsk.predict_proba(X_test) #probablity of NOT defaulting (being creditworthy)\n",
    "y_pred = y_pred_arr[:,1]"
   ]
  },
  {
   "cell_type": "markdown",
   "id": "cd3a0741-e528-4b4e-a3aa-f41c1237d4ec",
   "metadata": {},
   "source": [
    "### ROC curve\n",
    "\n",
    "An ROC curve demonstrates several things:\n",
    "\n",
    "- It shows the tradeoff between sensitivity and specificity (any increase in sensitivity will be accompanied by a decrease in specificity).\n",
    "- The closer the curve follows the left-hand border and then the top border of the ROC space, the more accurate the test.\n",
    "- The closer the curve comes to the 45-degree diagonal of the ROC space, the less accurate the test."
   ]
  },
  {
   "cell_type": "code",
   "execution_count": 102,
   "id": "76a20adb-ef54-4172-96e8-db140205b680",
   "metadata": {},
   "outputs": [],
   "source": [
    "from sklearn import metrics\n",
    "    \n",
    "def draw_roc( actual, probs ):\n",
    "    fpr, tpr, thresholds = metrics.roc_curve( actual, probs,\n",
    "                                              drop_intermediate = False )\n",
    "    auc_score = metrics.roc_auc_score( actual, probs )\n",
    "    plt.figure(figsize=(6, 4))\n",
    "    plt.plot( fpr, tpr, label='ROC curve (area = %0.2f)' % auc_score )\n",
    "    plt.plot([0, 1], [0, 1], 'k--')\n",
    "    plt.xlim([0.0, 1.0])\n",
    "    plt.ylim([0.0, 1.05])\n",
    "    plt.xlabel('False Positive Rate or [1 - True Negative Rate]')\n",
    "    plt.ylabel('True Positive Rate')\n",
    "    plt.title('Receiver operating characteristic example')\n",
    "    plt.legend(loc=\"lower right\")\n",
    "    plt.show()\n",
    "\n",
    "    return fpr, tpr, thresholds"
   ]
  },
  {
   "cell_type": "code",
   "execution_count": 103,
   "id": "0474ec4b-e8e8-4263-9640-52592ebf7000",
   "metadata": {},
   "outputs": [
    {
     "data": {
      "image/png": "[encoded data removed]",
      "text/plain": [
       "<Figure size 432x288 with 1 Axes>"
      ]
     },
     "metadata": {
      "needs_background": "light"
     },
     "output_type": "display_data"
    }
   ],
   "source": [
    "fpr, tpr, thresholds = draw_roc(y_test, y_pred)"
   ]
  },
  {
   "cell_type": "markdown",
   "id": "0823b13d-8ecc-4d36-96f8-60a7c13074de",
   "metadata": {},
   "source": [
    "### Finding optimal cutoff\n",
    "\n",
    "Optimal cutoff probability is that prob where we get balanced sensitivity and specificity"
   ]
  },
  {
   "cell_type": "code",
   "execution_count": 104,
   "id": "8567a155-7641-44ce-96fe-3a335cfae787",
   "metadata": {},
   "outputs": [],
   "source": [
    "from sklearn.metrics import confusion_matrix\n",
    "\n",
    "# define function to compute classification metrics\n",
    "def classification_metrics(y, y_pred, thr):\n",
    "    y_hat = list(map(lambda p: 1 if (p>=thr) else 0, y_pred))\n",
    "    cm = metrics.confusion_matrix(y, y_hat)\n",
    "    \n",
    "    TP = cm[1][1]\n",
    "    TN = cm[0][0]\n",
    "    FP = cm[0][1]\n",
    "    FN = cm[1][0]\n",
    "    P = TP + FN\n",
    "    N = TN + FP\n",
    "    \n",
    "    acc = (TP + TN) / float(P + N + 0.001)\n",
    "    prec = (TP) / float(TP + FP + 0.001)\n",
    "    sens = (TP) / float(P + 0.001)\n",
    "    spec = (TN) / float(N + 0.001)\n",
    "    f1 = 2*prec*sens / (prec + sens + 0.001)\n",
    "    \n",
    "    return (acc, prec, sens, spec, f1)"
   ]
  },
  {
   "cell_type": "code",
   "execution_count": 105,
   "id": "27751ef3-77b2-4d28-9db6-0a1d8847824d",
   "metadata": {},
   "outputs": [
    {
     "data": {
      "text/html": [
       "<div>\n",
       "<style scoped>\n",
       "    .dataframe tbody tr th:only-of-type {\n",
       "        vertical-align: middle;\n",
       "    }\n",
       "\n",
       "    .dataframe tbody tr th {\n",
       "        vertical-align: top;\n",
       "    }\n",
       "\n",
       "    .dataframe thead th {\n",
       "        text-align: right;\n",
       "    }\n",
       "</style>\n",
       "<table border=\"1\" class=\"dataframe\">\n",
       "  <thead>\n",
       "    <tr style=\"text-align: right;\">\n",
       "      <th></th>\n",
       "      <th>threshold</th>\n",
       "      <th>acc</th>\n",
       "      <th>precision</th>\n",
       "      <th>sensitivity</th>\n",
       "      <th>specificity</th>\n",
       "      <th>f1</th>\n",
       "    </tr>\n",
       "  </thead>\n",
       "  <tbody>\n",
       "    <tr>\n",
       "      <th>0</th>\n",
       "      <td>0.00</td>\n",
       "      <td>0.199150</td>\n",
       "      <td>0.199150</td>\n",
       "      <td>1.000000</td>\n",
       "      <td>0.000000</td>\n",
       "      <td>0.331876</td>\n",
       "    </tr>\n",
       "    <tr>\n",
       "      <th>1</th>\n",
       "      <td>0.05</td>\n",
       "      <td>0.199150</td>\n",
       "      <td>0.199150</td>\n",
       "      <td>1.000000</td>\n",
       "      <td>0.000000</td>\n",
       "      <td>0.331876</td>\n",
       "    </tr>\n",
       "    <tr>\n",
       "      <th>2</th>\n",
       "      <td>0.10</td>\n",
       "      <td>0.199834</td>\n",
       "      <td>0.199277</td>\n",
       "      <td>0.999918</td>\n",
       "      <td>0.000874</td>\n",
       "      <td>0.332047</td>\n",
       "    </tr>\n",
       "    <tr>\n",
       "      <th>3</th>\n",
       "      <td>0.15</td>\n",
       "      <td>0.211911</td>\n",
       "      <td>0.201469</td>\n",
       "      <td>0.997875</td>\n",
       "      <td>0.016462</td>\n",
       "      <td>0.334971</td>\n",
       "    </tr>\n",
       "    <tr>\n",
       "      <th>4</th>\n",
       "      <td>0.20</td>\n",
       "      <td>0.249849</td>\n",
       "      <td>0.208407</td>\n",
       "      <td>0.988722</td>\n",
       "      <td>0.066111</td>\n",
       "      <td>0.343963</td>\n",
       "    </tr>\n",
       "    <tr>\n",
       "      <th>5</th>\n",
       "      <td>0.25</td>\n",
       "      <td>0.309907</td>\n",
       "      <td>0.219905</td>\n",
       "      <td>0.967718</td>\n",
       "      <td>0.146327</td>\n",
       "      <td>0.358071</td>\n",
       "    </tr>\n",
       "    <tr>\n",
       "      <th>6</th>\n",
       "      <td>0.30</td>\n",
       "      <td>0.378444</td>\n",
       "      <td>0.233985</td>\n",
       "      <td>0.932821</td>\n",
       "      <td>0.240585</td>\n",
       "      <td>0.373805</td>\n",
       "    </tr>\n",
       "    <tr>\n",
       "      <th>7</th>\n",
       "      <td>0.35</td>\n",
       "      <td>0.453004</td>\n",
       "      <td>0.250956</td>\n",
       "      <td>0.880026</td>\n",
       "      <td>0.346814</td>\n",
       "      <td>0.390196</td>\n",
       "    </tr>\n",
       "    <tr>\n",
       "      <th>8</th>\n",
       "      <td>0.40</td>\n",
       "      <td>0.527172</td>\n",
       "      <td>0.270844</td>\n",
       "      <td>0.812112</td>\n",
       "      <td>0.456315</td>\n",
       "      <td>0.405839</td>\n",
       "    </tr>\n",
       "    <tr>\n",
       "      <th>9</th>\n",
       "      <td>0.45</td>\n",
       "      <td>0.595498</td>\n",
       "      <td>0.293144</td>\n",
       "      <td>0.730631</td>\n",
       "      <td>0.561894</td>\n",
       "      <td>0.418004</td>\n",
       "    </tr>\n",
       "    <tr>\n",
       "      <th>10</th>\n",
       "      <td>0.50</td>\n",
       "      <td>0.655832</td>\n",
       "      <td>0.318237</td>\n",
       "      <td>0.637463</td>\n",
       "      <td>0.660400</td>\n",
       "      <td>0.424092</td>\n",
       "    </tr>\n",
       "    <tr>\n",
       "      <th>11</th>\n",
       "      <td>0.55</td>\n",
       "      <td>0.704757</td>\n",
       "      <td>0.344958</td>\n",
       "      <td>0.536777</td>\n",
       "      <td>0.746530</td>\n",
       "      <td>0.419527</td>\n",
       "    </tr>\n",
       "    <tr>\n",
       "      <th>12</th>\n",
       "      <td>0.60</td>\n",
       "      <td>0.744112</td>\n",
       "      <td>0.376330</td>\n",
       "      <td>0.433475</td>\n",
       "      <td>0.821360</td>\n",
       "      <td>0.402390</td>\n",
       "    </tr>\n",
       "    <tr>\n",
       "      <th>13</th>\n",
       "      <td>0.65</td>\n",
       "      <td>0.770756</td>\n",
       "      <td>0.407374</td>\n",
       "      <td>0.332298</td>\n",
       "      <td>0.879789</td>\n",
       "      <td>0.365532</td>\n",
       "    </tr>\n",
       "    <tr>\n",
       "      <th>14</th>\n",
       "      <td>0.70</td>\n",
       "      <td>0.788024</td>\n",
       "      <td>0.440049</td>\n",
       "      <td>0.236352</td>\n",
       "      <td>0.925211</td>\n",
       "      <td>0.307075</td>\n",
       "    </tr>\n",
       "    <tr>\n",
       "      <th>15</th>\n",
       "      <td>0.75</td>\n",
       "      <td>0.798994</td>\n",
       "      <td>0.485562</td>\n",
       "      <td>0.156669</td>\n",
       "      <td>0.958724</td>\n",
       "      <td>0.236532</td>\n",
       "    </tr>\n",
       "    <tr>\n",
       "      <th>16</th>\n",
       "      <td>0.80</td>\n",
       "      <td>0.802868</td>\n",
       "      <td>0.533190</td>\n",
       "      <td>0.081399</td>\n",
       "      <td>0.982278</td>\n",
       "      <td>0.141007</td>\n",
       "    </tr>\n",
       "    <tr>\n",
       "      <th>17</th>\n",
       "      <td>0.85</td>\n",
       "      <td>0.802249</td>\n",
       "      <td>0.579335</td>\n",
       "      <td>0.025662</td>\n",
       "      <td>0.995366</td>\n",
       "      <td>0.049066</td>\n",
       "    </tr>\n",
       "    <tr>\n",
       "      <th>18</th>\n",
       "      <td>0.90</td>\n",
       "      <td>0.801029</td>\n",
       "      <td>0.657124</td>\n",
       "      <td>0.001880</td>\n",
       "      <td>0.999756</td>\n",
       "      <td>0.003743</td>\n",
       "    </tr>\n",
       "    <tr>\n",
       "      <th>19</th>\n",
       "      <td>0.95</td>\n",
       "      <td>0.800850</td>\n",
       "      <td>0.000000</td>\n",
       "      <td>0.000000</td>\n",
       "      <td>1.000000</td>\n",
       "      <td>0.000000</td>\n",
       "    </tr>\n",
       "    <tr>\n",
       "      <th>20</th>\n",
       "      <td>1.00</td>\n",
       "      <td>0.800850</td>\n",
       "      <td>0.000000</td>\n",
       "      <td>0.000000</td>\n",
       "      <td>1.000000</td>\n",
       "      <td>0.000000</td>\n",
       "    </tr>\n",
       "  </tbody>\n",
       "</table>\n",
       "</div>"
      ],
      "text/plain": [
       "    threshold       acc  precision  sensitivity  specificity        f1\n",
       "0        0.00  0.199150   0.199150     1.000000     0.000000  0.331876\n",
       "1        0.05  0.199150   0.199150     1.000000     0.000000  0.331876\n",
       "2        0.10  0.199834   0.199277     0.999918     0.000874  0.332047\n",
       "3        0.15  0.211911   0.201469     0.997875     0.016462  0.334971\n",
       "4        0.20  0.249849   0.208407     0.988722     0.066111  0.343963\n",
       "5        0.25  0.309907   0.219905     0.967718     0.146327  0.358071\n",
       "6        0.30  0.378444   0.233985     0.932821     0.240585  0.373805\n",
       "7        0.35  0.453004   0.250956     0.880026     0.346814  0.390196\n",
       "8        0.40  0.527172   0.270844     0.812112     0.456315  0.405839\n",
       "9        0.45  0.595498   0.293144     0.730631     0.561894  0.418004\n",
       "10       0.50  0.655832   0.318237     0.637463     0.660400  0.424092\n",
       "11       0.55  0.704757   0.344958     0.536777     0.746530  0.419527\n",
       "12       0.60  0.744112   0.376330     0.433475     0.821360  0.402390\n",
       "13       0.65  0.770756   0.407374     0.332298     0.879789  0.365532\n",
       "14       0.70  0.788024   0.440049     0.236352     0.925211  0.307075\n",
       "15       0.75  0.798994   0.485562     0.156669     0.958724  0.236532\n",
       "16       0.80  0.802868   0.533190     0.081399     0.982278  0.141007\n",
       "17       0.85  0.802249   0.579335     0.025662     0.995366  0.049066\n",
       "18       0.90  0.801029   0.657124     0.001880     0.999756  0.003743\n",
       "19       0.95  0.800850   0.000000     0.000000     1.000000  0.000000\n",
       "20       1.00  0.800850   0.000000     0.000000     1.000000  0.000000"
      ]
     },
     "execution_count": 105,
     "metadata": {},
     "output_type": "execute_result"
    }
   ],
   "source": [
    "num = np.linspace(0,1,21)\n",
    "res = []\n",
    "for i in num:\n",
    "    acc, prec, sens, spec, f1 = classification_metrics(y_test, y_pred, i)\n",
    "    res.append([i, acc, prec, sens, spec, f1])\n",
    "    \n",
    "cutoff_df = pd.DataFrame(res, columns=['threshold', 'acc', 'precision', 'sensitivity', 'specificity', 'f1'])\n",
    "cutoff_df"
   ]
  },
  {
   "cell_type": "code",
   "execution_count": 106,
   "id": "afc27803-0e9a-439a-94e2-430034458f5f",
   "metadata": {},
   "outputs": [
    {
     "data": {
      "text/plain": [
       "<AxesSubplot:xlabel='threshold'>"
      ]
     },
     "execution_count": 106,
     "metadata": {},
     "output_type": "execute_result"
    },
    {
     "data": {
      "image/png": "[encoded data removed]",
      "text/plain": [
       "<Figure size 432x288 with 1 Axes>"
      ]
     },
     "metadata": {
      "needs_background": "light"
     },
     "output_type": "display_data"
    }
   ],
   "source": [
    "cutoff_df.plot.line(x='threshold', y=['acc','sensitivity','specificity'])"
   ]
  },
  {
   "cell_type": "markdown",
   "id": "6186bb47-93e0-46a1-9e39-00366e8cd963",
   "metadata": {
    "tags": []
   },
   "source": [
    "**Observation** - \n",
    "\n",
    "1. At threshold value ~0.5, we get close to equal balance of sensitivity(0.63) and specificity(0.67). \n",
    "\n",
    "2. If we wish to take a more conservative approach, we can decrease threshold further (and thus increasing sensitivity). For example, setting threshold of 0.3 will give us sensitivity of 0.93 but it would reduce specificity to 0.24."
   ]
  },
  {
   "cell_type": "code",
   "execution_count": 107,
   "id": "48d77f90-a505-4e59-844e-2f8b52a56c76",
   "metadata": {},
   "outputs": [
    {
     "data": {
      "text/plain": [
       "<AxesSubplot:xlabel='sensitivity', ylabel='precision'>"
      ]
     },
     "execution_count": 107,
     "metadata": {},
     "output_type": "execute_result"
    },
    {
     "data": {
      "image/png": "[encoded data removed]",
      "text/plain": [
       "<Figure size 432x288 with 1 Axes>"
      ]
     },
     "metadata": {
      "needs_background": "light"
     },
     "output_type": "display_data"
    }
   ],
   "source": [
    "### Precision Recall curve\n",
    "\n",
    "sns.lineplot(data=cutoff_df, x='sensitivity', y='precision')"
   ]
  },
  {
   "cell_type": "markdown",
   "id": "cdd6966a-457b-4aae-9f7f-5bd17010b7b9",
   "metadata": {},
   "source": [
    "### Tradeoff Questions:\n",
    "\n",
    "**1. How can we make sure that our model can detect real defaulters and there are less false positives? This is important as we can lose out on an opportunity to finance more individuals and earn interest on it.\n",
    "\n",
    "**Ans:** There is a trade-off between Precision and Recall (sensitivity). Precision metric is a ratio of True positives and total predicted positives; that is TP / (TP + FP). Thus it penalizes FP and increases as TP increases. Recall (or sensitivity), on the other hand, is a ratio of True positives and actual positives; that is TP / (TP + FN). Thus recall penalizes FN and increases as TP increases. As per the question, if we wish to detect real defaulters (that is high TP), and also have less False positives, then we should essentially look for high precision model (as it penalizes FPs and increases with TP). This, however, means that we may have to settle with a low recall model because of precision-recall trade-off.\n",
    "\n",
    "In order to have higher precision, we should set threshold to a higher value (that is more customers will be classified as creditworthy). "
   ]
  },
  {
   "cell_type": "markdown",
   "id": "3376ef2e-ab18-4705-980c-c221c52ba530",
   "metadata": {},
   "source": [
    "**2. Since NPA (non-performing asset) is a real problem in this industry, it’s important we play safe and shouldn’t disburse loans to anyone.**\n",
    "\n",
    "**Ans:** In this scenario, we want to penalize False negatives (that is giving loans to defaulters). Thus our priority is to have a high recall(sensitivity) model. This, however, means that we may have to settle with low precision model.\n",
    "\n",
    "In order to have high recall, we should set threshold to a lower value (that is less customers will be classified as creditworthy, thus reducing false negatives)"
   ]
  },
  {
   "cell_type": "markdown",
   "id": "795c39cb-bf58-4bc2-8bac-a424a774c207",
   "metadata": {},
   "source": [
    "### Questionnaire "
   ]
  },
  {
   "cell_type": "markdown",
   "id": "efa51e8f-0243-4e7f-ad60-c81bd280f5ed",
   "metadata": {},
   "source": [
    "#### 1. What percentage of customers have fully paid their Loan Amount?\n",
    "\n",
    "Ans: Around 80%"
   ]
  },
  {
   "cell_type": "markdown",
   "id": "564f96b1-1ead-4562-9fc8-127ee8fe76f2",
   "metadata": {},
   "source": [
    "#### 2. Comment about the correlation between Loan Amount and Installment features.\n",
    "\n",
    "Ans: There is a strong positive correlation(~0.95) between loan amount and installment features. In our model, therefore we removed installation feature."
   ]
  },
  {
   "cell_type": "markdown",
   "id": "07d16018-3257-4dda-a704-5ec020c76198",
   "metadata": {},
   "source": [
    "#### 3. The majority of people have home ownership as *Mortgage*."
   ]
  },
  {
   "cell_type": "markdown",
   "id": "a2175541-866e-47dd-a958-881e05d9852a",
   "metadata": {},
   "source": [
    "#### 4. People with grades ‘A’ are more likely to fully pay their loan. (T/F)\n",
    "\n",
    "True, as the load grade increase from A to G, the proportion of defaulters also increase. \n"
   ]
  },
  {
   "cell_type": "markdown",
   "id": "c1ed9522-fb4c-4802-a858-5cc30547d293",
   "metadata": {},
   "source": [
    "#### 5. Name the top 2 afforded job titles.\n",
    "\n",
    "Manager and teacher"
   ]
  },
  {
   "cell_type": "markdown",
   "id": "0b38af09-cb1c-45f8-90e4-32da0b93a512",
   "metadata": {},
   "source": [
    "#### 6. Thinking from a bank's perspective, which metric should our primary focus be on..\n",
    "    - ROC AUC\n",
    "    - Precision\n",
    "    - Recall\n",
    "    - F1 Score\n",
    "    \n",
    "Ans: Most bank would prefer to take a conservative approach in giving loans. This means, the model should aim to minimize False negatives (that is giving loans to potential defaulters). Thus, the model should have a high recall. Since we aim for high recall, precision may reduce. Banks who are willing to take more risks (to capitalize on higher interest rates by awarding somewhat riskier loans), can look at F1 score as it balances recall and precision scores. ROC AUC curve is useful in choosing the correct threshold value to achieve appropriate recall/f1 score. \n",
    "\n",
    "Thus, ROC/AUC, Recall, and F1 score are important from a bank's perspective.     "
   ]
  },
  {
   "cell_type": "markdown",
   "id": "2273fd20-e039-4584-901c-a26230e7ce71",
   "metadata": {},
   "source": [
    "#### 7. How does the gap in precision and recall affect the bank?\n",
    "\n",
    "The gap in precision and recall means that bank has to choose between **A.** approving only safer loans, thus reducing NPA, but at the same time missing out on potential business opportunity to charge higher interest rates on somewhat risky loans, and **B**, giving somewhat risky loans to customers at higher interest rates,and thus increasing earning potential, but at the same time, taking the risk of NPAs. \n"
   ]
  },
  {
   "cell_type": "markdown",
   "id": "76e23dc7-0367-47f5-93fa-5550a4a20780",
   "metadata": {},
   "source": [
    "#### 8. Which were the features that heavily affected the outcome?\n",
    "\n",
    "The logistic regression coefficient B associated with a predictor X is the expected change in log odds of having the outcome per unit change in X. So increasing the predictor by 1 unit (or going from 1 level to the next) multiplies the odds of having the outcome by e^B. As per the summary from statsmodel output, **term** and **interest rates** are the two most important features. Other important features include pub_rec, mort_acc, pub_rec_bankruptcies, dti, and annual_inc."
   ]
  },
  {
   "cell_type": "markdown",
   "id": "f4361edc-2529-4c92-956b-a80dd469f47f",
   "metadata": {},
   "source": [
    "#### 9. Will the results be affected by geographical location? (Yes/No)\n",
    "\n",
    "No, There are 54 unique states. The defaulter proportion across all the states hover around 20% mark which is also the overall defaulter proportion. Thus state does not seem like an significant factor in predicting creditworthiness. "
   ]
  },
  {
   "cell_type": "markdown",
   "id": "07840593-14bd-431d-82fc-af305a1fb349",
   "metadata": {},
   "source": [
    "### Insights : Please see observations at the end of each section."
   ]
  },
  {
   "cell_type": "markdown",
   "id": "3386ab32-3eb3-43df-b06b-4329896fa26b",
   "metadata": {},
   "source": [
    "### Business Recommendations\n",
    "\n",
    "1. The model to check creditworthiness of a customer is tunable through a threshold parameter. At threshold value 0.2, the model attempts to find a balance between being too conservative to avoid risky loans and capitalizing on earning potential by giving out higher interest but somewhat risky loans. At lower threshold values, the model will act conservative and thus approving only less risky loans. Given the current uncertainty around economy, the business should consider lower threshold value (say 0.1) for a more conservative approach. \n",
    "\n",
    "2. The average defaulter rate is 20%.\n",
    "\n",
    "3. 60 months term loans are more than twice likely to default than 36 months loans. Similarly, as the loan grade/sub_grade increases, the defaulter rate increases as well. Grade A and B have below average defaulter rate, while the other grades have above average defaulter rate, with grade F and G having more than 50% defaulter rate.\n",
    "\n",
    "4. Higher interest loans, and high amount loans are more likely to default. \n",
    "\n",
    "5. As dti value increases beyond average value of 17, default risk increases. \n",
    "\n",
    "6. Customers who stay on rent or have employment of < 1 year have above average defaulter rate. \n",
    "\n",
    "7. Customers who are needed to be verified (or source verified) have higher defaulter rate than the average defaulter rate. \n"
   ]
  },
  {
   "cell_type": "code",
   "execution_count": null,
   "id": "6e4c8ea9-ae0b-45d2-9544-f656406d2241",
   "metadata": {},
   "outputs": [],
   "source": []
  }
 ],
 "metadata": {
  "kernelspec": {
   "display_name": "Python 3 (ipykernel)",
   "language": "python",
   "name": "python3"
  },
  "language_info": {
   "codemirror_mode": {
    "name": "ipython",
    "version": 3
   },
   "file_extension": ".py",
   "mimetype": "text/x-python",
   "name": "python",
   "nbconvert_exporter": "python",
   "pygments_lexer": "ipython3",
   "version": "3.9.6"
  }
 },
 "nbformat": 4,
 "nbformat_minor": 5
}
