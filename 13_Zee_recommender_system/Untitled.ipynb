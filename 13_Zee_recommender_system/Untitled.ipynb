{
 "cells": [
  {
   "cell_type": "markdown",
   "id": "11108466-0b07-4d63-bfc4-22aec5b49918",
   "metadata": {},
   "source": [
    "# Zee Recommender Systems"
   ]
  },
  {
   "cell_type": "code",
   "execution_count": null,
   "id": "71eeed99-6df9-4a2d-8fc3-e752f425f95b",
   "metadata": {},
   "outputs": [],
   "source": []
  }
 ],
 "metadata": {
  "kernelspec": {
   "display_name": "Python 3 (ipykernel)",
   "language": "python",
   "name": "python3"
  },
  "language_info": {
   "codemirror_mode": {
    "name": "ipython",
    "version": 3
   },
   "file_extension": ".py",
   "mimetype": "text/x-python",
   "name": "python",
   "nbconvert_exporter": "python",
   "pygments_lexer": "ipython3",
   "version": "3.9.13"
  }
 },
 "nbformat": 4,
 "nbformat_minor": 5
}
